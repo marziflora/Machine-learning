{
 "cells": [
  {
   "cell_type": "code",
   "execution_count": 1,
   "metadata": {},
   "outputs": [
    {
     "name": "stderr",
     "output_type": "stream",
     "text": [
      "Using TensorFlow backend.\n"
     ]
    },
    {
     "ename": "ImportError",
     "evalue": "cannot import name 'preprocessing_input' from 'keras.applications.resnet50' (C:\\Anaconda\\lib\\site-packages\\keras\\applications\\resnet50.py)",
     "output_type": "error",
     "traceback": [
      "\u001b[1;31m---------------------------------------------------------------------------\u001b[0m",
      "\u001b[1;31mImportError\u001b[0m                               Traceback (most recent call last)",
      "\u001b[1;32m<ipython-input-1-32cfdb4483f1>\u001b[0m in \u001b[0;36m<module>\u001b[1;34m\u001b[0m\n\u001b[1;32m----> 1\u001b[1;33m \u001b[1;32mfrom\u001b[0m \u001b[0mkeras\u001b[0m\u001b[1;33m.\u001b[0m\u001b[0mapplications\u001b[0m\u001b[1;33m.\u001b[0m\u001b[0mresnet50\u001b[0m \u001b[1;32mimport\u001b[0m \u001b[0mResNet50\u001b[0m\u001b[1;33m,\u001b[0m \u001b[0mdecode_predictions\u001b[0m\u001b[1;33m,\u001b[0m \u001b[0mpreprocessing_input\u001b[0m\u001b[1;33m\u001b[0m\u001b[1;33m\u001b[0m\u001b[0m\n\u001b[0m\u001b[0;32m      2\u001b[0m \u001b[1;32mfrom\u001b[0m \u001b[0mkeras\u001b[0m\u001b[1;33m.\u001b[0m\u001b[0mpreprocessing\u001b[0m \u001b[1;32mimport\u001b[0m \u001b[0mimage\u001b[0m\u001b[1;33m\u001b[0m\u001b[1;33m\u001b[0m\u001b[0m\n\u001b[0;32m      3\u001b[0m \u001b[1;32mimport\u001b[0m \u001b[0mnumpy\u001b[0m \u001b[1;32mas\u001b[0m \u001b[0mnp\u001b[0m\u001b[1;33m\u001b[0m\u001b[1;33m\u001b[0m\u001b[0m\n\u001b[0;32m      4\u001b[0m \u001b[1;33m\u001b[0m\u001b[0m\n\u001b[0;32m      5\u001b[0m \u001b[1;32mimport\u001b[0m \u001b[0mrequests\u001b[0m\u001b[1;33m\u001b[0m\u001b[1;33m\u001b[0m\u001b[0m\n",
      "\u001b[1;31mImportError\u001b[0m: cannot import name 'preprocessing_input' from 'keras.applications.resnet50' (C:\\Anaconda\\lib\\site-packages\\keras\\applications\\resnet50.py)"
     ]
    }
   ],
   "source": [
    "from keras.applications.resnet50 import ResNet50, decode_predictions, preprocessing_input\n",
    "from keras.preprocessing import image\n",
    "import numpy as np\n",
    "\n",
    "import requests\n",
    "from io import BytesIO\n",
    "from PIL import Image"
   ]
  },
  {
   "cell_type": "code",
   "execution_count": null,
   "metadata": {
    "scrolled": true
   },
   "outputs": [],
   "source": [
    "model = ResNet50(weights='imagenet')"
   ]
  },
  {
   "cell_type": "code",
   "execution_count": null,
   "metadata": {},
   "outputs": [],
   "source": [
    "model.summary()"
   ]
  },
  {
   "cell_type": "markdown",
   "metadata": {},
   "source": [
    "![](https://scontent-waw1-1.cdninstagram.com/vp/9558cafe601714eeecd8c145e0ae67ba/5D2A70B1/t51.2885-15/e35/54511923_2195997860494986_5511043221856324675_n.jpg?_nc_ht=scontent-waw1-1.cdninstagram.com)"
   ]
  },
  {
   "cell_type": "code",
   "execution_count": 5,
   "metadata": {
    "scrolled": true
   },
   "outputs": [],
   "source": [
    "url_img = 'https://scontent-waw1-1.cdninstagram.com/vp/9558cafe601714eeecd8c145e0ae67ba/5D2A70B1/t51.2885-15/e35/54511923_2195997860494986_5511043221856324675_n.jpg?_nc_ht=scontent-waw1-1.cdninstagram.com'\n",
    "response = requests.get(url_img)\n",
    "img = Image.open(BytesIO(response.content))\n",
    "img = img.resize( (224, 224))"
   ]
  },
  {
   "cell_type": "markdown",
   "metadata": {},
   "source": [
    "![]('https://static.maxmodels.pl/photos/0/4/1b/041bfb71714425e1b8d734d6fc446a97_483380.jpg')"
   ]
  },
  {
   "cell_type": "code",
   "execution_count": 6,
   "metadata": {
    "scrolled": false
   },
   "outputs": [
    {
     "data": {
      "text/plain": [
       "(1, 224, 224, 3)"
      ]
     },
     "execution_count": 6,
     "metadata": {},
     "output_type": "execute_result"
    }
   ],
   "source": [
    "X =image.img_to_array(img)\n",
    "X = np.expand_dims(X, axis=0)\n",
    "X.shape"
   ]
  },
  {
   "cell_type": "code",
   "execution_count": 7,
   "metadata": {},
   "outputs": [],
   "source": [
    "y_pred = model.predict(X)"
   ]
  },
  {
   "cell_type": "code",
   "execution_count": 9,
   "metadata": {
    "scrolled": false
   },
   "outputs": [
    {
     "data": {
      "text/plain": [
       "[[('n03843555', 'oil_filter', 0.3024841),\n",
       "  ('n04069434', 'reflex_camera', 0.06921576),\n",
       "  ('n04074963', 'remote_control', 0.041342422),\n",
       "  ('n04009552', 'projector', 0.03951195),\n",
       "  ('n03777754', 'modem', 0.028221356),\n",
       "  ('n02988304', 'CD_player', 0.026699882),\n",
       "  ('n02979186', 'cassette_player', 0.023774557),\n",
       "  ('n03976467', 'Polaroid_camera', 0.020041589),\n",
       "  ('n03692522', 'loupe', 0.019119289),\n",
       "  ('n04493381', 'tub', 0.016583828),\n",
       "  ('n04131690', 'saltshaker', 0.015704092),\n",
       "  ('n03623198', 'knee_pad', 0.015535282),\n",
       "  ('n02992529', 'cellular_telephone', 0.015528609),\n",
       "  ('n03666591', 'lighter', 0.015281833),\n",
       "  ('n02951585', 'can_opener', 0.014449403),\n",
       "  ('n02808440', 'bathtub', 0.013140851),\n",
       "  ('n04372370', 'switch', 0.011400551),\n",
       "  ('n03492542', 'hard_disc', 0.011111627),\n",
       "  ('n04423845', 'thimble', 0.010190604),\n",
       "  ('n04560804', 'water_jug', 0.00955962)]]"
      ]
     },
     "execution_count": 9,
     "metadata": {},
     "output_type": "execute_result"
    }
   ],
   "source": [
    "decode_predictions(y_pred, top=20)"
   ]
  },
  {
   "cell_type": "code",
   "execution_count": null,
   "metadata": {},
   "outputs": [],
   "source": []
  },
  {
   "cell_type": "code",
   "execution_count": null,
   "metadata": {},
   "outputs": [],
   "source": []
  }
 ],
 "metadata": {
  "kernelspec": {
   "display_name": "Python 3",
   "language": "python",
   "name": "python3"
  },
  "language_info": {
   "codemirror_mode": {
    "name": "ipython",
    "version": 3
   },
   "file_extension": ".py",
   "mimetype": "text/x-python",
   "name": "python",
   "nbconvert_exporter": "python",
   "pygments_lexer": "ipython3",
   "version": "3.7.1"
  }
 },
 "nbformat": 4,
 "nbformat_minor": 2
}
