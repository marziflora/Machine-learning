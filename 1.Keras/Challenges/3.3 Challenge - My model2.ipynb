{
  "nbformat": 4,
  "nbformat_minor": 0,
  "metadata": {
    "colab": {
      "name": "3.3 Challenge.ipynb",
      "provenance": []
    },
    "kernelspec": {
      "name": "python3",
      "display_name": "Python 3"
    },
    "accelerator": "GPU"
  },
  "cells": [
    {
      "cell_type": "code",
      "metadata": {
        "id": "spytVTWTWErA",
        "colab_type": "code",
        "colab": {
          "base_uri": "https://localhost:8080/",
          "height": 306
        },
        "outputId": "152fa052-cf28-4987-e6b0-681977fe7db5"
      },
      "source": [
        "!nvidia-smi"
      ],
      "execution_count": 1,
      "outputs": [
        {
          "output_type": "stream",
          "text": [
            "Mon Nov 18 21:12:05 2019       \n",
            "+-----------------------------------------------------------------------------+\n",
            "| NVIDIA-SMI 430.50       Driver Version: 418.67       CUDA Version: 10.1     |\n",
            "|-------------------------------+----------------------+----------------------+\n",
            "| GPU  Name        Persistence-M| Bus-Id        Disp.A | Volatile Uncorr. ECC |\n",
            "| Fan  Temp  Perf  Pwr:Usage/Cap|         Memory-Usage | GPU-Util  Compute M. |\n",
            "|===============================+======================+======================|\n",
            "|   0  Tesla K80           Off  | 00000000:00:04.0 Off |                    0 |\n",
            "| N/A   69C    P8    32W / 149W |      0MiB / 11441MiB |      0%      Default |\n",
            "+-------------------------------+----------------------+----------------------+\n",
            "                                                                               \n",
            "+-----------------------------------------------------------------------------+\n",
            "| Processes:                                                       GPU Memory |\n",
            "|  GPU       PID   Type   Process name                             Usage      |\n",
            "|=============================================================================|\n",
            "|  No running processes found                                                 |\n",
            "+-----------------------------------------------------------------------------+\n"
          ],
          "name": "stdout"
        }
      ]
    },
    {
      "cell_type": "code",
      "metadata": {
        "id": "mdWbPciXWiGa",
        "colab_type": "code",
        "colab": {}
      },
      "source": [
        "import pandas as pd\n",
        "import numpy as np\n",
        "import matplotlib.pyplot as plt\n",
        "import random\n",
        "from sklearn.model_selection import train_test_split"
      ],
      "execution_count": 0,
      "outputs": []
    },
    {
      "cell_type": "code",
      "metadata": {
        "id": "DxUhAg7xWiSX",
        "colab_type": "code",
        "colab": {}
      },
      "source": [
        "X = np.load('X.npy')\n",
        "y = np.load('y.npy')"
      ],
      "execution_count": 0,
      "outputs": []
    },
    {
      "cell_type": "code",
      "metadata": {
        "id": "gRl2MitrYcmM",
        "colab_type": "code",
        "colab": {
          "base_uri": "https://localhost:8080/",
          "height": 34
        },
        "outputId": "0bfd7b24-97a4-4106-8b88-1131247e5a52"
      },
      "source": [
        "X.shape"
      ],
      "execution_count": 4,
      "outputs": [
        {
          "output_type": "execute_result",
          "data": {
            "text/plain": [
              "(4824, 60, 80, 3)"
            ]
          },
          "metadata": {
            "tags": []
          },
          "execution_count": 4
        }
      ]
    },
    {
      "cell_type": "code",
      "metadata": {
        "id": "Stz1rj1mYcj9",
        "colab_type": "code",
        "colab": {
          "base_uri": "https://localhost:8080/",
          "height": 265
        },
        "outputId": "f3978b0e-8d76-41a7-990f-ea6fa4bdacb1"
      },
      "source": [
        "plt.hist(y,40);"
      ],
      "execution_count": 5,
      "outputs": [
        {
          "output_type": "display_data",
          "data": {
            "image/png": "[encoded data removed]",
            "text/plain": [
              "<Figure size 432x288 with 1 Axes>"
            ]
          },
          "metadata": {
            "tags": []
          }
        }
      ]
    },
    {
      "cell_type": "code",
      "metadata": {
        "id": "QCUThzaEYchj",
        "colab_type": "code",
        "colab": {}
      },
      "source": [
        "import imgaug\n",
        "from imgaug import augmenters as iaa\n",
        "from imgaug import parameters as iap"
      ],
      "execution_count": 0,
      "outputs": []
    },
    {
      "cell_type": "code",
      "metadata": {
        "id": "KiUgd5cIYccD",
        "colab_type": "code",
        "colab": {}
      },
      "source": [
        "def augment(img, steering_angle):\n",
        "  #Flip\n",
        "  if random.random() > 0.5:\n",
        "    img = img[:,::-1,:]\n",
        "    steering_angle =-steering_angle\n",
        "  #Blur\n",
        "  blurer = iaa.GaussianBlur(iap.Uniform(0.1,1.0))\n",
        "  img = blurer.augment_image(img)\n",
        "  #Change colors\n",
        "  # sh = iaa.ChannelShuffle(p=0.5)\n",
        "  # img= sh.augment_image(img)\n",
        "  #fog\n",
        "  fog = iaa.FastSnowyLandscape()\n",
        "  fog.augment_image(img)\n",
        "  img = fog.augment_image(img)\n",
        "  #translate\n",
        "  tx = random.randint(-20, 20)\n",
        "  translater = iaa.Affine(translate_px={\"x\": tx}, mode='edge')\n",
        "  img = translater.augment_image(img)\n",
        "  steering_angle -= tx *0.025\n",
        "\n",
        "  return img, steering_angle\n"
      ],
      "execution_count": 0,
      "outputs": []
    },
    {
      "cell_type": "code",
      "metadata": {
        "id": "riOeQJKPbmnO",
        "colab_type": "code",
        "colab": {}
      },
      "source": [
        "img,angle = augment(X[0], y[0])"
      ],
      "execution_count": 0,
      "outputs": []
    },
    {
      "cell_type": "code",
      "metadata": {
        "id": "JkphXhcabqyB",
        "colab_type": "code",
        "colab": {
          "base_uri": "https://localhost:8080/",
          "height": 285
        },
        "outputId": "2165757a-559f-4bab-afdf-8ceaa0d21fc0"
      },
      "source": [
        "plt.imshow(img)"
      ],
      "execution_count": 9,
      "outputs": [
        {
          "output_type": "execute_result",
          "data": {
            "text/plain": [
              "<matplotlib.image.AxesImage at 0x7fdc8abb1ac8>"
            ]
          },
          "metadata": {
            "tags": []
          },
          "execution_count": 9
        },
        {
          "output_type": "display_data",
          "data": {
            "image/png": "[encoded data removed]",
            "text/plain": [
              "<Figure size 432x288 with 1 Axes>"
            ]
          },
          "metadata": {
            "tags": []
          }
        }
      ]
    },
    {
      "cell_type": "code",
      "metadata": {
        "id": "mq2O8FPJc_CA",
        "colab_type": "code",
        "colab": {}
      },
      "source": [
        "X_train, X_val, y_train, y_val = train_test_split(X, y, test_size=0.2, random_state=42)"
      ],
      "execution_count": 0,
      "outputs": []
    },
    {
      "cell_type": "code",
      "metadata": {
        "id": "jz-5HchllTcC",
        "colab_type": "code",
        "colab": {
          "base_uri": "https://localhost:8080/",
          "height": 34
        },
        "outputId": "a609557c-e7db-4c05-bb92-f5fe7d6b57cf"
      },
      "source": [
        "X_train.shape"
      ],
      "execution_count": 49,
      "outputs": [
        {
          "output_type": "execute_result",
          "data": {
            "text/plain": [
              "(3859, 60, 80, 3)"
            ]
          },
          "metadata": {
            "tags": []
          },
          "execution_count": 49
        }
      ]
    },
    {
      "cell_type": "code",
      "metadata": {
        "id": "ZD436k7klTiM",
        "colab_type": "code",
        "colab": {}
      },
      "source": [
        "Xgen=[]\n",
        "ygen=[]\n",
        "for i in range(X_train.shape[0]):\n",
        "  img, angle = augment(X[i], y[i])\n",
        "  Xgen.append(img)\n",
        "  ygen.append(angle)\n",
        "\n",
        "Xgen = np.array(Xgen)\n",
        "ygen = np.array(ygen)"
      ],
      "execution_count": 0,
      "outputs": []
    },
    {
      "cell_type": "code",
      "metadata": {
        "id": "_cgN87cSlTo5",
        "colab_type": "code",
        "colab": {
          "base_uri": "https://localhost:8080/",
          "height": 265
        },
        "outputId": "740064e5-f430-4a40-d2d0-5fb0d2f330bb"
      },
      "source": [
        "plt.hist(y, 50, facecolor='green');\n",
        "plt.hist(ygen, 50, facecolor='red');\n"
      ],
      "execution_count": 12,
      "outputs": [
        {
          "output_type": "display_data",
          "data": {
            "image/png": "[encoded data removed]",
            "text/plain": [
              "<Figure size 432x288 with 1 Axes>"
            ]
          },
          "metadata": {
            "tags": []
          }
        }
      ]
    },
    {
      "cell_type": "code",
      "metadata": {
        "id": "6zNRCw7zKy6h",
        "colab_type": "code",
        "colab": {
          "base_uri": "https://localhost:8080/",
          "height": 80
        },
        "outputId": "cd2bd854-7c6b-48de-f72b-a998839fe588"
      },
      "source": [
        "from keras.models import Sequential\n",
        "from keras.layers import Conv2D, Flatten, Dropout, Dense, MaxPooling2D, Lambda\n",
        "from livelossplot import PlotLossesKeras"
      ],
      "execution_count": 13,
      "outputs": [
        {
          "output_type": "stream",
          "text": [
            "Using TensorFlow backend.\n"
          ],
          "name": "stderr"
        },
        {
          "output_type": "display_data",
          "data": {
            "text/html": [
              "<p style=\"color: red;\">\n",
              "The default version of TensorFlow in Colab will soon switch to TensorFlow 2.x.<br>\n",
              "We recommend you <a href=\"https://www.tensorflow.org/guide/migrate\" target=\"_blank\">upgrade</a> now \n",
              "or ensure your notebook will continue to use TensorFlow 1.x via the <code>%tensorflow_version 1.x</code> magic:\n",
              "<a href=\"https://colab.research.google.com/notebooks/tensorflow_version.ipynb\" target=\"_blank\">more info</a>.</p>\n"
            ],
            "text/plain": [
              "<IPython.core.display.HTML object>"
            ]
          },
          "metadata": {
            "tags": []
          }
        }
      ]
    },
    {
      "cell_type": "code",
      "metadata": {
        "id": "CkbdBHfeKy4F",
        "colab_type": "code",
        "colab": {
          "base_uri": "https://localhost:8080/",
          "height": 139
        },
        "outputId": "70f9e4fd-7f1a-4cdd-d4b7-31f757baa5e7"
      },
      "source": [
        "def myModel(input_shape):\n",
        "  model = Sequential(\n",
        "      [Lambda(lambda x: (x-128.0)/255.0, input_shape=input_shape, name='normalize'),\n",
        "      Conv2D(64, (3,3), activation='relu'),\n",
        "       MaxPooling2D(pool_size=(2,2)),\n",
        "       Conv2D(32, (3,3), activation='relu'),\n",
        "       MaxPooling2D(pool_size=(2,2)),\n",
        "       Conv2D(8, (3,3), activation='relu'),\n",
        "       MaxPooling2D(pool_size=(2,2)),\n",
        "       Dropout(0.5),\n",
        "       Flatten(),\n",
        "       Dense(512, activation='relu'),\n",
        "       Dropout(0.5),\n",
        "       Dense(512, activation='relu'),\n",
        "       Dropout(0.5),\n",
        "       Dense(16, activation='relu'),\n",
        "       Dense(1)  ])\n",
        "  return model\n",
        "\n",
        "model = myModel(X[0].shape)"
      ],
      "execution_count": 14,
      "outputs": [
        {
          "output_type": "stream",
          "text": [
            "WARNING:tensorflow:From /usr/local/lib/python3.6/dist-packages/tensorflow/python/framework/op_def_library.py:263: colocate_with (from tensorflow.python.framework.ops) is deprecated and will be removed in a future version.\n",
            "Instructions for updating:\n",
            "Colocations handled automatically by placer.\n",
            "WARNING:tensorflow:From /usr/local/lib/python3.6/dist-packages/keras/backend/tensorflow_backend.py:3733: calling dropout (from tensorflow.python.ops.nn_ops) with keep_prob is deprecated and will be removed in a future version.\n",
            "Instructions for updating:\n",
            "Please use `rate` instead of `keep_prob`. Rate should be set to `rate = 1 - keep_prob`.\n"
          ],
          "name": "stdout"
        }
      ]
    },
    {
      "cell_type": "code",
      "metadata": {
        "id": "szMepm2JKyyU",
        "colab_type": "code",
        "colab": {
          "base_uri": "https://localhost:8080/",
          "height": 663
        },
        "outputId": "8d733d92-4753-4331-c4a0-e7cda22c721a"
      },
      "source": [
        "model.summary()"
      ],
      "execution_count": 54,
      "outputs": [
        {
          "output_type": "stream",
          "text": [
            "Model: \"sequential_7\"\n",
            "_________________________________________________________________\n",
            "Layer (type)                 Output Shape              Param #   \n",
            "=================================================================\n",
            "normalize (Lambda)           (None, 60, 80, 3)         0         \n",
            "_________________________________________________________________\n",
            "conv2d_19 (Conv2D)           (None, 58, 78, 64)        1792      \n",
            "_________________________________________________________________\n",
            "max_pooling2d_15 (MaxPooling (None, 29, 39, 64)        0         \n",
            "_________________________________________________________________\n",
            "conv2d_20 (Conv2D)           (None, 27, 37, 32)        18464     \n",
            "_________________________________________________________________\n",
            "max_pooling2d_16 (MaxPooling (None, 13, 18, 32)        0         \n",
            "_________________________________________________________________\n",
            "conv2d_21 (Conv2D)           (None, 11, 16, 8)         2312      \n",
            "_________________________________________________________________\n",
            "max_pooling2d_17 (MaxPooling (None, 5, 8, 8)           0         \n",
            "_________________________________________________________________\n",
            "dropout_10 (Dropout)         (None, 5, 8, 8)           0         \n",
            "_________________________________________________________________\n",
            "flatten_7 (Flatten)          (None, 320)               0         \n",
            "_________________________________________________________________\n",
            "dense_25 (Dense)             (None, 512)               164352    \n",
            "_________________________________________________________________\n",
            "dropout_11 (Dropout)         (None, 512)               0         \n",
            "_________________________________________________________________\n",
            "dense_26 (Dense)             (None, 512)               262656    \n",
            "_________________________________________________________________\n",
            "dropout_12 (Dropout)         (None, 512)               0         \n",
            "_________________________________________________________________\n",
            "dense_27 (Dense)             (None, 16)                8208      \n",
            "_________________________________________________________________\n",
            "dense_28 (Dense)             (None, 1)                 17        \n",
            "=================================================================\n",
            "Total params: 457,801\n",
            "Trainable params: 457,801\n",
            "Non-trainable params: 0\n",
            "_________________________________________________________________\n"
          ],
          "name": "stdout"
        }
      ]
    },
    {
      "cell_type": "code",
      "metadata": {
        "id": "MDnNJ5fxPAdc",
        "colab_type": "code",
        "colab": {
          "base_uri": "https://localhost:8080/",
          "height": 462
        },
        "outputId": "63fbe186-959b-48ec-aba1-f9969da529b6"
      },
      "source": [
        "batch_size = 512\n",
        "epochs = 30\n",
        "\n",
        "# model.compile(optimizer='adam') \n",
        "model.compile(loss='mse', optimizer='adam', metrics=['mse'])\n",
        "\n",
        "\n",
        "model.fit(Xgen, ygen, batch_size=batch_size, epochs=epochs, validation_data=(X_val, y_val),\n",
        "          callbacks=[PlotLossesKeras()])"
      ],
      "execution_count": 63,
      "outputs": [
        {
          "output_type": "display_data",
          "data": {
            "image/png": "[encoded data removed]",
            "text/plain": [
              "<Figure size 864x576 with 2 Axes>"
            ]
          },
          "metadata": {
            "tags": []
          }
        },
        {
          "output_type": "stream",
          "text": [
            "mse (cost function):\n",
            "training   (min:    0.102, max:    0.147, cur:    0.102)\n",
            "validation (min:    0.129, max:    0.180, cur:    0.138)\n",
            "\n",
            "Mean squared error:\n",
            "training   (min:    0.102, max:    0.147, cur:    0.102)\n",
            "validation (min:    0.129, max:    0.180, cur:    0.138)\n"
          ],
          "name": "stdout"
        },
        {
          "output_type": "execute_result",
          "data": {
            "text/plain": [
              "<keras.callbacks.History at 0x7efbd1060eb8>"
            ]
          },
          "metadata": {
            "tags": []
          },
          "execution_count": 63
        }
      ]
    },
    {
      "cell_type": "code",
      "metadata": {
        "id": "T0MbxjU4Qo9f",
        "colab_type": "code",
        "colab": {
          "base_uri": "https://localhost:8080/",
          "height": 267
        },
        "outputId": "03e8ec56-eef8-4b2c-d8e1-519cb8e348db"
      },
      "source": [
        "ypred = model.predict(X)\n",
        "plt.plot(y,'green', ypred, 'red')\n",
        "plt.show()"
      ],
      "execution_count": 66,
      "outputs": [
        {
          "output_type": "display_data",
          "data": {
            "image/png": "[encoded data removed]",
            "text/plain": [
              "<Figure size 432x288 with 1 Axes>"
            ]
          },
          "metadata": {
            "tags": []
          }
        }
      ]
    },
    {
      "cell_type": "code",
      "metadata": {
        "id": "s_KLcOR0UaTl",
        "colab_type": "code",
        "colab": {}
      },
      "source": [
        "model.save('mymodel.h5')"
      ],
      "execution_count": 0,
      "outputs": []
    },
    {
      "cell_type": "code",
      "metadata": {
        "id": "boa_cih2V7nd",
        "colab_type": "code",
        "colab": {
          "base_uri": "https://localhost:8080/",
          "height": 748
        },
        "outputId": "8bad0f8c-eea7-45f7-ac8a-52494fd7fc59"
      },
      "source": [
        "import autokeras as ak\n",
        "model_ak = ak.ImageRegressor(verbose=True)\n",
        "model_ak.fit(Xgen, ygen, time_limit=10*60)"
      ],
      "execution_count": 15,
      "outputs": [
        {
          "output_type": "stream",
          "text": [
            "Better speed can be achieved with apex installed from https://www.github.com/nvidia/apex.\n",
            "Saving Directory: /tmp/autokeras_9ETDM1\n",
            "Preprocessing the images.\n",
            "Preprocessing finished.\n",
            "\n",
            "Initializing search.\n",
            "Initialization finished.\n",
            "\n",
            "\n",
            "+----------------------------------------------+\n",
            "|               Training model 0               |\n",
            "+----------------------------------------------+\n",
            "                                                                                                    \n",
            "No loss decrease after 5 epochs.\n",
            "\n",
            "\n",
            "Saving model.\n",
            "+--------------------------------------------------------------------------+\n",
            "|        Model ID        |          Loss          |      Metric Value      |\n",
            "+--------------------------------------------------------------------------+\n",
            "|           0            |   0.6345995455980301   |  0.20422437237276236   |\n",
            "+--------------------------------------------------------------------------+\n",
            "\n",
            "\n",
            "+----------------------------------------------+\n",
            "|               Training model 1               |\n",
            "+----------------------------------------------+\n",
            "                                                                              \n",
            "No loss decrease after 5 epochs.\n",
            "\n",
            "\n",
            "Saving model.\n",
            "+--------------------------------------------------------------------------+\n",
            "|        Model ID        |          Loss          |      Metric Value      |\n",
            "+--------------------------------------------------------------------------+\n",
            "|           1            |   0.6292384088039398   |   0.2034069436783647   |\n",
            "+--------------------------------------------------------------------------+\n",
            "\n",
            "\n",
            "+----------------------------------------------+\n",
            "|               Training model 2               |\n",
            "+----------------------------------------------+\n",
            "Time is out.\n"
          ],
          "name": "stdout"
        }
      ]
    },
    {
      "cell_type": "code",
      "metadata": {
        "id": "0RhRWjKWWlGn",
        "colab_type": "code",
        "colab": {}
      },
      "source": [
        "score = model_ak.evaluate(X_val, y_val)"
      ],
      "execution_count": 0,
      "outputs": []
    },
    {
      "cell_type": "code",
      "metadata": {
        "id": "2VejDWXKZDF1",
        "colab_type": "code",
        "colab": {}
      },
      "source": [
        "ypred2 = model_ak.predict(X)\n",
        "plt.plot(y, 'g', ypred2, 'r')\n",
        "plt.show()"
      ],
      "execution_count": 0,
      "outputs": []
    }
  ]
}