{
 "cells": [
  {
   "cell_type": "code",
   "execution_count": 16,
   "metadata": {},
   "outputs": [],
   "source": [
    "import pandas as pd\n",
    "from gensim.models import Word2Vec\n",
    "from gensim.utils import simple_preprocess\n",
    "from gensim.models.phrases import Phrases, Phraser"
   ]
  },
  {
   "cell_type": "code",
   "execution_count": 17,
   "metadata": {},
   "outputs": [
    {
     "name": "stdout",
     "output_type": "stream",
     "text": [
      " Volume in drive C has no label.\n",
      " Volume Serial Number is EC0C-A973\n",
      "\n",
      " Directory of C:\\Users\\HP\\Anaconda3\\Projekty_conda\\2.Machine-learning\\1.Keras\\Challenges\\data\n",
      "\n",
      "15.11.2019  00:32    <DIR>          .\n",
      "15.11.2019  00:32    <DIR>          ..\n",
      "14.11.2019  23:45       133˙415˙034 job_ofer.csv\n",
      "03.09.2019  09:30       240˙342˙787 reviews_data.txt\n",
      "               2 File(s)    373˙757˙821 bytes\n",
      "               2 Dir(s)  112˙220˙651˙520 bytes free\n"
     ]
    }
   ],
   "source": [
    "ls data"
   ]
  },
  {
   "cell_type": "code",
   "execution_count": 18,
   "metadata": {},
   "outputs": [],
   "source": [
    "df = pd.read_csv('data/job_ofer.csv')"
   ]
  },
  {
   "cell_type": "code",
   "execution_count": 20,
   "metadata": {},
   "outputs": [
    {
     "data": {
      "text/html": [
       "<div>\n",
       "<style scoped>\n",
       "    .dataframe tbody tr th:only-of-type {\n",
       "        vertical-align: middle;\n",
       "    }\n",
       "\n",
       "    .dataframe tbody tr th {\n",
       "        vertical-align: top;\n",
       "    }\n",
       "\n",
       "    .dataframe thead th {\n",
       "        text-align: right;\n",
       "    }\n",
       "</style>\n",
       "<table border=\"1\" class=\"dataframe\">\n",
       "  <thead>\n",
       "    <tr style=\"text-align: right;\">\n",
       "      <th></th>\n",
       "      <th>title</th>\n",
       "      <th>company_name</th>\n",
       "      <th>address</th>\n",
       "      <th>description</th>\n",
       "      <th>seniority_level</th>\n",
       "      <th>employment_type</th>\n",
       "      <th>job_function</th>\n",
       "      <th>industries</th>\n",
       "    </tr>\n",
       "  </thead>\n",
       "  <tbody>\n",
       "    <tr>\n",
       "      <th>0</th>\n",
       "      <td>Machine Learning Engineer</td>\n",
       "      <td>Intellipro Group Inc</td>\n",
       "      <td>Palo Alto, CA, US</td>\n",
       "      <td>['About The Company', \"W*** is reshaping the f...</td>\n",
       "      <td>Entry level</td>\n",
       "      <td>Full-time</td>\n",
       "      <td>Engineering</td>\n",
       "      <td>Information Technology and Services</td>\n",
       "    </tr>\n",
       "    <tr>\n",
       "      <th>1</th>\n",
       "      <td>Deep Learning Applied Researcher - Chicago</td>\n",
       "      <td>Ethosia</td>\n",
       "      <td>Chicago, IL, US</td>\n",
       "      <td>['תיאור המשרה', 'Deep learning for Computer Vi...</td>\n",
       "      <td>Associate</td>\n",
       "      <td>Full-time</td>\n",
       "      <td>Other</td>\n",
       "      <td>Information Technology and Services</td>\n",
       "    </tr>\n",
       "    <tr>\n",
       "      <th>2</th>\n",
       "      <td>Machine Learning Engineer</td>\n",
       "      <td>Motorola Solutions</td>\n",
       "      <td>Chicago, IL, US</td>\n",
       "      <td>['Company Overview', 'At Motorola Solutions, w...</td>\n",
       "      <td>Entry level</td>\n",
       "      <td>Full-time</td>\n",
       "      <td>Engineering</td>\n",
       "      <td>Information Technology and Services</td>\n",
       "    </tr>\n",
       "    <tr>\n",
       "      <th>3</th>\n",
       "      <td>Machine Learning / Data Scientist</td>\n",
       "      <td>Proprius LLC</td>\n",
       "      <td>San Francisco, CA, US</td>\n",
       "      <td>['Our client is a digital invention agency foc...</td>\n",
       "      <td>Entry level</td>\n",
       "      <td>Full-time</td>\n",
       "      <td>Engineering</td>\n",
       "      <td>Information Technology and Services</td>\n",
       "    </tr>\n",
       "    <tr>\n",
       "      <th>4</th>\n",
       "      <td>Cloud Architect</td>\n",
       "      <td>TCS</td>\n",
       "      <td>Framingham, Massachusetts, United States</td>\n",
       "      <td>['Technical/Functional Skills', ' ', 'Good to ...</td>\n",
       "      <td>Mid-Senior level</td>\n",
       "      <td>Full-time</td>\n",
       "      <td>Engineering</td>\n",
       "      <td>Information Technology and Services</td>\n",
       "    </tr>\n",
       "  </tbody>\n",
       "</table>\n",
       "</div>"
      ],
      "text/plain": [
       "                                        title          company_name  \\\n",
       "0                   Machine Learning Engineer  Intellipro Group Inc   \n",
       "1  Deep Learning Applied Researcher - Chicago               Ethosia   \n",
       "2                   Machine Learning Engineer    Motorola Solutions   \n",
       "3           Machine Learning / Data Scientist          Proprius LLC   \n",
       "4                             Cloud Architect                   TCS   \n",
       "\n",
       "                                    address  \\\n",
       "0                         Palo Alto, CA, US   \n",
       "1                           Chicago, IL, US   \n",
       "2                           Chicago, IL, US   \n",
       "3                     San Francisco, CA, US   \n",
       "4  Framingham, Massachusetts, United States   \n",
       "\n",
       "                                         description   seniority_level  \\\n",
       "0  ['About The Company', \"W*** is reshaping the f...       Entry level   \n",
       "1  ['תיאור המשרה', 'Deep learning for Computer Vi...         Associate   \n",
       "2  ['Company Overview', 'At Motorola Solutions, w...       Entry level   \n",
       "3  ['Our client is a digital invention agency foc...       Entry level   \n",
       "4  ['Technical/Functional Skills', ' ', 'Good to ...  Mid-Senior level   \n",
       "\n",
       "  employment_type job_function                           industries  \n",
       "0       Full-time  Engineering  Information Technology and Services  \n",
       "1       Full-time        Other  Information Technology and Services  \n",
       "2       Full-time  Engineering  Information Technology and Services  \n",
       "3       Full-time  Engineering  Information Technology and Services  \n",
       "4       Full-time  Engineering  Information Technology and Services  "
      ]
     },
     "execution_count": 20,
     "metadata": {},
     "output_type": "execute_result"
    }
   ],
   "source": [
    "df.head()"
   ]
  },
  {
   "cell_type": "markdown",
   "metadata": {},
   "source": [
    "##Word2Vec"
   ]
  },
  {
   "cell_type": "code",
   "execution_count": 22,
   "metadata": {},
   "outputs": [],
   "source": [
    "corpus = df['title'].map(simple_preprocess)"
   ]
  },
  {
   "cell_type": "code",
   "execution_count": 23,
   "metadata": {},
   "outputs": [],
   "source": [
    "model = Word2Vec(corpus, size=100, window=2, min_count=1)"
   ]
  },
  {
   "cell_type": "code",
   "execution_count": 24,
   "metadata": {},
   "outputs": [
    {
     "data": {
      "text/plain": [
       "[('deep', 0.9591057896614075),\n",
       " ('captivate', 0.8774780631065369),\n",
       " ('big', 0.8554095029830933),\n",
       " ('natural', 0.8497501611709595),\n",
       " ('wj', 0.8361923694610596),\n",
       " ('scientist', 0.8347327709197998),\n",
       " ('scientists', 0.833984375),\n",
       " ('applied', 0.825627326965332),\n",
       " ('personalization', 0.822577714920044),\n",
       " ('predictive', 0.8224397897720337)]"
      ]
     },
     "execution_count": 24,
     "metadata": {},
     "output_type": "execute_result"
    }
   ],
   "source": [
    "model.wv.most_similar('machine')"
   ]
  },
  {
   "cell_type": "code",
   "execution_count": 25,
   "metadata": {},
   "outputs": [
    {
     "data": {
      "text/plain": [
       "'machine_learning abas xt'"
      ]
     },
     "execution_count": 25,
     "metadata": {},
     "output_type": "execute_result"
    }
   ],
   "source": [
    "'machine learning abas xt'.replace('machine learning', 'machine_learning') #1 attitude"
   ]
  },
  {
   "cell_type": "code",
   "execution_count": 26,
   "metadata": {},
   "outputs": [
    {
     "data": {
      "text/plain": [
       "['a_b', 'c']"
      ]
     },
     "execution_count": 26,
     "metadata": {},
     "output_type": "execute_result"
    }
   ],
   "source": [
    "corpus = [\n",
    "   ['a', 'b', 'c'],\n",
    "       ['a', 'b', 'x'] ,\n",
    "       ['y', 'b', 'y'],\n",
    "       ['a', 'b', 'u', 'k'] \n",
    "]\n",
    "bigram = Phraser(Phrases(corpus, min_count=1, threshold=1))\n",
    "bigram[['a', 'b', 'c']]"
   ]
  },
  {
   "cell_type": "code",
   "execution_count": 27,
   "metadata": {},
   "outputs": [
    {
     "data": {
      "text/plain": [
       "['k', 'machine_learning', 'c']"
      ]
     },
     "execution_count": 27,
     "metadata": {},
     "output_type": "execute_result"
    }
   ],
   "source": [
    "corpus = [\n",
    "   ['machine', 'learning', 'c'],\n",
    "       ['machine', 'learning', 'x'] ,\n",
    "       ['y', 'machine', 'learning'],\n",
    "       ['a', 'b', 'machine', 'learning'] \n",
    "]\n",
    "bigram = Phraser(Phrases(corpus, min_count=1, threshold=1))\n",
    "bigram[['k', 'machine', 'learning', 'c']]"
   ]
  },
  {
   "cell_type": "code",
   "execution_count": 74,
   "metadata": {},
   "outputs": [
    {
     "data": {
      "text/plain": [
       "<gensim.models.phrases.Phraser at 0x2ab0bcd0470>"
      ]
     },
     "execution_count": 74,
     "metadata": {},
     "output_type": "execute_result"
    }
   ],
   "source": [
    "bigram"
   ]
  },
  {
   "cell_type": "code",
   "execution_count": 33,
   "metadata": {},
   "outputs": [],
   "source": [
    "title_corpus = df['title'].map(simple_preprocess)\n",
    "title_bigram = Phraser(Phrases(title_corpus, min_count=1, threshold=1))"
   ]
  },
  {
   "cell_type": "code",
   "execution_count": 34,
   "metadata": {},
   "outputs": [
    {
     "data": {
      "text/plain": [
       "['deep_learning', 'applied', 'researcher', 'chicago']"
      ]
     },
     "execution_count": 34,
     "metadata": {},
     "output_type": "execute_result"
    }
   ],
   "source": [
    "title_bigram[simple_preprocess('Deep Learning Applied Researcher - Chicago')]"
   ]
  },
  {
   "cell_type": "code",
   "execution_count": 36,
   "metadata": {},
   "outputs": [],
   "source": [
    "title_corpus_phrase = [title_bigram[sent] for sent in title_corpus]"
   ]
  },
  {
   "cell_type": "code",
   "execution_count": 37,
   "metadata": {},
   "outputs": [],
   "source": [
    "model = Word2Vec(title_corpus_phrase, size=100, window=2, min_count=1)"
   ]
  },
  {
   "cell_type": "code",
   "execution_count": 38,
   "metadata": {},
   "outputs": [
    {
     "data": {
      "text/plain": [
       "[('cloud_deployment', 0.9383780360221863),\n",
       " ('free_housing', 0.9368774890899658),\n",
       " ('retail_coordinator', 0.9366092681884766),\n",
       " ('with_amazon', 0.9360986948013306),\n",
       " ('ne', 0.9346069693565369),\n",
       " ('bus', 0.9340896010398865),\n",
       " ('bristol_oxford', 0.9335525035858154),\n",
       " ('pay_package', 0.9329918026924133),\n",
       " ('delivery_manager', 0.9320607781410217),\n",
       " ('earn_an', 0.9318432211875916)]"
      ]
     },
     "execution_count": 38,
     "metadata": {},
     "output_type": "execute_result"
    }
   ],
   "source": [
    "model.wv.most_similar('machine')"
   ]
  },
  {
   "cell_type": "code",
   "execution_count": 49,
   "metadata": {},
   "outputs": [],
   "source": [
    "def prepare_corpus(corpus):\n",
    "    return [title_bigram[sent] for sent in corpus]"
   ]
  },
  {
   "cell_type": "code",
   "execution_count": 42,
   "metadata": {},
   "outputs": [
    {
     "data": {
      "text/plain": [
       "['deep', 'learning', 'applied', 'researcher', 'chicago']"
      ]
     },
     "execution_count": 42,
     "metadata": {},
     "output_type": "execute_result"
    }
   ],
   "source": [
    "simple_preprocess('Deep Learning Applied Researcher - Chicago')"
   ]
  },
  {
   "cell_type": "code",
   "execution_count": 43,
   "metadata": {},
   "outputs": [
    {
     "data": {
      "text/plain": [
       "['deep_learning', 'applied', 'researcher', 'chicago']"
      ]
     },
     "execution_count": 43,
     "metadata": {},
     "output_type": "execute_result"
    }
   ],
   "source": [
    "title_bigram[['deep', 'learning', 'applied', 'researcher', 'chicago'] ]"
   ]
  },
  {
   "cell_type": "code",
   "execution_count": 48,
   "metadata": {},
   "outputs": [
    {
     "data": {
      "text/plain": [
       "{'applied', 'chicago', 'deep', 'deep_learning', 'learning', 'researcher'}"
      ]
     },
     "execution_count": 48,
     "metadata": {},
     "output_type": "execute_result"
    }
   ],
   "source": [
    "#Losing duplicated and order\n",
    "set(['deep', 'learning', 'applied', 'researcher', 'chicago']+['deep_learning', 'applied', 'researcher', 'chicago'])"
   ]
  },
  {
   "cell_type": "code",
   "execution_count": 55,
   "metadata": {},
   "outputs": [],
   "source": [
    "def prepare_corpus(corpus, bigram):\n",
    "    for sent in corpus:\n",
    "        yield bigram[sent]+sent"
   ]
  },
  {
   "cell_type": "code",
   "execution_count": 56,
   "metadata": {},
   "outputs": [],
   "source": [
    "ext_corpus = list(prepare_corpus(title_corpus, title_bigram))\n",
    "model2 = Word2Vec(ext_corpus, size=100, window=2, min_count=1)"
   ]
  },
  {
   "cell_type": "code",
   "execution_count": 57,
   "metadata": {},
   "outputs": [
    {
     "name": "stderr",
     "output_type": "stream",
     "text": [
      "C:\\Anaconda\\lib\\site-packages\\ipykernel_launcher.py:1: DeprecationWarning: Call to deprecated `most_similar` (Method will be removed in 4.0.0, use self.wv.most_similar() instead).\n",
      "  \"\"\"Entry point for launching an IPython kernel.\n"
     ]
    },
    {
     "data": {
      "text/plain": [
       "[('machine_learning', 0.9518463611602783),\n",
       " ('deep', 0.9448311924934387),\n",
       " ('learning', 0.9441986680030823),\n",
       " ('computer_vision', 0.9434118270874023),\n",
       " ('learning_product', 0.9388340711593628),\n",
       " ('big', 0.9283679723739624),\n",
       " ('deep_learning', 0.9257878065109253),\n",
       " ('大数据开发工程师', 0.9234387874603271),\n",
       " ('nlp_research', 0.9197064638137817),\n",
       " ('nlp', 0.9188664555549622)]"
      ]
     },
     "execution_count": 57,
     "metadata": {},
     "output_type": "execute_result"
    }
   ],
   "source": [
    "model2.most_similar('machine')"
   ]
  },
  {
   "cell_type": "code",
   "execution_count": 63,
   "metadata": {},
   "outputs": [
    {
     "data": {
      "text/plain": [
       "\"['Overview', 'Company is growing in Seattle. We are seeking a Vice President to join the Management Team.In this role, you can expect to integrate information technology into the fabric of businesses across the breadth and depth of their value chains.We call this the Business of IT.As a member of the Management Team, you willarchitect and deliver enterprise solutions, initiate, build and sustain relationships with clients and prospects, and develop and mentor junior team members.', 'We Look For', 'You will report to the SeattleOffice Managing Vice President. The successful candidate possesses the following critical qualifications:', '10+ years of experience leading information technology consulting services including the development of strategies, implementing and integrating software, and managing complex projects', 'Demonstrated Ability To', 'Initiate and manage a solution based sales cycle', 'Plan and manage complex client engagements involving multiple teams', 'Manage vendor relationships', 'Demonstrated project management experience project planning, execution, issue/risk management and resource management/allocation', 'Mastery of all phases of the software development life cycle', 'Strong business acumen across a variety of industries and business functions', 'Involvement in local professional networking and civic/community activities', 'Strong local network of IT and business executives and business acumen across a variety of industries and business functions', 'Recognized as valued trusted advisor in relationships with clients, colleagues, vendors, and other industry professionals', 'Passionate and successful in mentoring others and developing their careers', 'You Can Expect To', 'As a member of the SeattleManagement Team you will play an integral role in building our office. The successful candidate will drive sales and delivery while mentoring and growing a strong team of leaders.', 'Lead sales efforts and develop proposals for the local and national market', 'Network and develop relationships with new clients', 'Lead the delivery and management of client projects', 'Lead one or more internal areas to grow our company and to coach, mentor, and grow other employees', 'Mentor junior colleagues by providing career development goals, meeting regularly, writing and deliver semi-annual reviews, and advocating for their career advancement', 'Actively represent our culture by leading and participating in efforts around continuous learning, personal and professional development, community service and team building', 'Recruit top talent at the experienced level and from outstanding colleges', 'Diagnose complex technical and business problems and work to uncover unknown and unmet client needs', 'Support company growth by building and maintaining a strong professional network as well as contributing to the recruitment of new employees', 'Pariveda Benefits', 'Competitive Salary', 'Exceptional 401k 4% company match', 'Unlimited PTO', 'Paid sabbatical after 5 years of service for Principal levels and above', 'Paid parental leave', 'Company Ownership through Employee Stock Ownership Plan (ESOP) from your very first day at Pariveda', 'Excellent Healthcare and Wellness', '100% company paid premiums for you and your family (medical, dental, vision)', 'Life Insurance', 'Short Term and Long Term Disability', 'In 2003, we asked one simple question.Can a technology consulting firm be successful by focusing first on growing the individual to their fullest potential?We believed that through an unwavering commitment to developing people we could create a different kind of company.We created Pariveda. It is through this belief in helping the individual, counter to industry norms, we have grown revenue each and every year since 2003.We are passionate about creating interesting solutions to the unknown/unmet needs of our clients and to grow, both our people and our clients, through those experiences.', 'We believe in the efficiency of small teams working together to solve complex problems leveraging strategy and technology.We believe in growing deep relationships with our people, our clients and others in our networks. Trusted relationships are integral to everything we do - from relationships with the people with whom we work, the people we partner with at our clients, or the people we interact with in our communities.We believe trusted relationships are built through challenging and exhilarating experiences that make a difference to clients and communities.You will discover people here are passionate about their work.You will discover our openness in developing you and growing as our expectations are openly communicated to you and provide opportunities for you to evidence your readiness to move to the next level.And together we seek to be difference-makers in our industry and the communities where we live by always learning, coaching more, and giving back.', 'We serve clients ranging from Fortune 100 to Global 2000 to startup companiesthat spanmultiple industries. We provide company ownership through our Employee Stock Ownership Plan (ESOP) from your very first day of work with us.Our people live and work in local communities within the thriving cities of Atlanta, Chicago, Dallas, Houston, Los Angeles, New York, Philadelphia, San Francisco, Seattle, Toronto and Washington DC.', 'If you are inspired by our mission and our beliefs and want to join us in developing yourself and others as a Vice President and member of our Management Team in our Seattleoffice, apply today.', 'The Business of IT is a registered trademark of Company, Inc. describing where IT departments need to act more like the businesses they serve given the ubiquitous integration of information technology into the world of business.']\""
      ]
     },
     "execution_count": 63,
     "metadata": {},
     "output_type": "execute_result"
    }
   ],
   "source": [
    "df.sample()['description'].values[0]"
   ]
  },
  {
   "cell_type": "code",
   "execution_count": 64,
   "metadata": {},
   "outputs": [
    {
     "data": {
      "text/plain": [
       "['lead',\n",
       " 'and',\n",
       " 'manage',\n",
       " 'annual',\n",
       " 'budgeting',\n",
       " 'mid',\n",
       " 'year',\n",
       " 'estimation',\n",
       " 'and',\n",
       " 'long',\n",
       " 'term',\n",
       " 'planning',\n",
       " 'five',\n",
       " 'year',\n",
       " 'plan',\n",
       " 'fifteen',\n",
       " 'year',\n",
       " 'model',\n",
       " 'etc',\n",
       " 'processes',\n",
       " 'in',\n",
       " 'collaboration',\n",
       " 'with',\n",
       " 'accounting',\n",
       " 'team',\n",
       " 'develop',\n",
       " 'and',\n",
       " 'implement',\n",
       " 'monthly',\n",
       " 'budget',\n",
       " 'vs',\n",
       " 'actual',\n",
       " 'reports',\n",
       " 'for',\n",
       " 'departmental',\n",
       " 'budget',\n",
       " 'managers',\n",
       " 'analyze',\n",
       " 'and',\n",
       " 'prepare',\n",
       " 'monthly',\n",
       " 'and',\n",
       " 'year',\n",
       " 'to',\n",
       " 'date',\n",
       " 'budget',\n",
       " 'vs',\n",
       " 'actual',\n",
       " 'variance',\n",
       " 'explanations',\n",
       " 'for',\n",
       " 'internal',\n",
       " 'and',\n",
       " 'parent',\n",
       " 'company',\n",
       " 'reporting',\n",
       " 'work',\n",
       " 'closely',\n",
       " 'with',\n",
       " 'departmental',\n",
       " 'budget',\n",
       " 'managers',\n",
       " 'to',\n",
       " 'obtain',\n",
       " 'solid',\n",
       " 'understanding',\n",
       " 'of',\n",
       " 'departmental',\n",
       " 'business',\n",
       " 'and',\n",
       " 'budgets',\n",
       " 'work',\n",
       " 'closely',\n",
       " 'with',\n",
       " 'parent',\n",
       " 'company',\n",
       " 'finance',\n",
       " 'contacts',\n",
       " 'to',\n",
       " 'develop',\n",
       " 'prepare',\n",
       " 'and',\n",
       " 'improve',\n",
       " 'reporting',\n",
       " 'and',\n",
       " 'ongoing',\n",
       " 'business',\n",
       " 'relationship',\n",
       " 'prepare',\n",
       " 'and',\n",
       " 'update',\n",
       " 'long',\n",
       " 'term',\n",
       " 'projections',\n",
       " 'models',\n",
       " 'for',\n",
       " 'long',\n",
       " 'term',\n",
       " 'planning',\n",
       " 'contingent',\n",
       " 'liability',\n",
       " 'calculations',\n",
       " 'etc',\n",
       " 'prepare',\n",
       " 'schedules',\n",
       " 'and',\n",
       " 'analysis',\n",
       " 'for',\n",
       " 'external',\n",
       " 'auditors',\n",
       " 'as',\n",
       " 'needed',\n",
       " 'member',\n",
       " 'of',\n",
       " 'alexza',\n",
       " 'plan',\n",
       " 'investment',\n",
       " 'committee',\n",
       " 'perform',\n",
       " 'ad',\n",
       " 'hoc',\n",
       " 'analysis',\n",
       " 'and',\n",
       " 'other',\n",
       " 'projects',\n",
       " 'as',\n",
       " 'required',\n",
       " 'occasional',\n",
       " 'travel',\n",
       " 'to',\n",
       " 'spain',\n",
       " 'based',\n",
       " 'parent',\n",
       " 'company',\n",
       " 'as',\n",
       " 'needed',\n",
       " 'skills',\n",
       " 'required',\n",
       " 'manufacturing',\n",
       " 'company',\n",
       " 'experience',\n",
       " 'and',\n",
       " 'solid',\n",
       " 'cost',\n",
       " 'accounting',\n",
       " 'understanding',\n",
       " 'strong',\n",
       " 'attention',\n",
       " 'to',\n",
       " 'detail',\n",
       " 'flexibility',\n",
       " 'judgment',\n",
       " 'analytical',\n",
       " 'and',\n",
       " 'problem',\n",
       " 'solving',\n",
       " 'skills',\n",
       " 'strong',\n",
       " 'knowledge',\n",
       " 'of',\n",
       " 'gaap',\n",
       " 'fundamental',\n",
       " 'knowledge',\n",
       " 'of',\n",
       " 'ifrs',\n",
       " 'preferred',\n",
       " 'but',\n",
       " 'not',\n",
       " 'required',\n",
       " 'excellent',\n",
       " 'microsoft',\n",
       " 'excel',\n",
       " 'skills',\n",
       " 'strong',\n",
       " 'computer',\n",
       " 'skills',\n",
       " 'microsoft',\n",
       " 'office',\n",
       " 'erp',\n",
       " 'etc',\n",
       " 'strong',\n",
       " 'customer',\n",
       " 'service',\n",
       " 'skills',\n",
       " 'and',\n",
       " 'ability',\n",
       " 'to',\n",
       " 'work',\n",
       " 'on',\n",
       " 'multiple',\n",
       " 'projects',\n",
       " 'in',\n",
       " 'fast',\n",
       " 'paced',\n",
       " 'environment',\n",
       " 'ability',\n",
       " 'to',\n",
       " 'work',\n",
       " 'independently',\n",
       " 'and',\n",
       " 'in',\n",
       " 'team',\n",
       " 'environment',\n",
       " 'ability',\n",
       " 'to',\n",
       " 'take',\n",
       " 'the',\n",
       " 'initiative',\n",
       " 'accountability',\n",
       " 'and',\n",
       " 'drive',\n",
       " 'results',\n",
       " 'excellent',\n",
       " 'organization',\n",
       " 'communication',\n",
       " 'oral',\n",
       " 'and',\n",
       " 'written',\n",
       " 'and',\n",
       " 'collaboration',\n",
       " 'skills',\n",
       " 'education',\n",
       " 'and',\n",
       " 'experience',\n",
       " 'bachelor',\n",
       " 'degree',\n",
       " 'in',\n",
       " 'accounting',\n",
       " 'or',\n",
       " 'finance',\n",
       " 'progressive',\n",
       " 'fp',\n",
       " 'experience',\n",
       " 'with',\n",
       " 'at',\n",
       " 'least',\n",
       " 'years',\n",
       " 'at',\n",
       " 'manager',\n",
       " 'level',\n",
       " 'cpa',\n",
       " 'is',\n",
       " 'preferred',\n",
       " 'but',\n",
       " 'not',\n",
       " 'required',\n",
       " 'pharmaceutical',\n",
       " 'medical',\n",
       " 'device',\n",
       " 'life',\n",
       " 'science',\n",
       " 'manufacturing',\n",
       " 'experience',\n",
       " 'preferred',\n",
       " 'but',\n",
       " 'not',\n",
       " 'required']"
      ]
     },
     "execution_count": 64,
     "metadata": {},
     "output_type": "execute_result"
    }
   ],
   "source": [
    "simple_preprocess(df.sample()['description'].values[0])"
   ]
  },
  {
   "cell_type": "code",
   "execution_count": 67,
   "metadata": {},
   "outputs": [],
   "source": [
    "des_corpus = df['description'].map(simple_preprocess)\n",
    "des_bigram = Phraser(Phrases(title_corpus, min_count=1, threshold=1))"
   ]
  },
  {
   "cell_type": "code",
   "execution_count": 68,
   "metadata": {},
   "outputs": [],
   "source": [
    "# ext_corpus = list(prepare_corpus(des_corpus, des_bigram))\n",
    "model3 = Word2Vec(des_corpus, size=100, window=2, min_count=1)"
   ]
  },
  {
   "cell_type": "code",
   "execution_count": 69,
   "metadata": {},
   "outputs": [
    {
     "name": "stderr",
     "output_type": "stream",
     "text": [
      "C:\\Anaconda\\lib\\site-packages\\ipykernel_launcher.py:1: DeprecationWarning: Call to deprecated `most_similar` (Method will be removed in 4.0.0, use self.wv.most_similar() instead).\n",
      "  \"\"\"Entry point for launching an IPython kernel.\n"
     ]
    },
    {
     "data": {
      "text/plain": [
       "[('reinforcement', 0.6083050966262817),\n",
       " ('ml', 0.582961916923523),\n",
       " ('languagemachine', 0.5725721716880798),\n",
       " ('usesmachine', 0.5679627656936646),\n",
       " ('intellus', 0.5556710958480835),\n",
       " ('skyfactor', 0.5529855489730835),\n",
       " ('nmt', 0.5508214235305786),\n",
       " ('seeds', 0.5421456098556519),\n",
       " ('recert', 0.5254437327384949),\n",
       " ('implanting', 0.5223269462585449)]"
      ]
     },
     "execution_count": 69,
     "metadata": {},
     "output_type": "execute_result"
    }
   ],
   "source": [
    "model3.most_similar('machine')"
   ]
  },
  {
   "cell_type": "code",
   "execution_count": 70,
   "metadata": {},
   "outputs": [
    {
     "name": "stderr",
     "output_type": "stream",
     "text": [
      "C:\\Anaconda\\lib\\site-packages\\ipykernel_launcher.py:1: DeprecationWarning: Call to deprecated `most_similar` (Method will be removed in 4.0.0, use self.wv.most_similar() instead).\n",
      "  \"\"\"Entry point for launching an IPython kernel.\n"
     ]
    },
    {
     "data": {
      "text/plain": [
       "[('bayesian', 0.7255326509475708),\n",
       " ('computational', 0.7141527533531189),\n",
       " ('ml', 0.7078242301940918),\n",
       " ('econometric', 0.6960485577583313),\n",
       " ('dl', 0.6859290599822998),\n",
       " ('inference', 0.6837856769561768),\n",
       " ('hadoop', 0.6829668283462524),\n",
       " ('query', 0.6812832355499268),\n",
       " ('mlflow', 0.6737052202224731),\n",
       " ('rdbms', 0.6709576845169067)]"
      ]
     },
     "execution_count": 70,
     "metadata": {},
     "output_type": "execute_result"
    }
   ],
   "source": [
    "model3.most_similar('nlp')"
   ]
  },
  {
   "cell_type": "code",
   "execution_count": 71,
   "metadata": {},
   "outputs": [
    {
     "name": "stderr",
     "output_type": "stream",
     "text": [
      "C:\\Anaconda\\lib\\site-packages\\ipykernel_launcher.py:1: DeprecationWarning: Call to deprecated `most_similar` (Method will be removed in 4.0.0, use self.wv.most_similar() instead).\n",
      "  \"\"\"Entry point for launching an IPython kernel.\n"
     ]
    },
    {
     "data": {
      "text/plain": [
       "[('scala', 0.823514461517334),\n",
       " ('java', 0.8077995181083679),\n",
       " ('matlab', 0.7637660503387451),\n",
       " ('javascript', 0.761340856552124),\n",
       " ('sql', 0.7463383674621582),\n",
       " ('scripting', 0.7312077283859253),\n",
       " ('kotlin', 0.727847695350647),\n",
       " ('nodejs', 0.7260598540306091),\n",
       " ('bash', 0.7146818041801453),\n",
       " ('vba', 0.7121195793151855)]"
      ]
     },
     "execution_count": 71,
     "metadata": {},
     "output_type": "execute_result"
    }
   ],
   "source": [
    "model3.most_similar('python')"
   ]
  },
  {
   "cell_type": "code",
   "execution_count": 72,
   "metadata": {},
   "outputs": [
    {
     "name": "stderr",
     "output_type": "stream",
     "text": [
      "C:\\Anaconda\\lib\\site-packages\\ipykernel_launcher.py:1: DeprecationWarning: Call to deprecated `most_similar` (Method will be removed in 4.0.0, use self.wv.most_similar() instead).\n",
      "  \"\"\"Entry point for launching an IPython kernel.\n"
     ]
    },
    {
     "data": {
      "text/plain": [
       "[('keras', 0.9490399360656738),\n",
       " ('pytorch', 0.9412356615066528),\n",
       " ('caffe', 0.926520586013794),\n",
       " ('numpy', 0.9168263673782349),\n",
       " ('scipy', 0.9084475040435791),\n",
       " ('theano', 0.9005922079086304),\n",
       " ('pandas', 0.8822751045227051),\n",
       " ('pig', 0.8790199160575867),\n",
       " ('jupyter', 0.8773614168167114),\n",
       " ('hbase', 0.8702083230018616)]"
      ]
     },
     "execution_count": 72,
     "metadata": {},
     "output_type": "execute_result"
    }
   ],
   "source": [
    "model3.most_similar('tensorflow')"
   ]
  },
  {
   "cell_type": "code",
   "execution_count": 73,
   "metadata": {},
   "outputs": [
    {
     "name": "stderr",
     "output_type": "stream",
     "text": [
      "C:\\Anaconda\\lib\\site-packages\\ipykernel_launcher.py:1: DeprecationWarning: Call to deprecated `most_similar` (Method will be removed in 4.0.0, use self.wv.most_similar() instead).\n",
      "  \"\"\"Entry point for launching an IPython kernel.\n"
     ]
    },
    {
     "data": {
      "text/plain": [
       "[('keras', 0.9460268616676331),\n",
       " ('tensorflow', 0.9412356615066528),\n",
       " ('caffe', 0.9303950071334839),\n",
       " ('theano', 0.920319676399231),\n",
       " ('scipy', 0.9184392690658569),\n",
       " ('numpy', 0.9172887206077576),\n",
       " ('mxnet', 0.9094836115837097),\n",
       " ('jupyter', 0.8860901594161987),\n",
       " ('pandas', 0.8792545199394226),\n",
       " ('pig', 0.8789596557617188)]"
      ]
     },
     "execution_count": 73,
     "metadata": {},
     "output_type": "execute_result"
    }
   ],
   "source": [
    "model3.most_similar('pytorch')"
   ]
  },
  {
   "cell_type": "markdown",
   "metadata": {},
   "source": [
    "# *"
   ]
  },
  {
   "cell_type": "code",
   "execution_count": 77,
   "metadata": {},
   "outputs": [],
   "source": [
    "from ast import literal_eval"
   ]
  },
  {
   "cell_type": "code",
   "execution_count": 78,
   "metadata": {},
   "outputs": [
    {
     "data": {
      "text/plain": [
       "[1, 3, 4]"
      ]
     },
     "execution_count": 78,
     "metadata": {},
     "output_type": "execute_result"
    }
   ],
   "source": [
    "literal_eval( str([1,3,4]))"
   ]
  },
  {
   "cell_type": "code",
   "execution_count": 76,
   "metadata": {},
   "outputs": [
    {
     "data": {
      "text/plain": [
       "'[\\'Location: Export\\', \\'Job Description\\', \\'FS-Elliott is seeking a Product Engineer with fundamental knowledge of mechanical system design and will work well within a cross functional team. This position will work within a highly technical group and will contribute to the design of new products and to the design improvements of existing products.\\', \\'Duties And Responsibilities\\', \\'Design and analysis of high speed mechanical systems including pinions, gears, bearings, and seals.\\', \\'Design and analysis of structural bases, supports, and enclosures.\\', \\'Creates technical test plans and standard operating procedures.\\', \\'Sets up test equipment.\\', \\'Assists in testing of equipment, and analyzes collected data.\\', \\'Performs project work that includes the design, analysis, and testing of new or existing products.\\', \\'Works closely with interdepartmental teams or vendors.\\', \\'Performs other related duties as assigned by management.\\', \\'Qualifications\\', \"Bachelor\\'s Degree (BS) from four-year college or university, and 1-5 years of related experience and/or training, or equivalent combination of education and experience.\", \\'Computer skills required: Microsoft office, CAD software, and FEA software. Rotordynamics tools, Easy-Thomas and LabVIEW are a plus.\\', \\'1-5 years of experience with a 3D modeling software (preferably Autodesk Inventor) with knowledge of good modeling practices.\\', \\'1-5 years of experience using FEA tools (preferably ANSYS).\\', \\'Ability to read, analyze, and interpret, as well as write technical documents and reports.\\', \\'Good analytical and problem solving skills.\\', \\'Demonstrated ability to communicate effectively: to respond effectively to the most sensitive inquiries or concerns; to make effective and persuasive presentations on complex topics to co-workers, senior leadership, and customers.\\', \\'Demonstrated drive for results and initiative, identifying opportunities and take action to resolve.\\', \\'Preference will be given to candidates with compressor design experience.\\', \\'Company Description\\', \\'Join our Team\\', \\'At FS-Elliott, we are all here to support the same goal – partnering with manufacturers to bring value to their facility. We take pride in the fact that our customers have trusted us for over 50 years to deliver reliable and efficient compressed air to power their critical operations. Essential to our success is the team of individuals located at our headquarters in Export, Pennsylvania, and regional offices in Diamond Bar, California, Houston, Texas and throughout China, India, Saudi Arabia, United Kingdom, Taiwan, Germany, and Malaysia. Our employees embody the core values of who we are and what we represent, including honesty and integrity in all aspects of the organization.\\', \\'Explore how you can join our diverse team committed to innovation and growth by accessing our careers portal to view for available employment opportunities at FS-Elliott and throughout the Fusheng organization. If you would like to submit further information after going through the application process, please complete and submit our job application form.\\', \\'We are proud to be an equal opportunity employer committed to hiring a diverse workforce.\\', \\'Position Requirements\\', \\'Less than 1 Year work experience\\']'"
      ]
     },
     "execution_count": 76,
     "metadata": {},
     "output_type": "execute_result"
    }
   ],
   "source": [
    "df.sample()['description'].values[0]"
   ]
  },
  {
   "cell_type": "code",
   "execution_count": 83,
   "metadata": {},
   "outputs": [
    {
     "data": {
      "text/plain": [
       "array([list(['Business Analyst Calgary', 'Calgary', 'Years of experience:8+', 'Job Description', 'Candidate with experience in identifying processes and has deployed', 'Robotics successfully. Job included and not limited to', 'Identifying processes where robotics solutions can be deployed', 'Prepare business case and lead the discussions with Customers', 'Create PDD documents Example: As-Is process Map, To-Be process Map, Volumetric', 'data, Business Case, Applications, Operating Hours, Key Stroke Document/steps etc.', 'Create to be process maps', 'Lead UAT & take it to closure'])],\n",
       "      dtype=object)"
      ]
     },
     "execution_count": 83,
     "metadata": {},
     "output_type": "execute_result"
    }
   ],
   "source": [
    "df.sample()['description'].map(literal_eval).values"
   ]
  },
  {
   "cell_type": "code",
   "execution_count": 88,
   "metadata": {
    "scrolled": true
   },
   "outputs": [
    {
     "name": "stdout",
     "output_type": "stream",
     "text": [
      "Sr. HR Systems Developer / Workday Integration Specialist (REMOTE - Anywhere in the US) \n",
      "\n",
      "Maryland Heights MO 63043 St Louis 1 14100 Magellan Plaza Remote - United States \n",
      "\n",
      "Responsible for Workday system management and performance optimization. Designs, develops, and maintains system integrations. Plans, schedules, and implements platform upgrades. Configures and administers system security, automated business processes, and tenant configuration. Provides escalated (third-tier) technical support to users, and manages problem resolution with vendors. \n",
      "\n",
      "This is a remote position, allowing you to telecommute from anywhere in the US. \n",
      "\n",
      "  \n",
      "\n",
      "Collaborates with internal business partners and/or HR technologists to identify requirements, design, test, deploy and monitor custom integrations leveraging Workday’s Integration Cloud Platform using SOAP Webservices, RESTful Webservices, Enterprise Interface Builder (EIB), and Document Transform Workday Studio. Maintains necessary documentation for integration configuration and testing. \n",
      "\n",
      "  \n",
      "\n",
      "Maintains and develops Workday security configuration including defining and documenting user roles to meet the needs of the business. \n",
      "\n",
      "  \n",
      "\n",
      "Identifies system, process, performance, and architectural improvements to support the HR technical roadmap and business need. Engages as subject matter expert for technical project requirements, design, and technical quality reviews. \n",
      "\n",
      "  \n",
      "\n",
      "Provides escalated troubleshooting and root cause analysis for system, data, interface, and reporting issues. Manages interactions with external vendors for escalated problem resolution. \n",
      "\n",
      "  \n",
      "\n",
      "Acts as a peer reviewer to HR technologists to ensure system integrity and adherence to the governance processes. \n",
      "\n",
      "  \n",
      "\n",
      "Ensures system software is current on all platforms, and tests new patches or updates as necessary, or as recommended by vendors. \n",
      "\n",
      "  \n",
      "\n",
      "Performs mass data loads in Workday such as new acquisitions or substantial data changes. \n",
      "\n",
      "  \n",
      "\n",
      "General Job Information \n",
      "\n",
      "Title \n",
      "\n",
      "Sr. HR Systems Developer / Workday Integration Specialist (REMOTE - Anywhere in the US) \n",
      "\n",
      "Grade \n",
      "\n",
      "28 \n",
      "\n",
      "Job Family \n",
      "\n",
      "Human Resources Group \n",
      "\n",
      "Country \n",
      "\n",
      "United States of America \n",
      "\n",
      "FLSA Status \n",
      "\n",
      "United States of America (Exempt) \n",
      "\n",
      "Recruiting Start Date \n",
      "\n",
      "8/8/2019 \n",
      "\n",
      "Date Requisition Created \n",
      "\n",
      "8/8/2019 \n",
      "\n",
      "Work Experience \n",
      "\n",
      "Human Resources \n",
      "\n",
      "Education \n",
      "\n",
      "Bachelors (Required) \n",
      "\n",
      "License And Certifications - Required \n",
      "\n",
      "License and Certifications - Preferred \n",
      "\n",
      "Responsibilities \n",
      "\n",
      "  \n",
      "\n",
      "Other Job Requirements \n",
      "\n",
      "  \n",
      "\n",
      "Minimum of 5-8 years of experience with HR Systems configuration, operations and upgrades. \n",
      "\n",
      "3 or more years of experience using and configuring Workday. \n",
      "\n",
      "Object-oriented programming experience, with knowledge of XML, XSLT, X-Path and other web development languages. \n",
      "\n",
      "Strong understanding of Workday configuration, integrations, and Workday Web Services (EIBs, XSLT, XML, XPATH, Web Services, Java, Cloud Connect, Workday Studio, Report Writer, BIRT, Calculated Fields). \n",
      "\n",
      "Demonstrated project management skills and the ability to manage multiple high-priority assignments simultaneously while meeting deadlines and quality standards. \n",
      "\n",
      "Excellent analytical, organizational and problem solving skills, including data analysis. \n",
      "\n",
      "Strong organizational, interpersonal, communication and customer service skills with both technical and functional end users. \n",
      "\n",
      "Experience with Kainos SMART, Service Now, and Saba a plus. \n",
      "\n",
      "Magellan Health Services is proud to be an Equal Opportunity Employer and a Tobacco-free workplace. EOE/M/F/Vet/Disabled. Every employee must understand, comply and attest to the security responsibilities and security controls unique to their position. \n",
      "\n",
      "Posted Yesterday Full time R00000028269 \n",
      "\n",
      "Magellan is the employer of choice for hard working people interested in making a difference in the health care industry and in the communities where we work and live. Our strong culture of caring is the common thread in both our business strategy and our work environment. We value professional growth and development, total health and wellness, rewards and recognition as well as employee unity. Magellan is a place where you can thrive. Click here to search our openings. \n",
      "\n",
      "Magellan is committed to providing equal employment opportunities to employees and applicants for employment without regard to race, color, creed, religion, sex, gender identity and expression, sexual orientation, marital status, age, national origin, ancestry, citizenship, physical or mental disability, disabled veteran or veteran of the Vietnam Era status, or any other factors protected by law. \n",
      "\n",
      "Magellan is committed to meeting applicable Federal labor and employment law posting requirements by providing necessary posters in a format which is easily accessible and conspicuous to all applicants. Copies of applicable posters are accessible by clicking here . \n",
      "\n",
      " Warning: Employment Scam  \n",
      "\n",
      "It has come to our attention that a false representative is contacting potential candidates and offering them work at home positions with Magellan Health. “Interviews” are conducted completely through email and the false job offer includes the promise of a check to be issued to the candidate for the purposes of setting up a home office. \n",
      "\n",
      "Please know that Magellan Health does not interview any candidate through email, nor do we issue checks to candidates to set up home offices. All of our available positions are posted on legitimate job boards and our recruitment team directly contacts candidates should there be a fit. \n",
      "\n",
      "If you suspect you are being contacted by a false representative of Magellan Health, please call 410-953-2911 \n",
      "\n"
     ]
    }
   ],
   "source": [
    "for line in df.sample()['description'].map(literal_eval).values[0]:\n",
    "    print(line, \"\\n\")\n",
    "    pass"
   ]
  },
  {
   "cell_type": "code",
   "execution_count": 90,
   "metadata": {},
   "outputs": [
    {
     "data": {
      "text/plain": [
       "'8x8, Inc. (NYSE:EGHT) communication solutions help businesses transform their customer and employee experience. With one system of engagement for cloud voice, video, collaboration and contact center and one system of intelligence on one cloud communications platform, businesses can now communicate faster and smarter to exceed the speed of customer expectations. For additional information, visit www.8x8.com , or follow 8x8 on LinkedIn , Twitter , and Facebook .'"
      ]
     },
     "execution_count": 90,
     "metadata": {},
     "output_type": "execute_result"
    }
   ],
   "source": [
    "df.sample()['description'].map(literal_eval).values[0][0]"
   ]
  }
 ],
 "metadata": {
  "kernelspec": {
   "display_name": "Python 3",
   "language": "python",
   "name": "python3"
  },
  "language_info": {
   "codemirror_mode": {
    "name": "ipython",
    "version": 3
   },
   "file_extension": ".py",
   "mimetype": "text/x-python",
   "name": "python",
   "nbconvert_exporter": "python",
   "pygments_lexer": "ipython3",
   "version": "3.7.1"
  }
 },
 "nbformat": 4,
 "nbformat_minor": 2
}
