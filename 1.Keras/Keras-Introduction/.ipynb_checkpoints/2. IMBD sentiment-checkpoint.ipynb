{
 "cells": [
  {
   "cell_type": "code",
   "execution_count": 1,
   "metadata": {
    "colab": {},
    "colab_type": "code",
    "id": "P3ZcqaRk5BG7"
   },
   "outputs": [
    {
     "name": "stderr",
     "output_type": "stream",
     "text": [
      "Using TensorFlow backend.\n"
     ]
    },
    {
     "name": "stdout",
     "output_type": "stream",
     "text": [
      "Downloading data from https://s3.amazonaws.com/text-datasets/imdb.npz\n",
      "17465344/17464789 [==============================] - 22s 1us/step\n"
     ]
    }
   ],
   "source": [
    "from keras.datasets import imdb\n",
    "\n",
    "(train_data, train_labels), (test_data, test_labels) = imdb.load_data(num_words=10000)"
   ]
  },
  {
   "cell_type": "code",
   "execution_count": 2,
   "metadata": {
    "colab": {},
    "colab_type": "code",
    "id": "pPburscl5G9t"
   },
   "outputs": [
    {
     "name": "stdout",
     "output_type": "stream",
     "text": [
      "Downloading data from https://s3.amazonaws.com/text-datasets/imdb_word_index.json\n",
      "1646592/1641221 [==============================] - 6s 3us/step\n"
     ]
    }
   ],
   "source": [
    "word_index = imdb.get_word_index()\n",
    "reverse_word_index = dict([(value, key) for (key, value) in word_index.items()])\n",
    "decoded_review = ' '.join([reverse_word_index.get(i - 3, '?') for i in train_data[1]])"
   ]
  },
  {
   "cell_type": "code",
   "execution_count": 3,
   "metadata": {
    "colab": {
     "base_uri": "https://localhost:8080/",
     "height": 54
    },
    "colab_type": "code",
    "executionInfo": {
     "elapsed": 881,
     "status": "ok",
     "timestamp": 1572879103330,
     "user": {
      "displayName": "Wiśniowa Broń",
      "photoUrl": "https://lh3.googleusercontent.com/a-/AAuE7mBi4q-e8bkML4qNfsnQStza4vsUvI718PMxayGypQ=s64",
      "userId": "10736110543973405951"
     },
     "user_tz": -60
    },
    "id": "5zzNcmn85G_7",
    "outputId": "fd7e580c-b62f-45eb-d006-f6232817ec0f"
   },
   "outputs": [
    {
     "data": {
      "text/plain": [
       "\"? big hair big boobs bad music and a giant safety pin these are the words to best describe this terrible movie i love cheesy horror movies and i've seen hundreds but this had got to be on of the worst ever made the plot is paper thin and ridiculous the acting is an abomination the script is completely laughable the best is the end showdown with the cop and how he worked out who the killer is it's just so damn terribly written the clothes are sickening and funny in equal ? the hair is big lots of boobs ? men wear those cut ? shirts that show off their ? sickening that men actually wore them and the music is just ? trash that plays over and over again in almost every scene there is trashy music boobs and ? taking away bodies and the gym still doesn't close for ? all joking aside this is a truly bad film whose only charm is to look back on the disaster that was the 80's and have a good old laugh at how bad everything was back then\""
      ]
     },
     "execution_count": 3,
     "metadata": {},
     "output_type": "execute_result"
    }
   ],
   "source": [
    "decoded_review"
   ]
  },
  {
   "cell_type": "code",
   "execution_count": 4,
   "metadata": {
    "colab": {},
    "colab_type": "code",
    "id": "EOc3bMue5G5Y"
   },
   "outputs": [],
   "source": [
    "import numpy as np\n",
    "\n",
    "def vectorize_sequences(sequences, dimension=10000):\n",
    "    results = np.zeros((len(sequences), dimension))\n",
    "    for i, sequence in enumerate(sequences):\n",
    "        results[i, sequence] = 1.  \n",
    "    return results\n",
    "\n",
    "x_train = vectorize_sequences(train_data)\n",
    "x_test = vectorize_sequences(test_data)"
   ]
  },
  {
   "cell_type": "code",
   "execution_count": 5,
   "metadata": {
    "colab": {
     "base_uri": "https://localhost:8080/",
     "height": 34
    },
    "colab_type": "code",
    "executionInfo": {
     "elapsed": 610,
     "status": "ok",
     "timestamp": 1572883535778,
     "user": {
      "displayName": "Wiśniowa Broń",
      "photoUrl": "https://lh3.googleusercontent.com/a-/AAuE7mBi4q-e8bkML4qNfsnQStza4vsUvI718PMxayGypQ=s64",
      "userId": "10736110543973405951"
     },
     "user_tz": -60
    },
    "id": "pNYkVNOz5zls",
    "outputId": "7d4850d4-037a-4ff7-96e8-1926c64b8db5"
   },
   "outputs": [
    {
     "data": {
      "text/plain": [
       "array([0., 1., 1., ..., 0., 0., 0.])"
      ]
     },
     "execution_count": 5,
     "metadata": {},
     "output_type": "execute_result"
    }
   ],
   "source": [
    "x_train[0]"
   ]
  },
  {
   "cell_type": "code",
   "execution_count": 6,
   "metadata": {
    "colab": {
     "base_uri": "https://localhost:8080/",
     "height": 34
    },
    "colab_type": "code",
    "executionInfo": {
     "elapsed": 592,
     "status": "ok",
     "timestamp": 1572883536426,
     "user": {
      "displayName": "Wiśniowa Broń",
      "photoUrl": "https://lh3.googleusercontent.com/a-/AAuE7mBi4q-e8bkML4qNfsnQStza4vsUvI718PMxayGypQ=s64",
      "userId": "10736110543973405951"
     },
     "user_tz": -60
    },
    "id": "beBEIspE5zoS",
    "outputId": "c48c5bdd-dbc6-4b77-f497-e41167908f9f"
   },
   "outputs": [
    {
     "data": {
      "text/plain": [
       "10000"
      ]
     },
     "execution_count": 6,
     "metadata": {},
     "output_type": "execute_result"
    }
   ],
   "source": [
    "len(x_train[0]) #10000 słów w recenzjach"
   ]
  },
  {
   "cell_type": "code",
   "execution_count": 7,
   "metadata": {
    "colab": {
     "base_uri": "https://localhost:8080/",
     "height": 34
    },
    "colab_type": "code",
    "executionInfo": {
     "elapsed": 1087,
     "status": "ok",
     "timestamp": 1572883537941,
     "user": {
      "displayName": "Wiśniowa Broń",
      "photoUrl": "https://lh3.googleusercontent.com/a-/AAuE7mBi4q-e8bkML4qNfsnQStza4vsUvI718PMxayGypQ=s64",
      "userId": "10736110543973405951"
     },
     "user_tz": -60
    },
    "id": "5f1GDxNQ5zqh",
    "outputId": "a34f026a-20d3-4735-8c57-d9db4548c1bd"
   },
   "outputs": [
    {
     "data": {
      "text/plain": [
       "array([1, 0, 0, ..., 0, 1, 0], dtype=int64)"
      ]
     },
     "execution_count": 7,
     "metadata": {},
     "output_type": "execute_result"
    }
   ],
   "source": [
    "len(train_labels)\n",
    "len(train_data) #25000\n",
    "train_labels"
   ]
  },
  {
   "cell_type": "code",
   "execution_count": 8,
   "metadata": {
    "colab": {},
    "colab_type": "code",
    "id": "24-8ci7n5zs2"
   },
   "outputs": [],
   "source": [
    "y_train = np.asarray(train_labels).astype('float32')\n",
    "y_test = np.asarray(test_labels).astype('float32')"
   ]
  },
  {
   "cell_type": "code",
   "execution_count": 9,
   "metadata": {
    "colab": {
     "base_uri": "https://localhost:8080/",
     "height": 34
    },
    "colab_type": "code",
    "executionInfo": {
     "elapsed": 697,
     "status": "ok",
     "timestamp": 1572883548336,
     "user": {
      "displayName": "Wiśniowa Broń",
      "photoUrl": "https://lh3.googleusercontent.com/a-/AAuE7mBi4q-e8bkML4qNfsnQStza4vsUvI718PMxayGypQ=s64",
      "userId": "10736110543973405951"
     },
     "user_tz": -60
    },
    "id": "pmwIwUPE6lNs",
    "outputId": "4002e5f9-1518-41d4-8c70-86e6d5ceb38d"
   },
   "outputs": [
    {
     "data": {
      "text/plain": [
       "array([1., 0., 0., ..., 0., 1., 0.], dtype=float32)"
      ]
     },
     "execution_count": 9,
     "metadata": {},
     "output_type": "execute_result"
    }
   ],
   "source": [
    "y_train #0 negatywne, 1 pozytywne"
   ]
  },
  {
   "cell_type": "code",
   "execution_count": 22,
   "metadata": {
    "colab": {},
    "colab_type": "code",
    "id": "oMYo1EjBDh1g"
   },
   "outputs": [],
   "source": [
    "from keras import models\n",
    "from keras import layers\n",
    "\n",
    "model = models.Sequential()\n",
    "model.add(layers.Dense(32, activation='tanh', input_shape=(10000,)))\n",
    "model.add(layers.Dense(16, activation='tanh'))\n",
    "model.add(layers.Dense(1, activation='sigmoid'))"
   ]
  },
  {
   "cell_type": "code",
   "execution_count": 23,
   "metadata": {
    "colab": {},
    "colab_type": "code",
    "id": "jFIYRJhUDlRB"
   },
   "outputs": [],
   "source": [
    "from keras import optimizers\n",
    "from keras import metrics\n",
    "from keras import losses\n",
    "\n",
    "model.compile(optimizer=optimizers.RMSprop(lr=0.001),\n",
    "              loss='binary_crossentropy',\n",
    "              metrics=['accuracy'])"
   ]
  },
  {
   "cell_type": "code",
   "execution_count": 24,
   "metadata": {
    "colab": {},
    "colab_type": "code",
    "id": "tjcsBnpMInZ-"
   },
   "outputs": [],
   "source": [
    "x_val = x_train[:10000]\n",
    "partial_x_train = x_train[10000:]\n",
    "\n",
    "y_val = y_train[:10000]\n",
    "partial_y_train = y_train[10000:]"
   ]
  },
  {
   "cell_type": "code",
   "execution_count": 25,
   "metadata": {
    "colab": {
     "base_uri": "https://localhost:8080/",
     "height": 697
    },
    "colab_type": "code",
    "executionInfo": {
     "elapsed": 54773,
     "status": "ok",
     "timestamp": 1572885694313,
     "user": {
      "displayName": "Wiśniowa Broń",
      "photoUrl": "https://lh3.googleusercontent.com/a-/AAuE7mBi4q-e8bkML4qNfsnQStza4vsUvI718PMxayGypQ=s64",
      "userId": "10736110543973405951"
     },
     "user_tz": -60
    },
    "id": "dNdNh0wKInYS",
    "outputId": "6ca2bfc2-1434-4c71-cf25-a946e85efc9a"
   },
   "outputs": [
    {
     "name": "stdout",
     "output_type": "stream",
     "text": [
      "Train on 15000 samples, validate on 10000 samples\n",
      "Epoch 1/2\n",
      "15000/15000 [==============================] - 9s 609us/step - loss: 0.4684 - acc: 0.7987 - val_loss: 0.3255 - val_acc: 0.8848\n",
      "Epoch 2/2\n",
      "15000/15000 [==============================] - 6s 428us/step - loss: 0.2505 - acc: 0.9120 - val_loss: 0.2747 - val_acc: 0.8905\n"
     ]
    }
   ],
   "source": [
    "history = model.fit(partial_x_train,\n",
    "                    partial_y_train,\n",
    "                    epochs=5,\n",
    "                    batch_size=512,\n",
    "                    validation_data=(x_val, y_val))\n",
    "\n",
    "# history = model.fit(x_train, y_train, epochs=20, batch_size=512)"
   ]
  },
  {
   "cell_type": "code",
   "execution_count": 26,
   "metadata": {
    "colab": {
     "base_uri": "https://localhost:8080/",
     "height": 51
    },
    "colab_type": "code",
    "executionInfo": {
     "elapsed": 3100,
     "status": "ok",
     "timestamp": 1572885713935,
     "user": {
      "displayName": "Wiśniowa Broń",
      "photoUrl": "https://lh3.googleusercontent.com/a-/AAuE7mBi4q-e8bkML4qNfsnQStza4vsUvI718PMxayGypQ=s64",
      "userId": "10736110543973405951"
     },
     "user_tz": -60
    },
    "id": "_up6wAExKzZ7",
    "outputId": "10e97878-5b6e-4da2-fa82-2bb3212e5a0f"
   },
   "outputs": [
    {
     "name": "stdout",
     "output_type": "stream",
     "text": [
      "25000/25000 [==============================] - 8s 307us/step\n"
     ]
    },
    {
     "data": {
      "text/plain": [
       "[0.29146459814071657, 0.88296]"
      ]
     },
     "execution_count": 26,
     "metadata": {},
     "output_type": "execute_result"
    }
   ],
   "source": [
    "results = model.evaluate(x_test, y_test)\n",
    "results\n",
    "# model.predict(x_test)\n",
    "\n",
    "#Acc 1)Dense 16 relu 2)Dense 16 relu 3)Dense 1 sigmoid  Train:25000 ale z tego 10000 do val, Test:25000, epoki: 5, batch size=128 0,84       \n",
    "#Acc 1)Dense 16 relu 2)Dense 16 relu 3)Dense 1 sigmoid  Train:25000 ale z tego 10000 do val, Test:25000, epoki: 20, batch size=128 0,85\n",
    "#Acc 1)Dense 16 relu 2)Dense 16 tanh 3)Dense 1 tanh  Train:25000 ale z tego 10000 do val, Test:25000, epoki: 20, batch size=128 0.87"
   ]
  },
  {
   "cell_type": "code",
   "execution_count": 82,
   "metadata": {
    "colab": {
     "base_uri": "https://localhost:8080/",
     "height": 34
    },
    "colab_type": "code",
    "executionInfo": {
     "elapsed": 2922,
     "status": "ok",
     "timestamp": 1572884711482,
     "user": {
      "displayName": "Wiśniowa Broń",
      "photoUrl": "https://lh3.googleusercontent.com/a-/AAuE7mBi4q-e8bkML4qNfsnQStza4vsUvI718PMxayGypQ=s64",
      "userId": "10736110543973405951"
     },
     "user_tz": -60
    },
    "id": "Gn6WY3edNgnA",
    "outputId": "c8d2c8ea-3640-4984-e6b4-7d6e03d4ad3a"
   },
   "outputs": [
    {
     "data": {
      "text/plain": [
       "array([0., 1., 1., ..., 0., 0., 0.], dtype=float32)"
      ]
     },
     "execution_count": 82,
     "metadata": {
      "tags": []
     },
     "output_type": "execute_result"
    }
   ],
   "source": [
    "pred = model.predict(x_test)"
   ]
  },
  {
   "cell_type": "code",
   "execution_count": 63,
   "metadata": {
    "colab": {
     "base_uri": "https://localhost:8080/",
     "height": 34
    },
    "colab_type": "code",
    "executionInfo": {
     "elapsed": 712,
     "status": "ok",
     "timestamp": 1572883829217,
     "user": {
      "displayName": "Wiśniowa Broń",
      "photoUrl": "https://lh3.googleusercontent.com/a-/AAuE7mBi4q-e8bkML4qNfsnQStza4vsUvI718PMxayGypQ=s64",
      "userId": "10736110543973405951"
     },
     "user_tz": -60
    },
    "id": "cy7RqvB8LFUY",
    "outputId": "e17b315a-6b89-46fa-8e37-b93155913933"
   },
   "outputs": [
    {
     "data": {
      "text/plain": [
       "10000"
      ]
     },
     "execution_count": 63,
     "metadata": {
      "tags": []
     },
     "output_type": "execute_result"
    }
   ],
   "source": [
    "pred[0]\n",
    "np.argmax(pred[0])\n",
    "np.argmax(test_labels[0])\n",
    "indices = [i for i in enumerate(pred) if np.argmax(pred[0])!=np.argmax(test_labels[0])]\n",
    "subset_of_wrongly_predicted = [test_images[i] for i in indices ]"
   ]
  },
  {
   "cell_type": "code",
   "execution_count": 58,
   "metadata": {
    "colab": {
     "base_uri": "https://localhost:8080/",
     "height": 34
    },
    "colab_type": "code",
    "executionInfo": {
     "elapsed": 996,
     "status": "ok",
     "timestamp": 1572883622708,
     "user": {
      "displayName": "Wiśniowa Broń",
      "photoUrl": "https://lh3.googleusercontent.com/a-/AAuE7mBi4q-e8bkML4qNfsnQStza4vsUvI718PMxayGypQ=s64",
      "userId": "10736110543973405951"
     },
     "user_tz": -60
    },
    "id": "oBXg5lMTInVK",
    "outputId": "361c910a-a603-4098-f432-84bf89b8e3e0"
   },
   "outputs": [
    {
     "data": {
      "text/plain": [
       "dict_keys(['val_loss', 'val_acc', 'loss', 'acc'])"
      ]
     },
     "execution_count": 58,
     "metadata": {
      "tags": []
     },
     "output_type": "execute_result"
    }
   ],
   "source": [
    "history_dict = history.history\n",
    "history_dict.keys()"
   ]
  },
  {
   "cell_type": "code",
   "execution_count": 59,
   "metadata": {
    "colab": {
     "base_uri": "https://localhost:8080/",
     "height": 295
    },
    "colab_type": "code",
    "executionInfo": {
     "elapsed": 1257,
     "status": "ok",
     "timestamp": 1572883624268,
     "user": {
      "displayName": "Wiśniowa Broń",
      "photoUrl": "https://lh3.googleusercontent.com/a-/AAuE7mBi4q-e8bkML4qNfsnQStza4vsUvI718PMxayGypQ=s64",
      "userId": "10736110543973405951"
     },
     "user_tz": -60
    },
    "id": "31FyUMoJInSY",
    "outputId": "1c26e7c9-c169-4514-f283-e1967507fc49"
   },
   "outputs": [
    {
     "data": {
      "image/png": "[encoded data removed]",
      "text/plain": [
       "<Figure size 432x288 with 1 Axes>"
      ]
     },
     "metadata": {
      "tags": []
     },
     "output_type": "display_data"
    }
   ],
   "source": [
    "import matplotlib.pyplot as plt\n",
    "\n",
    "acc = history.history['acc']\n",
    "val_acc = history.history['val_acc']\n",
    "loss = history.history['loss']\n",
    "val_loss = history.history['val_loss']\n",
    "\n",
    "epochs = range(1, len(acc) + 1)\n",
    "\n",
    "# Parametr bo definiuje linię przerywaną w postaci niebieskich kropek.\n",
    "plt.plot(epochs, loss, 'bo', label='Strata trenowania')\n",
    "# Parametr b definiuje ciągłą niebieską linię.\n",
    "plt.plot(epochs, val_loss, 'b', label='Strata walidacji')\n",
    "plt.title('Strata trenowania i walidacji')\n",
    "plt.xlabel('Epoki')\n",
    "plt.ylabel('Strata')\n",
    "plt.legend()\n",
    "\n",
    "plt.show()"
   ]
  },
  {
   "cell_type": "code",
   "execution_count": 43,
   "metadata": {
    "colab": {
     "base_uri": "https://localhost:8080/",
     "height": 295
    },
    "colab_type": "code",
    "executionInfo": {
     "elapsed": 840,
     "status": "ok",
     "timestamp": 1572883427101,
     "user": {
      "displayName": "Wiśniowa Broń",
      "photoUrl": "https://lh3.googleusercontent.com/a-/AAuE7mBi4q-e8bkML4qNfsnQStza4vsUvI718PMxayGypQ=s64",
      "userId": "10736110543973405951"
     },
     "user_tz": -60
    },
    "id": "RJo31QaFI52O",
    "outputId": "23753f1d-8997-4212-e8f2-18f29fd00e7d"
   },
   "outputs": [
    {
     "data": {
      "image/png": "[encoded data removed]",
      "text/plain": [
       "<Figure size 432x288 with 1 Axes>"
      ]
     },
     "metadata": {
      "tags": []
     },
     "output_type": "display_data"
    }
   ],
   "source": [
    "acc_values = history_dict['acc']\n",
    "val_acc_values = history_dict['val_acc']\n",
    "\n",
    "plt.plot(epochs, acc, 'bo', label='Dokladnosc trenowania')\n",
    "plt.plot(epochs, val_acc, 'b', label='Dokladnosc walidacji')\n",
    "plt.title('Dokladnosc trenowania i walidacji')\n",
    "plt.xlabel('Epoki')\n",
    "plt.ylabel('Strata')\n",
    "plt.legend()\n",
    "\n",
    "plt.show()"
   ]
  }
 ],
 "metadata": {
  "colab": {
   "name": "IMBD sentiment.ipynb",
   "provenance": []
  },
  "kernelspec": {
   "display_name": "Python 3",
   "language": "python",
   "name": "python3"
  },
  "language_info": {
   "codemirror_mode": {
    "name": "ipython",
    "version": 3
   },
   "file_extension": ".py",
   "mimetype": "text/x-python",
   "name": "python",
   "nbconvert_exporter": "python",
   "pygments_lexer": "ipython3",
   "version": "3.7.1"
  }
 },
 "nbformat": 4,
 "nbformat_minor": 1
}
