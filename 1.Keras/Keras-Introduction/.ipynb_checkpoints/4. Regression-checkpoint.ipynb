{
 "cells": [
  {
   "cell_type": "code",
   "execution_count": 1,
   "metadata": {
    "colab": {
     "base_uri": "https://localhost:8080/",
     "height": 97
    },
    "colab_type": "code",
    "executionInfo": {
     "elapsed": 2260,
     "status": "ok",
     "timestamp": 1572888722824,
     "user": {
      "displayName": "Wiśniowa Broń",
      "photoUrl": "https://lh3.googleusercontent.com/a-/AAuE7mBi4q-e8bkML4qNfsnQStza4vsUvI718PMxayGypQ=s64",
      "userId": "10736110543973405951"
     },
     "user_tz": -60
    },
    "id": "5T-bNABKeJoF",
    "outputId": "70207308-ce81-4b3d-c9ba-434208c83641"
   },
   "outputs": [
    {
     "name": "stderr",
     "output_type": "stream",
     "text": [
      "Using TensorFlow backend.\n"
     ]
    },
    {
     "data": {
      "text/html": [
       "<p style=\"color: red;\">\n",
       "The default version of TensorFlow in Colab will soon switch to TensorFlow 2.x.<br>\n",
       "We recommend you <a href=\"https://www.tensorflow.org/guide/migrate\" target=\"_blank\">upgrade</a> now \n",
       "or ensure your notebook will continue to use TensorFlow 1.x via the <code>%tensorflow_version 1.x</code> magic:\n",
       "<a href=\"https://colab.research.google.com/notebooks/tensorflow_version.ipynb\" target=\"_blank\">more info</a>.</p>\n"
      ],
      "text/plain": [
       "<IPython.core.display.HTML object>"
      ]
     },
     "metadata": {
      "tags": []
     },
     "output_type": "display_data"
    },
    {
     "data": {
      "text/plain": [
       "'2.2.5'"
      ]
     },
     "execution_count": 1,
     "metadata": {
      "tags": []
     },
     "output_type": "execute_result"
    }
   ],
   "source": [
    "import keras\n",
    "keras.__version__"
   ]
  },
  {
   "cell_type": "code",
   "execution_count": 2,
   "metadata": {
    "colab": {
     "base_uri": "https://localhost:8080/",
     "height": 51
    },
    "colab_type": "code",
    "executionInfo": {
     "elapsed": 663,
     "status": "ok",
     "timestamp": 1572888731033,
     "user": {
      "displayName": "Wiśniowa Broń",
      "photoUrl": "https://lh3.googleusercontent.com/a-/AAuE7mBi4q-e8bkML4qNfsnQStza4vsUvI718PMxayGypQ=s64",
      "userId": "10736110543973405951"
     },
     "user_tz": -60
    },
    "id": "4bd2D7UkeT7p",
    "outputId": "d5d42555-ac2a-4650-8b04-8a61c513827f"
   },
   "outputs": [
    {
     "name": "stdout",
     "output_type": "stream",
     "text": [
      "Downloading data from https://s3.amazonaws.com/keras-datasets/boston_housing.npz\n",
      "57344/57026 [==============================] - 0s 0us/step\n"
     ]
    }
   ],
   "source": [
    "from keras.datasets import boston_housing\n",
    "\n",
    "(train_data, train_targets), (test_data, test_targets) =  boston_housing.load_data()"
   ]
  },
  {
   "cell_type": "code",
   "execution_count": 3,
   "metadata": {
    "colab": {
     "base_uri": "https://localhost:8080/",
     "height": 34
    },
    "colab_type": "code",
    "executionInfo": {
     "elapsed": 592,
     "status": "ok",
     "timestamp": 1572888731482,
     "user": {
      "displayName": "Wiśniowa Broń",
      "photoUrl": "https://lh3.googleusercontent.com/a-/AAuE7mBi4q-e8bkML4qNfsnQStza4vsUvI718PMxayGypQ=s64",
      "userId": "10736110543973405951"
     },
     "user_tz": -60
    },
    "id": "i1u7-7vdeT-b",
    "outputId": "7a9591bb-f43b-40c3-ed13-491e535299ac"
   },
   "outputs": [
    {
     "data": {
      "text/plain": [
       "(404, 13)"
      ]
     },
     "execution_count": 3,
     "metadata": {
      "tags": []
     },
     "output_type": "execute_result"
    }
   ],
   "source": [
    "train_data.shape"
   ]
  },
  {
   "cell_type": "code",
   "execution_count": 4,
   "metadata": {
    "colab": {
     "base_uri": "https://localhost:8080/",
     "height": 34
    },
    "colab_type": "code",
    "executionInfo": {
     "elapsed": 611,
     "status": "ok",
     "timestamp": 1572888736856,
     "user": {
      "displayName": "Wiśniowa Broń",
      "photoUrl": "https://lh3.googleusercontent.com/a-/AAuE7mBi4q-e8bkML4qNfsnQStza4vsUvI718PMxayGypQ=s64",
      "userId": "10736110543973405951"
     },
     "user_tz": -60
    },
    "id": "f_EbNXgceUB6",
    "outputId": "014cbc7c-5183-4349-d2db-61157fff6ee5"
   },
   "outputs": [
    {
     "data": {
      "text/plain": [
       "(102, 13)"
      ]
     },
     "execution_count": 4,
     "metadata": {
      "tags": []
     },
     "output_type": "execute_result"
    }
   ],
   "source": [
    "# Współczynnik przestępczości\n",
    "# Część działek o powierzchni przekraczającej 2300 metrów kwadratowych.\n",
    "# Część powierzchni działek działalności gospodarczych nie zajmujących się sprzedażą.\n",
    "# Sztuczna zmienna rzeki Charles River (= 1 jeżeli działka znajduje się przy rzece; 0 w pozostałych przypadkach).\n",
    "# Stopień koncentracji tlenków azotu(cząstek na 10 milionów).\n",
    "# Średnia liczba pokoi w budynku.\n",
    "# Część mieszkań zajętych przez właścicieli, które zostały wybudowane przed rokiem 1940.\n",
    "# Średnia ważona odległości od pięciu stref, w których znajduje się najwięcej zakładów pracy.\n",
    "# Indeks dostępności dróg szybkiego ruchu\n",
    "# Pełny podatek od nieruchomości za 10000 $.\n",
    "# Stosunek liczby uczniów do liczby nauczycieli.\n",
    "# 1000 * (Bk - 0.63) ** 2, gdzie Bk ułamkiem czarnoskórej ludności miasta.\n",
    "# % niższego statusu populacji.\n",
    "test_data.shape"
   ]
  },
  {
   "cell_type": "code",
   "execution_count": 7,
   "metadata": {
    "colab": {
     "base_uri": "https://localhost:8080/",
     "height": 238
    },
    "colab_type": "code",
    "executionInfo": {
     "elapsed": 593,
     "status": "ok",
     "timestamp": 1572888962947,
     "user": {
      "displayName": "Wiśniowa Broń",
      "photoUrl": "https://lh3.googleusercontent.com/a-/AAuE7mBi4q-e8bkML4qNfsnQStza4vsUvI718PMxayGypQ=s64",
      "userId": "10736110543973405951"
     },
     "user_tz": -60
    },
    "id": "0PEgxIDifJRw",
    "outputId": "a1698140-5a34-4e9b-a394-346f1c764965"
   },
   "outputs": [
    {
     "data": {
      "text/plain": [
       "array([[1.23247e+00, 0.00000e+00, 8.14000e+00, ..., 2.10000e+01,\n",
       "        3.96900e+02, 1.87200e+01],\n",
       "       [2.17700e-02, 8.25000e+01, 2.03000e+00, ..., 1.47000e+01,\n",
       "        3.95380e+02, 3.11000e+00],\n",
       "       [4.89822e+00, 0.00000e+00, 1.81000e+01, ..., 2.02000e+01,\n",
       "        3.75520e+02, 3.26000e+00],\n",
       "       ...,\n",
       "       [3.46600e-02, 3.50000e+01, 6.06000e+00, ..., 1.69000e+01,\n",
       "        3.62250e+02, 7.83000e+00],\n",
       "       [2.14918e+00, 0.00000e+00, 1.95800e+01, ..., 1.47000e+01,\n",
       "        2.61950e+02, 1.57900e+01],\n",
       "       [1.43900e-02, 6.00000e+01, 2.93000e+00, ..., 1.56000e+01,\n",
       "        3.76700e+02, 4.38000e+00]])"
      ]
     },
     "execution_count": 7,
     "metadata": {
      "tags": []
     },
     "output_type": "execute_result"
    }
   ],
   "source": [
    "train_data"
   ]
  },
  {
   "cell_type": "code",
   "execution_count": 0,
   "metadata": {
    "colab": {},
    "colab_type": "code",
    "id": "9IMk7s2wfcK4"
   },
   "outputs": [],
   "source": [
    "mean = train_data.mean(axis=0)\n",
    "train_data -= mean\n",
    "std = train_data.std(axis=0)\n",
    "train_data /= std\n",
    "\n",
    "test_data -= mean\n",
    "test_data /= std"
   ]
  },
  {
   "cell_type": "code",
   "execution_count": 0,
   "metadata": {
    "colab": {},
    "colab_type": "code",
    "id": "mAK98u2bfibm"
   },
   "outputs": [],
   "source": [
    "from keras import models\n",
    "from keras import layers\n",
    "\n",
    "def build_model():\n",
    "    # Będziemy tworzyć wiele instancji tego samego modelu, \n",
    "    # a więc konstruując je, będziemy korzystać z funkcji.\n",
    "    model = models.Sequential()\n",
    "    model.add(layers.Dense(64, activation='relu',\n",
    "                           input_shape=(train_data.shape[1],)))\n",
    "    model.add(layers.Dense(64, activation='relu'))\n",
    "    model.add(layers.Dense(1))\n",
    "    model.compile(optimizer='rmsprop', loss='mse', metrics=['mae'])\n",
    "    return model"
   ]
  },
  {
   "cell_type": "code",
   "execution_count": 10,
   "metadata": {
    "colab": {
     "base_uri": "https://localhost:8080/",
     "height": 493
    },
    "colab_type": "code",
    "executionInfo": {
     "elapsed": 102046,
     "status": "ok",
     "timestamp": 1572889171980,
     "user": {
      "displayName": "Wiśniowa Broń",
      "photoUrl": "https://lh3.googleusercontent.com/a-/AAuE7mBi4q-e8bkML4qNfsnQStza4vsUvI718PMxayGypQ=s64",
      "userId": "10736110543973405951"
     },
     "user_tz": -60
    },
    "id": "IAKnZHMifncv",
    "outputId": "6883274a-0f8a-4521-e46a-dfd7a2488b5a"
   },
   "outputs": [
    {
     "name": "stdout",
     "output_type": "stream",
     "text": [
      "processing fold # 0\n",
      "WARNING:tensorflow:From /usr/local/lib/python3.6/dist-packages/keras/backend/tensorflow_backend.py:66: The name tf.get_default_graph is deprecated. Please use tf.compat.v1.get_default_graph instead.\n",
      "\n",
      "WARNING:tensorflow:From /usr/local/lib/python3.6/dist-packages/keras/backend/tensorflow_backend.py:541: The name tf.placeholder is deprecated. Please use tf.compat.v1.placeholder instead.\n",
      "\n",
      "WARNING:tensorflow:From /usr/local/lib/python3.6/dist-packages/keras/backend/tensorflow_backend.py:4432: The name tf.random_uniform is deprecated. Please use tf.random.uniform instead.\n",
      "\n",
      "WARNING:tensorflow:From /usr/local/lib/python3.6/dist-packages/keras/optimizers.py:793: The name tf.train.Optimizer is deprecated. Please use tf.compat.v1.train.Optimizer instead.\n",
      "\n",
      "WARNING:tensorflow:From /usr/local/lib/python3.6/dist-packages/keras/backend/tensorflow_backend.py:1033: The name tf.assign_add is deprecated. Please use tf.compat.v1.assign_add instead.\n",
      "\n",
      "WARNING:tensorflow:From /usr/local/lib/python3.6/dist-packages/keras/backend/tensorflow_backend.py:1020: The name tf.assign is deprecated. Please use tf.compat.v1.assign instead.\n",
      "\n",
      "WARNING:tensorflow:From /usr/local/lib/python3.6/dist-packages/keras/backend/tensorflow_backend.py:3005: The name tf.Session is deprecated. Please use tf.compat.v1.Session instead.\n",
      "\n",
      "WARNING:tensorflow:From /usr/local/lib/python3.6/dist-packages/keras/backend/tensorflow_backend.py:190: The name tf.get_default_session is deprecated. Please use tf.compat.v1.get_default_session instead.\n",
      "\n",
      "WARNING:tensorflow:From /usr/local/lib/python3.6/dist-packages/keras/backend/tensorflow_backend.py:197: The name tf.ConfigProto is deprecated. Please use tf.compat.v1.ConfigProto instead.\n",
      "\n",
      "WARNING:tensorflow:From /usr/local/lib/python3.6/dist-packages/keras/backend/tensorflow_backend.py:207: The name tf.global_variables is deprecated. Please use tf.compat.v1.global_variables instead.\n",
      "\n",
      "WARNING:tensorflow:From /usr/local/lib/python3.6/dist-packages/keras/backend/tensorflow_backend.py:216: The name tf.is_variable_initialized is deprecated. Please use tf.compat.v1.is_variable_initialized instead.\n",
      "\n",
      "WARNING:tensorflow:From /usr/local/lib/python3.6/dist-packages/keras/backend/tensorflow_backend.py:223: The name tf.variables_initializer is deprecated. Please use tf.compat.v1.variables_initializer instead.\n",
      "\n",
      "processing fold # 1\n",
      "processing fold # 2\n",
      "processing fold # 3\n"
     ]
    }
   ],
   "source": [
    "import numpy as np\n",
    "\n",
    "k = 4\n",
    "num_val_samples = len(train_data) // k\n",
    "num_epochs = 100\n",
    "all_scores = []\n",
    "for i in range(k):\n",
    "    print('processing fold #', i)\n",
    "    # Przygotuj dane walidacyjne: dane z k-tej składowej.\n",
    "    val_data = train_data[i * num_val_samples: (i + 1) * num_val_samples]\n",
    "    val_targets = train_targets[i * num_val_samples: (i + 1) * num_val_samples]\n",
    "\n",
    "    # Przygotuj dane treningowe: dane z pozostałych składowych.\n",
    "    partial_train_data = np.concatenate(\n",
    "        [train_data[:i * num_val_samples],\n",
    "         train_data[(i + 1) * num_val_samples:]],\n",
    "        axis=0)\n",
    "    partial_train_targets = np.concatenate(\n",
    "        [train_targets[:i * num_val_samples],\n",
    "         train_targets[(i + 1) * num_val_samples:]],\n",
    "        axis=0)\n",
    "\n",
    "    # Zbuduj model Keras (model został skompilowany wcześniej).\n",
    "    model = build_model()\n",
    "    # Trenuj model w trybie cichym (parametr verbose = 0).\n",
    "    model.fit(partial_train_data, partial_train_targets,\n",
    "              epochs=num_epochs, batch_size=1, verbose=0)\n",
    "    # Przeprowadź ewaluację modelu przy użyciu danych walidacyjnych.\n",
    "    val_mse, val_mae = model.evaluate(val_data, val_targets, verbose=0)\n",
    "    all_scores.append(val_mae)"
   ]
  },
  {
   "cell_type": "code",
   "execution_count": 11,
   "metadata": {
    "colab": {
     "base_uri": "https://localhost:8080/",
     "height": 34
    },
    "colab_type": "code",
    "executionInfo": {
     "elapsed": 97991,
     "status": "ok",
     "timestamp": 1572889171982,
     "user": {
      "displayName": "Wiśniowa Broń",
      "photoUrl": "https://lh3.googleusercontent.com/a-/AAuE7mBi4q-e8bkML4qNfsnQStza4vsUvI718PMxayGypQ=s64",
      "userId": "10736110543973405951"
     },
     "user_tz": -60
    },
    "id": "Mwimju3Dfnfy",
    "outputId": "2ebd966e-0ee0-4869-f297-d25ba166fa0b"
   },
   "outputs": [
    {
     "data": {
      "text/plain": [
       "[2.024984376265271, 2.6165320047057503, 2.458694037824574, 2.3772204358979026]"
      ]
     },
     "execution_count": 11,
     "metadata": {
      "tags": []
     },
     "output_type": "execute_result"
    }
   ],
   "source": [
    "all_scores"
   ]
  },
  {
   "cell_type": "code",
   "execution_count": 12,
   "metadata": {
    "colab": {
     "base_uri": "https://localhost:8080/",
     "height": 34
    },
    "colab_type": "code",
    "executionInfo": {
     "elapsed": 990,
     "status": "ok",
     "timestamp": 1572889173013,
     "user": {
      "displayName": "Wiśniowa Broń",
      "photoUrl": "https://lh3.googleusercontent.com/a-/AAuE7mBi4q-e8bkML4qNfsnQStza4vsUvI718PMxayGypQ=s64",
      "userId": "10736110543973405951"
     },
     "user_tz": -60
    },
    "id": "9Vq-_NjPfnhz",
    "outputId": "a148f78e-5e0a-47f7-8fe0-c7d79bb4ea84"
   },
   "outputs": [
    {
     "data": {
      "text/plain": [
       "2.3693577136733746"
      ]
     },
     "execution_count": 12,
     "metadata": {
      "tags": []
     },
     "output_type": "execute_result"
    }
   ],
   "source": [
    "np.mean(all_scores)"
   ]
  },
  {
   "cell_type": "code",
   "execution_count": 13,
   "metadata": {
    "colab": {
     "base_uri": "https://localhost:8080/",
     "height": 153
    },
    "colab_type": "code",
    "executionInfo": {
     "elapsed": 630262,
     "status": "ok",
     "timestamp": 1572889816162,
     "user": {
      "displayName": "Wiśniowa Broń",
      "photoUrl": "https://lh3.googleusercontent.com/a-/AAuE7mBi4q-e8bkML4qNfsnQStza4vsUvI718PMxayGypQ=s64",
      "userId": "10736110543973405951"
     },
     "user_tz": -60
    },
    "id": "KRbqfdGzfnkP",
    "outputId": "f3192013-590b-4edd-89bb-d21d35860849"
   },
   "outputs": [
    {
     "name": "stdout",
     "output_type": "stream",
     "text": [
      "WARNING:tensorflow:From /usr/local/lib/python3.6/dist-packages/keras/backend/tensorflow_backend.py:107: The name tf.reset_default_graph is deprecated. Please use tf.compat.v1.reset_default_graph instead.\n",
      "\n",
      "WARNING:tensorflow:From /usr/local/lib/python3.6/dist-packages/keras/backend/tensorflow_backend.py:111: The name tf.placeholder_with_default is deprecated. Please use tf.compat.v1.placeholder_with_default instead.\n",
      "\n",
      "processing fold # 0\n",
      "processing fold # 1\n",
      "processing fold # 2\n",
      "processing fold # 3\n"
     ]
    }
   ],
   "source": [
    "from keras import backend as K\n",
    "\n",
    "K.clear_session()\n",
    "num_epochs = 500\n",
    "all_mae_histories = []\n",
    "for i in range(k):\n",
    "    print('processing fold #', i)\n",
    "    # Przygotowuje dane walidacyjne: dane z k-tej składowej.\n",
    "    val_data = train_data[i * num_val_samples: (i + 1) * num_val_samples]\n",
    "    val_targets = train_targets[i * num_val_samples: (i + 1) * num_val_samples]\n",
    "\n",
    "    # Przygotowuje dane treningowe: dane z pozostałych składowych.\n",
    "    partial_train_data = np.concatenate(\n",
    "        [train_data[:i * num_val_samples],\n",
    "         train_data[(i + 1) * num_val_samples:]],\n",
    "        axis=0)\n",
    "    partial_train_targets = np.concatenate(\n",
    "        [train_targets[:i * num_val_samples],\n",
    "         train_targets[(i + 1) * num_val_samples:]],\n",
    "        axis=0)\n",
    "\n",
    "    # Buduje model Keras (model został skompilowany wcześniej).\n",
    "    model = build_model()\n",
    "    # Przeprowadza ewaluację modelu przy użyciu danych walidacyjnych.\n",
    "    history = model.fit(partial_train_data, partial_train_targets,\n",
    "                        validation_data=(val_data, val_targets),\n",
    "                        epochs=num_epochs, batch_size=1, verbose=0)\n",
    "    mae_history = history.history['val_mean_absolute_error']\n",
    "    all_mae_histories.append(mae_history)"
   ]
  },
  {
   "cell_type": "code",
   "execution_count": 0,
   "metadata": {
    "colab": {},
    "colab_type": "code",
    "id": "1KdjwJwYgHkx"
   },
   "outputs": [],
   "source": [
    "average_mae_history = [np.mean([x[i] for x in all_mae_histories]) for i in range(num_epochs)]"
   ]
  },
  {
   "cell_type": "code",
   "execution_count": 15,
   "metadata": {
    "colab": {
     "base_uri": "https://localhost:8080/",
     "height": 281
    },
    "colab_type": "code",
    "executionInfo": {
     "elapsed": 1037,
     "status": "ok",
     "timestamp": 1572889817974,
     "user": {
      "displayName": "Wiśniowa Broń",
      "photoUrl": "https://lh3.googleusercontent.com/a-/AAuE7mBi4q-e8bkML4qNfsnQStza4vsUvI718PMxayGypQ=s64",
      "userId": "10736110543973405951"
     },
     "user_tz": -60
    },
    "id": "Af3CGukYgHmf",
    "outputId": "e96b1b86-2694-4571-c767-f8d4a3c32f0f"
   },
   "outputs": [
    {
     "data": {
      "image/png": "[encoded data removed]",
      "text/plain": [
       "<Figure size 432x288 with 1 Axes>"
      ]
     },
     "metadata": {
      "tags": []
     },
     "output_type": "display_data"
    }
   ],
   "source": [
    "import matplotlib.pyplot as plt\n",
    "\n",
    "plt.plot(range(1, len(average_mae_history) + 1), average_mae_history)\n",
    "plt.xlabel('Liczba epok')\n",
    "plt.ylabel('Sredni blad bezwzgledny')\n",
    "plt.show()"
   ]
  },
  {
   "cell_type": "code",
   "execution_count": 16,
   "metadata": {
    "colab": {
     "base_uri": "https://localhost:8080/",
     "height": 279
    },
    "colab_type": "code",
    "executionInfo": {
     "elapsed": 1356,
     "status": "ok",
     "timestamp": 1572889818336,
     "user": {
      "displayName": "Wiśniowa Broń",
      "photoUrl": "https://lh3.googleusercontent.com/a-/AAuE7mBi4q-e8bkML4qNfsnQStza4vsUvI718PMxayGypQ=s64",
      "userId": "10736110543973405951"
     },
     "user_tz": -60
    },
    "id": "r3Is52dTgHpH",
    "outputId": "4fed025e-d8a8-4f9a-c1d1-0a7c6701a732"
   },
   "outputs": [
    {
     "data": {
      "image/png": "[encoded data removed]",
      "text/plain": [
       "<Figure size 432x288 with 1 Axes>"
      ]
     },
     "metadata": {
      "tags": []
     },
     "output_type": "display_data"
    }
   ],
   "source": [
    "def smooth_curve(points, factor=0.9):\n",
    "  smoothed_points = []\n",
    "  for point in points:\n",
    "    if smoothed_points:\n",
    "      previous = smoothed_points[-1]\n",
    "      smoothed_points.append(previous * factor + point * (1 - factor))\n",
    "    else:\n",
    "      smoothed_points.append(point)\n",
    "  return smoothed_points\n",
    "\n",
    "smooth_mae_history = smooth_curve(average_mae_history[10:])\n",
    "\n",
    "plt.plot(range(1, len(smooth_mae_history) + 1), smooth_mae_history)\n",
    "plt.xlabel('Lcizba epok')\n",
    "plt.ylabel('Sredni blad bezwzgledny')\n",
    "plt.show()"
   ]
  },
  {
   "cell_type": "code",
   "execution_count": 17,
   "metadata": {
    "colab": {
     "base_uri": "https://localhost:8080/",
     "height": 34
    },
    "colab_type": "code",
    "executionInfo": {
     "elapsed": 3098,
     "status": "ok",
     "timestamp": 1572889904846,
     "user": {
      "displayName": "Wiśniowa Broń",
      "photoUrl": "https://lh3.googleusercontent.com/a-/AAuE7mBi4q-e8bkML4qNfsnQStza4vsUvI718PMxayGypQ=s64",
      "userId": "10736110543973405951"
     },
     "user_tz": -60
    },
    "id": "Ig_b_mIugHj2",
    "outputId": "e46af578-96f4-480e-fb40-a840747bfa7a"
   },
   "outputs": [
    {
     "name": "stdout",
     "output_type": "stream",
     "text": [
      "102/102 [==============================] - 0s 899us/step\n"
     ]
    }
   ],
   "source": [
    "model = build_model()\n",
    "\n",
    "model.fit(train_data, train_targets,\n",
    "          epochs=80, batch_size=16, verbose=0)\n",
    "test_mse_score, test_mae_score = model.evaluate(test_data, test_targets)"
   ]
  },
  {
   "cell_type": "code",
   "execution_count": 18,
   "metadata": {
    "colab": {
     "base_uri": "https://localhost:8080/",
     "height": 34
    },
    "colab_type": "code",
    "executionInfo": {
     "elapsed": 1162,
     "status": "ok",
     "timestamp": 1572889906011,
     "user": {
      "displayName": "Wiśniowa Broń",
      "photoUrl": "https://lh3.googleusercontent.com/a-/AAuE7mBi4q-e8bkML4qNfsnQStza4vsUvI718PMxayGypQ=s64",
      "userId": "10736110543973405951"
     },
     "user_tz": -60
    },
    "id": "fQZusDgtgHgH",
    "outputId": "7da60145-d75e-4a56-ff61-e86f39379d4c"
   },
   "outputs": [
    {
     "data": {
      "text/plain": [
       "2.7067666988746795"
      ]
     },
     "execution_count": 18,
     "metadata": {
      "tags": []
     },
     "output_type": "execute_result"
    }
   ],
   "source": [
    "test_mae_score"
   ]
  },
  {
   "cell_type": "code",
   "execution_count": 0,
   "metadata": {
    "colab": {},
    "colab_type": "code",
    "id": "RNnuljOshJzG"
   },
   "outputs": [],
   "source": []
  },
  {
   "cell_type": "code",
   "execution_count": 0,
   "metadata": {
    "colab": {},
    "colab_type": "code",
    "id": "ELRnma0KhJ1g"
   },
   "outputs": [],
   "source": []
  },
  {
   "cell_type": "code",
   "execution_count": 0,
   "metadata": {
    "colab": {},
    "colab_type": "code",
    "id": "OINp7D9vhJ4I"
   },
   "outputs": [],
   "source": []
  },
  {
   "cell_type": "code",
   "execution_count": 0,
   "metadata": {
    "colab": {},
    "colab_type": "code",
    "id": "NcbZQfe7hJ7v"
   },
   "outputs": [],
   "source": []
  }
 ],
 "metadata": {
  "colab": {
   "name": "Regresja.ipynb",
   "provenance": []
  },
  "kernelspec": {
   "display_name": "Python 3",
   "language": "python",
   "name": "python3"
  },
  "language_info": {
   "codemirror_mode": {
    "name": "ipython",
    "version": 3
   },
   "file_extension": ".py",
   "mimetype": "text/x-python",
   "name": "python",
   "nbconvert_exporter": "python",
   "pygments_lexer": "ipython3",
   "version": "3.7.1"
  }
 },
 "nbformat": 4,
 "nbformat_minor": 1
}
