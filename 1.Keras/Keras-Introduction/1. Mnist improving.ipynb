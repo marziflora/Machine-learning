{
 "cells": [
  {
   "cell_type": "code",
   "execution_count": 0,
   "metadata": {
    "colab": {
     "base_uri": "https://localhost:8080/",
     "height": 34
    },
    "colab_type": "code",
    "executionInfo": {
     "elapsed": 927,
     "status": "ok",
     "timestamp": 1572882549717,
     "user": {
      "displayName": "Wiśniowa Broń",
      "photoUrl": "https://lh3.googleusercontent.com/a-/AAuE7mBi4q-e8bkML4qNfsnQStza4vsUvI718PMxayGypQ=s64",
      "userId": "10736110543973405951"
     },
     "user_tz": -60
    },
    "id": "EDGZSDiiwh8c",
    "outputId": "86aee254-9464-4c70-9702-cb1a79897c9e"
   },
   "outputs": [
    {
     "data": {
      "text/plain": [
       "'2.2.5'"
      ]
     },
     "execution_count": 111,
     "metadata": {
      "tags": []
     },
     "output_type": "execute_result"
    }
   ],
   "source": [
    "import keras\n",
    "keras.__version__ "
   ]
  },
  {
   "cell_type": "code",
   "execution_count": 0,
   "metadata": {
    "colab": {},
    "colab_type": "code",
    "id": "3j8gVh9Cwy9D"
   },
   "outputs": [],
   "source": [
    "from keras.datasets import mnist\n",
    "\n",
    "(train_images, train_labels), (test_images, test_labels) = mnist.load_data()"
   ]
  },
  {
   "cell_type": "code",
   "execution_count": 0,
   "metadata": {
    "colab": {
     "base_uri": "https://localhost:8080/",
     "height": 34
    },
    "colab_type": "code",
    "executionInfo": {
     "elapsed": 815,
     "status": "ok",
     "timestamp": 1572882551189,
     "user": {
      "displayName": "Wiśniowa Broń",
      "photoUrl": "https://lh3.googleusercontent.com/a-/AAuE7mBi4q-e8bkML4qNfsnQStza4vsUvI718PMxayGypQ=s64",
      "userId": "10736110543973405951"
     },
     "user_tz": -60
    },
    "id": "8b2J1Q3wwzH2",
    "outputId": "d918dd65-3f64-4193-e9d0-0d20e15561fe"
   },
   "outputs": [
    {
     "data": {
      "text/plain": [
       "(60000, 28, 28)"
      ]
     },
     "execution_count": 113,
     "metadata": {
      "tags": []
     },
     "output_type": "execute_result"
    }
   ],
   "source": [
    "train_images.shape"
   ]
  },
  {
   "cell_type": "code",
   "execution_count": 0,
   "metadata": {
    "colab": {
     "base_uri": "https://localhost:8080/",
     "height": 34
    },
    "colab_type": "code",
    "executionInfo": {
     "elapsed": 1117,
     "status": "ok",
     "timestamp": 1572882552286,
     "user": {
      "displayName": "Wiśniowa Broń",
      "photoUrl": "https://lh3.googleusercontent.com/a-/AAuE7mBi4q-e8bkML4qNfsnQStza4vsUvI718PMxayGypQ=s64",
      "userId": "10736110543973405951"
     },
     "user_tz": -60
    },
    "id": "F_TSAQqqwzOG",
    "outputId": "d6419d8f-4730-4dba-80dc-c0be9646c041"
   },
   "outputs": [
    {
     "data": {
      "text/plain": [
       "60000"
      ]
     },
     "execution_count": 114,
     "metadata": {
      "tags": []
     },
     "output_type": "execute_result"
    }
   ],
   "source": [
    "len(train_labels)"
   ]
  },
  {
   "cell_type": "code",
   "execution_count": 0,
   "metadata": {
    "colab": {
     "base_uri": "https://localhost:8080/",
     "height": 34
    },
    "colab_type": "code",
    "executionInfo": {
     "elapsed": 1389,
     "status": "ok",
     "timestamp": 1572882553835,
     "user": {
      "displayName": "Wiśniowa Broń",
      "photoUrl": "https://lh3.googleusercontent.com/a-/AAuE7mBi4q-e8bkML4qNfsnQStza4vsUvI718PMxayGypQ=s64",
      "userId": "10736110543973405951"
     },
     "user_tz": -60
    },
    "id": "4BywF0o1wzQ4",
    "outputId": "112f6f2c-c8dc-4178-c90c-84130427572f"
   },
   "outputs": [
    {
     "data": {
      "text/plain": [
       "array([5, 0, 4, ..., 5, 6, 8], dtype=uint8)"
      ]
     },
     "execution_count": 115,
     "metadata": {
      "tags": []
     },
     "output_type": "execute_result"
    }
   ],
   "source": [
    "train_labels"
   ]
  },
  {
   "cell_type": "code",
   "execution_count": 0,
   "metadata": {
    "colab": {
     "base_uri": "https://localhost:8080/",
     "height": 265
    },
    "colab_type": "code",
    "executionInfo": {
     "elapsed": 718,
     "status": "ok",
     "timestamp": 1572882572783,
     "user": {
      "displayName": "Wiśniowa Broń",
      "photoUrl": "https://lh3.googleusercontent.com/a-/AAuE7mBi4q-e8bkML4qNfsnQStza4vsUvI718PMxayGypQ=s64",
      "userId": "10736110543973405951"
     },
     "user_tz": -60
    },
    "id": "5AD3RcBb0uol",
    "outputId": "d24ef5fe-a407-4398-97f5-b50c4beb3e0c"
   },
   "outputs": [
    {
     "data": {
      "image/png": "[encoded data removed]",
      "text/plain": [
       "<Figure size 432x288 with 1 Axes>"
      ]
     },
     "metadata": {
      "tags": []
     },
     "output_type": "display_data"
    }
   ],
   "source": [
    "digit = train_images[2]\n",
    "import matplotlib.pyplot as plt\n",
    "plt.imshow(digit, cmap=plt.cm.binary)\n",
    "plt.show()"
   ]
  },
  {
   "cell_type": "code",
   "execution_count": 0,
   "metadata": {
    "colab": {
     "base_uri": "https://localhost:8080/",
     "height": 265
    },
    "colab_type": "code",
    "executionInfo": {
     "elapsed": 725,
     "status": "ok",
     "timestamp": 1572882605563,
     "user": {
      "displayName": "Wiśniowa Broń",
      "photoUrl": "https://lh3.googleusercontent.com/a-/AAuE7mBi4q-e8bkML4qNfsnQStza4vsUvI718PMxayGypQ=s64",
      "userId": "10736110543973405951"
     },
     "user_tz": -60
    },
    "id": "L4YS1F-5G2zt",
    "outputId": "578ceb51-dfe0-4169-c636-e0e009822e8a"
   },
   "outputs": [
    {
     "data": {
      "image/png": "[encoded data removed]",
      "text/plain": [
       "<Figure size 432x288 with 1 Axes>"
      ]
     },
     "metadata": {
      "tags": []
     },
     "output_type": "display_data"
    }
   ],
   "source": [
    "digit = test_images[0]\n",
    "import matplotlib.pyplot as plt\n",
    "plt.imshow(digit, cmap=plt.cm.binary)\n",
    "plt.show()"
   ]
  },
  {
   "cell_type": "code",
   "execution_count": 0,
   "metadata": {
    "colab": {},
    "colab_type": "code",
    "id": "mxlYqNSYwzS-"
   },
   "outputs": [],
   "source": [
    "from keras import models\n",
    "from keras import layers\n",
    "\n",
    "network = models.Sequential()\n",
    "network.add(layers.Dense(512, activation='relu', input_shape=(28 * 28,)))\n",
    "network.add(layers.Dense(10, activation='softmax'))"
   ]
  },
  {
   "cell_type": "code",
   "execution_count": 0,
   "metadata": {
    "colab": {},
    "colab_type": "code",
    "id": "tKW0oqTBxIyL"
   },
   "outputs": [],
   "source": [
    "network.compile(optimizer='rmsprop',\n",
    "                loss='categorical_crossentropy',\n",
    "                metrics=['accuracy'])"
   ]
  },
  {
   "cell_type": "code",
   "execution_count": 0,
   "metadata": {
    "colab": {},
    "colab_type": "code",
    "id": "q62bsqPUxI0f"
   },
   "outputs": [],
   "source": [
    "train_images = train_images.reshape((60000, 28 * 28))\n",
    "train_images = train_images.astype('float32') / 255\n",
    "\n",
    "test_images = test_images.reshape((10000, 28 * 28))\n",
    "test_images = test_images.astype('float32') / 255"
   ]
  },
  {
   "cell_type": "code",
   "execution_count": 0,
   "metadata": {
    "colab": {},
    "colab_type": "code",
    "id": "r57nXD3cxIwG"
   },
   "outputs": [],
   "source": [
    "from keras.utils import to_categorical\n",
    "\n",
    "train_labels = to_categorical(train_labels)\n",
    "test_labels = to_categorical(test_labels)"
   ]
  },
  {
   "cell_type": "code",
   "execution_count": 0,
   "metadata": {
    "colab": {
     "base_uri": "https://localhost:8080/",
     "height": 34
    },
    "colab_type": "code",
    "executionInfo": {
     "elapsed": 1183,
     "status": "ok",
     "timestamp": 1572882620485,
     "user": {
      "displayName": "Wiśniowa Broń",
      "photoUrl": "https://lh3.googleusercontent.com/a-/AAuE7mBi4q-e8bkML4qNfsnQStza4vsUvI718PMxayGypQ=s64",
      "userId": "10736110543973405951"
     },
     "user_tz": -60
    },
    "id": "0AoNIVZGxIuA",
    "outputId": "bfd214c8-6197-4b01-b27b-ea0893661a99"
   },
   "outputs": [
    {
     "data": {
      "text/plain": [
       "(10000, 10)"
      ]
     },
     "execution_count": 126,
     "metadata": {
      "tags": []
     },
     "output_type": "execute_result"
    }
   ],
   "source": [
    "test_labels.shape"
   ]
  },
  {
   "cell_type": "code",
   "execution_count": 0,
   "metadata": {
    "colab": {
     "base_uri": "https://localhost:8080/",
     "height": 68
    },
    "colab_type": "code",
    "executionInfo": {
     "elapsed": 5482,
     "status": "ok",
     "timestamp": 1572882973638,
     "user": {
      "displayName": "Wiśniowa Broń",
      "photoUrl": "https://lh3.googleusercontent.com/a-/AAuE7mBi4q-e8bkML4qNfsnQStza4vsUvI718PMxayGypQ=s64",
      "userId": "10736110543973405951"
     },
     "user_tz": -60
    },
    "id": "zeKbW3L1xgIA",
    "outputId": "c35e79c7-d912-421e-b3ef-de0227c9d857"
   },
   "outputs": [
    {
     "name": "stdout",
     "output_type": "stream",
     "text": [
      "Epoch 1/1\n",
      "60000/60000 [==============================] - 5s 78us/step - loss: 0.0174 - acc: 0.9948\n"
     ]
    },
    {
     "data": {
      "text/plain": [
       "<keras.callbacks.History at 0x7f57e248ae48>"
      ]
     },
     "execution_count": 147,
     "metadata": {
      "tags": []
     },
     "output_type": "execute_result"
    }
   ],
   "source": [
    "network.fit(train_images, train_labels, epochs=100, batch_size=128)"
   ]
  },
  {
   "cell_type": "code",
   "execution_count": 0,
   "metadata": {
    "colab": {
     "base_uri": "https://localhost:8080/",
     "height": 51
    },
    "colab_type": "code",
    "executionInfo": {
     "elapsed": 4106,
     "status": "ok",
     "timestamp": 1572882974325,
     "user": {
      "displayName": "Wiśniowa Broń",
      "photoUrl": "https://lh3.googleusercontent.com/a-/AAuE7mBi4q-e8bkML4qNfsnQStza4vsUvI718PMxayGypQ=s64",
      "userId": "10736110543973405951"
     },
     "user_tz": -60
    },
    "id": "tFmMH0xMxgNp",
    "outputId": "02a1b095-0ec5-43cc-b1ce-6db2ad27a957"
   },
   "outputs": [
    {
     "name": "stdout",
     "output_type": "stream",
     "text": [
      "10000/10000 [==============================] - 1s 61us/step\n",
      "test_acc: 0.9828\n"
     ]
    }
   ],
   "source": [
    "test_loss, test_acc = network.evaluate(test_images, test_labels)\n",
    "print('test_acc:', test_acc)\n",
    "\n",
    "#Acc 1)512 relu 2)10 softmax  Train:60000, Test:10000, epoki: 5, batch size=128 0,90\n",
    "#Acc 1)512 relu 2)10 softmax  Train:60000, Test:10000, epoki: 20, batch size=128 0.9818 \n",
    "#Acc 1)512 relu 2)10 softmax  Train:60000, Test:10000, epoki: 40, batch size=128 0.9841\n",
    "#Acc 1)512 relu 2)10 softmax  Train:60000, Test:10000, epoki: 100, batch size=128 0.9839\n"
   ]
  },
  {
   "cell_type": "code",
   "execution_count": 0,
   "metadata": {
    "colab": {
     "base_uri": "https://localhost:8080/",
     "height": 34
    },
    "colab_type": "code",
    "executionInfo": {
     "elapsed": 1265,
     "status": "ok",
     "timestamp": 1572882657998,
     "user": {
      "displayName": "Wiśniowa Broń",
      "photoUrl": "https://lh3.googleusercontent.com/a-/AAuE7mBi4q-e8bkML4qNfsnQStza4vsUvI718PMxayGypQ=s64",
      "userId": "10736110543973405951"
     },
     "user_tz": -60
    },
    "id": "7cWpWYtN1nJS",
    "outputId": "95706033-03ac-4268-ac21-c638a750f506"
   },
   "outputs": [
    {
     "data": {
      "text/plain": [
       "7"
      ]
     },
     "execution_count": 129,
     "metadata": {
      "tags": []
     },
     "output_type": "execute_result"
    }
   ],
   "source": [
    "result = network.predict(test_images)\n",
    "import numpy as np\n",
    "np.argmax(result[0])"
   ]
  },
  {
   "cell_type": "code",
   "execution_count": 0,
   "metadata": {
    "colab": {
     "base_uri": "https://localhost:8080/",
     "height": 68
    },
    "colab_type": "code",
    "executionInfo": {
     "elapsed": 981,
     "status": "ok",
     "timestamp": 1572882666135,
     "user": {
      "displayName": "Wiśniowa Broń",
      "photoUrl": "https://lh3.googleusercontent.com/a-/AAuE7mBi4q-e8bkML4qNfsnQStza4vsUvI718PMxayGypQ=s64",
      "userId": "10736110543973405951"
     },
     "user_tz": -60
    },
    "id": "OxxjiolPCGfX",
    "outputId": "f46f9b23-13ca-4e8e-ac19-9d7d3e5403ca"
   },
   "outputs": [
    {
     "data": {
      "text/plain": [
       "array([6.38145892e-08, 3.06619796e-09, 1.31562765e-05, 2.54446128e-03,\n",
       "       2.83903413e-12, 2.38632055e-07, 3.40494031e-14, 9.97378469e-01,\n",
       "       1.00711327e-06, 6.26143083e-05], dtype=float32)"
      ]
     },
     "execution_count": 130,
     "metadata": {
      "tags": []
     },
     "output_type": "execute_result"
    }
   ],
   "source": [
    "result[0]"
   ]
  }
 ],
 "metadata": {
  "colab": {
   "collapsed_sections": [],
   "name": "Mnist improving.ipynb",
   "provenance": []
  },
  "kernelspec": {
   "display_name": "Python 3",
   "language": "python",
   "name": "python3"
  },
  "language_info": {
   "codemirror_mode": {
    "name": "ipython",
    "version": 3
   },
   "file_extension": ".py",
   "mimetype": "text/x-python",
   "name": "python",
   "nbconvert_exporter": "python",
   "pygments_lexer": "ipython3",
   "version": "3.7.1"
  }
 },
 "nbformat": 4,
 "nbformat_minor": 1
}
