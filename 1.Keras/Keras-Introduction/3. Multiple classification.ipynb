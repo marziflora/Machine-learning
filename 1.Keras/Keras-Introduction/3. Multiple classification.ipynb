{
 "cells": [
  {
   "cell_type": "code",
   "execution_count": 0,
   "metadata": {
    "colab": {},
    "colab_type": "code",
    "id": "-bjMC1k4TBt1"
   },
   "outputs": [],
   "source": [
    "import keras\n",
    "from keras.datasets import reuters\n",
    "import numpy as np\n",
    "\n",
    "(train_data, train_labels), (test_data, test_labels) = reuters.load_data(num_words=10000)"
   ]
  },
  {
   "cell_type": "code",
   "execution_count": 2,
   "metadata": {
    "colab": {
     "base_uri": "https://localhost:8080/",
     "height": 34
    },
    "colab_type": "code",
    "executionInfo": {
     "elapsed": 703,
     "status": "ok",
     "timestamp": 1572885812265,
     "user": {
      "displayName": "Wiśniowa Broń",
      "photoUrl": "https://lh3.googleusercontent.com/a-/AAuE7mBi4q-e8bkML4qNfsnQStza4vsUvI718PMxayGypQ=s64",
      "userId": "10736110543973405951"
     },
     "user_tz": -60
    },
    "id": "8gm7HYkaTIHo",
    "outputId": "267ffb7d-49d6-4035-e7da-7dbe95620793"
   },
   "outputs": [
    {
     "data": {
      "text/plain": [
       "8982"
      ]
     },
     "execution_count": 2,
     "metadata": {
      "tags": []
     },
     "output_type": "execute_result"
    }
   ],
   "source": [
    "len(train_data)"
   ]
  },
  {
   "cell_type": "code",
   "execution_count": 8,
   "metadata": {
    "colab": {
     "base_uri": "https://localhost:8080/",
     "height": 68
    },
    "colab_type": "code",
    "executionInfo": {
     "elapsed": 1096,
     "status": "ok",
     "timestamp": 1572885943470,
     "user": {
      "displayName": "Wiśniowa Broń",
      "photoUrl": "https://lh3.googleusercontent.com/a-/AAuE7mBi4q-e8bkML4qNfsnQStza4vsUvI718PMxayGypQ=s64",
      "userId": "10736110543973405951"
     },
     "user_tz": -60
    },
    "id": "arb1W6DhTINz",
    "outputId": "9b18d2a6-2b4b-406e-e442-39e5cb80d0fa"
   },
   "outputs": [
    {
     "data": {
      "text/plain": [
       "array([ 0,  1,  2,  3,  4,  5,  6,  7,  8,  9, 10, 11, 12, 13, 14, 15, 16,\n",
       "       17, 18, 19, 20, 21, 22, 23, 24, 25, 26, 27, 28, 29, 30, 31, 32, 33,\n",
       "       34, 35, 36, 37, 38, 39, 40, 41, 42, 43, 44, 45])"
      ]
     },
     "execution_count": 8,
     "metadata": {
      "tags": []
     },
     "output_type": "execute_result"
    }
   ],
   "source": [
    "np.unique(test_labels)"
   ]
  },
  {
   "cell_type": "code",
   "execution_count": 11,
   "metadata": {
    "colab": {
     "base_uri": "https://localhost:8080/",
     "height": 54
    },
    "colab_type": "code",
    "executionInfo": {
     "elapsed": 982,
     "status": "ok",
     "timestamp": 1572886000302,
     "user": {
      "displayName": "Wiśniowa Broń",
      "photoUrl": "https://lh3.googleusercontent.com/a-/AAuE7mBi4q-e8bkML4qNfsnQStza4vsUvI718PMxayGypQ=s64",
      "userId": "10736110543973405951"
     },
     "user_tz": -60
    },
    "id": "IBFKsHH_TIP2",
    "outputId": "5ddba5c6-4898-4b91-9871-785fa9e38b06"
   },
   "outputs": [
    {
     "data": {
      "text/plain": [
       "'? ? ? said as a result of its december acquisition of space co it expects earnings per share in 1987 of 1 15 to 1 30 dlrs per share up from 70 cts in 1986 the company said pretax net should rise to nine to 10 mln dlrs from six mln dlrs in 1986 and rental operation revenues to 19 to 22 mln dlrs from 12 5 mln dlrs it said cash flow per share this year should be 2 50 to three dlrs reuter 3'"
      ]
     },
     "execution_count": 11,
     "metadata": {
      "tags": []
     },
     "output_type": "execute_result"
    }
   ],
   "source": [
    "word_index = reuters.get_word_index()\n",
    "reverse_word_index = dict([(value, key) for (key, value) in word_index.items()])\n",
    "decoded_newswire = ' '.join([reverse_word_index.get(i - 3, '?') for i in train_data[0]])\n",
    "decoded_newswire"
   ]
  },
  {
   "cell_type": "code",
   "execution_count": 14,
   "metadata": {
    "colab": {
     "base_uri": "https://localhost:8080/",
     "height": 34
    },
    "colab_type": "code",
    "executionInfo": {
     "elapsed": 1099,
     "status": "ok",
     "timestamp": 1572886031642,
     "user": {
      "displayName": "Wiśniowa Broń",
      "photoUrl": "https://lh3.googleusercontent.com/a-/AAuE7mBi4q-e8bkML4qNfsnQStza4vsUvI718PMxayGypQ=s64",
      "userId": "10736110543973405951"
     },
     "user_tz": -60
    },
    "id": "l8sGPNcUTIVm",
    "outputId": "aee8777b-2403-4a74-f857-8606ed1d0fb2"
   },
   "outputs": [
    {
     "data": {
      "text/plain": [
       "[1, 2, 2, 8, 43, 10, 447, 5, 25, 207]"
      ]
     },
     "execution_count": 14,
     "metadata": {
      "tags": []
     },
     "output_type": "execute_result"
    }
   ],
   "source": [
    "train_data[0][:10]"
   ]
  },
  {
   "cell_type": "code",
   "execution_count": 15,
   "metadata": {
    "colab": {
     "base_uri": "https://localhost:8080/",
     "height": 173
    },
    "colab_type": "code",
    "executionInfo": {
     "elapsed": 1342,
     "status": "ok",
     "timestamp": 1572886061301,
     "user": {
      "displayName": "Wiśniowa Broń",
      "photoUrl": "https://lh3.googleusercontent.com/a-/AAuE7mBi4q-e8bkML4qNfsnQStza4vsUvI718PMxayGypQ=s64",
      "userId": "10736110543973405951"
     },
     "user_tz": -60
    },
    "id": "68Rn6MnvUIRd",
    "outputId": "e5e9eae6-d049-4b7f-baa3-745b30b4858c"
   },
   "outputs": [
    {
     "data": {
      "text/plain": [
       "array([list([1, 2, 2, 8, 43, 10, 447, 5, 25, 207, 270, 5, 3095, 111, 16, 369, 186, 90, 67, 7, 89, 5, 19, 102, 6, 19, 124, 15, 90, 67, 84, 22, 482, 26, 7, 48, 4, 49, 8, 864, 39, 209, 154, 6, 151, 6, 83, 11, 15, 22, 155, 11, 15, 7, 48, 9, 4579, 1005, 504, 6, 258, 6, 272, 11, 15, 22, 134, 44, 11, 15, 16, 8, 197, 1245, 90, 67, 52, 29, 209, 30, 32, 132, 6, 109, 15, 17, 12]),\n",
       "       list([1, 3267, 699, 3434, 2295, 56, 2, 7511, 9, 56, 3906, 1073, 81, 5, 1198, 57, 366, 737, 132, 20, 4093, 7, 2, 49, 2295, 2, 1037, 3267, 699, 3434, 8, 7, 10, 241, 16, 855, 129, 231, 783, 5, 4, 587, 2295, 2, 2, 775, 7, 48, 34, 191, 44, 35, 1795, 505, 17, 12]),\n",
       "       list([1, 53, 12, 284, 15, 14, 272, 26, 53, 959, 32, 818, 15, 14, 272, 26, 39, 684, 70, 11, 14, 12, 3886, 18, 180, 183, 187, 70, 11, 14, 102, 32, 11, 29, 53, 44, 704, 15, 14, 19, 758, 15, 53, 959, 47, 1013, 15, 14, 19, 132, 15, 39, 965, 32, 11, 14, 147, 72, 11, 180, 183, 187, 44, 11, 14, 102, 19, 11, 123, 186, 90, 67, 960, 4, 78, 13, 68, 467, 511, 110, 59, 89, 90, 67, 1390, 55, 2678, 92, 617, 80, 1274, 46, 905, 220, 13, 4, 346, 48, 235, 629, 5, 211, 5, 1118, 7, 2, 81, 5, 187, 11, 15, 9, 1709, 201, 5, 47, 3615, 18, 478, 4514, 5, 1118, 7, 232, 2, 71, 5, 160, 63, 11, 9, 2, 81, 5, 102, 59, 11, 17, 12]),\n",
       "       ...,\n",
       "       list([1, 141, 3890, 387, 81, 8, 16, 1629, 10, 340, 1241, 850, 31, 56, 3890, 691, 9, 1241, 71, 9, 5985, 2, 2, 699, 2, 2, 2, 699, 244, 5945, 4, 49, 8, 4, 656, 850, 33, 2993, 9, 2139, 340, 3371, 1493, 9, 2, 22, 2, 1094, 687, 83, 35, 15, 257, 6, 57, 9190, 7, 4, 5956, 654, 5, 2, 6191, 1371, 4, 49, 8, 16, 369, 646, 6, 1076, 7, 124, 407, 17, 12]),\n",
       "       list([1, 53, 46, 957, 26, 14, 74, 132, 26, 39, 46, 258, 3614, 18, 14, 74, 134, 5131, 18, 88, 2321, 72, 11, 14, 1842, 32, 11, 123, 383, 89, 39, 46, 235, 10, 864, 728, 5, 258, 44, 11, 15, 22, 753, 9, 42, 92, 131, 728, 5, 69, 312, 11, 15, 22, 222, 2, 3237, 383, 48, 39, 74, 235, 10, 864, 276, 5, 61, 32, 11, 15, 21, 4, 211, 5, 126, 1072, 42, 92, 131, 46, 19, 352, 11, 15, 22, 710, 220, 9, 42, 92, 131, 276, 5, 59, 61, 11, 15, 22, 10, 455, 7, 1172, 137, 336, 1325, 6, 1532, 142, 971, 6463, 43, 359, 5, 4, 326, 753, 364, 17, 12]),\n",
       "       list([1, 227, 2406, 91, 2, 125, 2855, 21, 4, 3976, 76, 7, 4, 757, 481, 3976, 790, 5259, 5654, 9, 111, 149, 8, 7, 10, 76, 223, 51, 4, 417, 8, 1047, 91, 6917, 1688, 340, 7, 194, 9411, 6, 1894, 21, 127, 2151, 2394, 1456, 6, 3034, 4, 329, 433, 7, 65, 87, 1127, 10, 8219, 1475, 290, 9, 21, 567, 16, 1926, 24, 4, 76, 209, 30, 4033, 6655, 5654, 8, 4, 60, 8, 4, 966, 308, 40, 2575, 129, 2, 295, 277, 1071, 9, 24, 286, 2114, 234, 222, 9, 4, 906, 3994, 8519, 114, 5758, 1752, 7, 4, 113, 17, 12])],\n",
       "      dtype=object)"
      ]
     },
     "execution_count": 15,
     "metadata": {
      "tags": []
     },
     "output_type": "execute_result"
    }
   ],
   "source": [
    "train_data"
   ]
  },
  {
   "cell_type": "code",
   "execution_count": 0,
   "metadata": {
    "colab": {},
    "colab_type": "code",
    "id": "ikuCnwG_TITr"
   },
   "outputs": [],
   "source": [
    "import numpy as np\n",
    "\n",
    "def vectorize_sequences(sequences, dimension=10000):\n",
    "    results = np.zeros((len(sequences), dimension))\n",
    "    for i, sequence in enumerate(sequences):\n",
    "        results[i, sequence] = 1.\n",
    "    return results\n",
    "\n",
    "x_train = vectorize_sequences(train_data)\n",
    "x_test = vectorize_sequences(test_data)"
   ]
  },
  {
   "cell_type": "code",
   "execution_count": 20,
   "metadata": {
    "colab": {
     "base_uri": "https://localhost:8080/",
     "height": 34
    },
    "colab_type": "code",
    "executionInfo": {
     "elapsed": 1170,
     "status": "ok",
     "timestamp": 1572886135287,
     "user": {
      "displayName": "Wiśniowa Broń",
      "photoUrl": "https://lh3.googleusercontent.com/a-/AAuE7mBi4q-e8bkML4qNfsnQStza4vsUvI718PMxayGypQ=s64",
      "userId": "10736110543973405951"
     },
     "user_tz": -60
    },
    "id": "nmbjoGFmUMRV",
    "outputId": "46aafad1-1382-40ae-c03d-f0279feb43ed"
   },
   "outputs": [
    {
     "data": {
      "text/plain": [
       "array([0., 1., 1., 0., 1., 1., 1., 1., 1., 1.])"
      ]
     },
     "execution_count": 20,
     "metadata": {
      "tags": []
     },
     "output_type": "execute_result"
    }
   ],
   "source": [
    "x_train[0][:10]"
   ]
  },
  {
   "cell_type": "code",
   "execution_count": 22,
   "metadata": {
    "colab": {
     "base_uri": "https://localhost:8080/",
     "height": 34
    },
    "colab_type": "code",
    "executionInfo": {
     "elapsed": 1166,
     "status": "ok",
     "timestamp": 1572886160779,
     "user": {
      "displayName": "Wiśniowa Broń",
      "photoUrl": "https://lh3.googleusercontent.com/a-/AAuE7mBi4q-e8bkML4qNfsnQStza4vsUvI718PMxayGypQ=s64",
      "userId": "10736110543973405951"
     },
     "user_tz": -60
    },
    "id": "b9vU9cFOUeKk",
    "outputId": "eacfd916-c826-4cf1-9057-912dbc884dbf"
   },
   "outputs": [
    {
     "data": {
      "text/plain": [
       "(8982, 10000)"
      ]
     },
     "execution_count": 22,
     "metadata": {
      "tags": []
     },
     "output_type": "execute_result"
    }
   ],
   "source": [
    "x_train.shape"
   ]
  },
  {
   "cell_type": "code",
   "execution_count": 0,
   "metadata": {
    "colab": {},
    "colab_type": "code",
    "id": "TAL0jbh5WfKp"
   },
   "outputs": [],
   "source": [
    "from keras.utils.np_utils import to_categorical\n",
    "\n",
    "one_hot_train_labels = to_categorical(train_labels) #kodowanie gorąco jedynkowe \n",
    "one_hot_test_labels = to_categorical(test_labels)"
   ]
  },
  {
   "cell_type": "code",
   "execution_count": 25,
   "metadata": {
    "colab": {
     "base_uri": "https://localhost:8080/",
     "height": 119
    },
    "colab_type": "code",
    "executionInfo": {
     "elapsed": 876,
     "status": "ok",
     "timestamp": 1572886758286,
     "user": {
      "displayName": "Wiśniowa Broń",
      "photoUrl": "https://lh3.googleusercontent.com/a-/AAuE7mBi4q-e8bkML4qNfsnQStza4vsUvI718PMxayGypQ=s64",
      "userId": "10736110543973405951"
     },
     "user_tz": -60
    },
    "id": "vV0liiobWxSS",
    "outputId": "eb207f84-77fe-486b-d7d0-b3dc320fbe90"
   },
   "outputs": [
    {
     "name": "stdout",
     "output_type": "stream",
     "text": [
      "WARNING:tensorflow:From /usr/local/lib/python3.6/dist-packages/keras/backend/tensorflow_backend.py:66: The name tf.get_default_graph is deprecated. Please use tf.compat.v1.get_default_graph instead.\n",
      "\n",
      "WARNING:tensorflow:From /usr/local/lib/python3.6/dist-packages/keras/backend/tensorflow_backend.py:541: The name tf.placeholder is deprecated. Please use tf.compat.v1.placeholder instead.\n",
      "\n",
      "WARNING:tensorflow:From /usr/local/lib/python3.6/dist-packages/keras/backend/tensorflow_backend.py:4432: The name tf.random_uniform is deprecated. Please use tf.random.uniform instead.\n",
      "\n"
     ]
    }
   ],
   "source": [
    "from keras import models\n",
    "from keras import layers\n",
    "\n",
    "model = models.Sequential()\n",
    "model.add(layers.Dense(64, activation='relu', input_shape=(10000,)))\n",
    "model.add(layers.Dense(64, activation='relu'))\n",
    "model.add(layers.Dense(46, activation='softmax'))"
   ]
  },
  {
   "cell_type": "code",
   "execution_count": 26,
   "metadata": {
    "colab": {
     "base_uri": "https://localhost:8080/",
     "height": 85
    },
    "colab_type": "code",
    "executionInfo": {
     "elapsed": 948,
     "status": "ok",
     "timestamp": 1572886760293,
     "user": {
      "displayName": "Wiśniowa Broń",
      "photoUrl": "https://lh3.googleusercontent.com/a-/AAuE7mBi4q-e8bkML4qNfsnQStza4vsUvI718PMxayGypQ=s64",
      "userId": "10736110543973405951"
     },
     "user_tz": -60
    },
    "id": "eWAsshirWxUp",
    "outputId": "91e754cc-001c-4589-f931-ed03cf3a9928"
   },
   "outputs": [
    {
     "name": "stdout",
     "output_type": "stream",
     "text": [
      "WARNING:tensorflow:From /usr/local/lib/python3.6/dist-packages/keras/optimizers.py:793: The name tf.train.Optimizer is deprecated. Please use tf.compat.v1.train.Optimizer instead.\n",
      "\n",
      "WARNING:tensorflow:From /usr/local/lib/python3.6/dist-packages/keras/backend/tensorflow_backend.py:3576: The name tf.log is deprecated. Please use tf.math.log instead.\n",
      "\n"
     ]
    }
   ],
   "source": [
    "model.compile(optimizer='rmsprop',\n",
    "              loss='categorical_crossentropy',\n",
    "              metrics=['accuracy'])"
   ]
  },
  {
   "cell_type": "code",
   "execution_count": 0,
   "metadata": {
    "colab": {},
    "colab_type": "code",
    "id": "HSTjyZIiWxQR"
   },
   "outputs": [],
   "source": [
    "x_val = x_train[:1000]\n",
    "partial_x_train = x_train[1000:]\n",
    "\n",
    "y_val = one_hot_train_labels[:1000]\n",
    "partial_y_train = one_hot_train_labels[1000:]"
   ]
  },
  {
   "cell_type": "code",
   "execution_count": 28,
   "metadata": {
    "colab": {
     "base_uri": "https://localhost:8080/",
     "height": 1000
    },
    "colab_type": "code",
    "executionInfo": {
     "elapsed": 16099,
     "status": "ok",
     "timestamp": 1572887212793,
     "user": {
      "displayName": "Wiśniowa Broń",
      "photoUrl": "https://lh3.googleusercontent.com/a-/AAuE7mBi4q-e8bkML4qNfsnQStza4vsUvI718PMxayGypQ=s64",
      "userId": "10736110543973405951"
     },
     "user_tz": -60
    },
    "id": "WJIJPWTDYeZo",
    "outputId": "6292dcf4-baac-47fe-d019-94b54c7f12df"
   },
   "outputs": [
    {
     "name": "stdout",
     "output_type": "stream",
     "text": [
      "WARNING:tensorflow:From /usr/local/lib/python3.6/dist-packages/tensorflow_core/python/ops/math_grad.py:1424: where (from tensorflow.python.ops.array_ops) is deprecated and will be removed in a future version.\n",
      "Instructions for updating:\n",
      "Use tf.where in 2.0, which has the same broadcast rule as np.where\n",
      "WARNING:tensorflow:From /usr/local/lib/python3.6/dist-packages/keras/backend/tensorflow_backend.py:1033: The name tf.assign_add is deprecated. Please use tf.compat.v1.assign_add instead.\n",
      "\n",
      "WARNING:tensorflow:From /usr/local/lib/python3.6/dist-packages/keras/backend/tensorflow_backend.py:1020: The name tf.assign is deprecated. Please use tf.compat.v1.assign instead.\n",
      "\n",
      "WARNING:tensorflow:From /usr/local/lib/python3.6/dist-packages/keras/backend/tensorflow_backend.py:3005: The name tf.Session is deprecated. Please use tf.compat.v1.Session instead.\n",
      "\n",
      "Train on 7982 samples, validate on 1000 samples\n",
      "Epoch 1/20\n",
      "WARNING:tensorflow:From /usr/local/lib/python3.6/dist-packages/keras/backend/tensorflow_backend.py:190: The name tf.get_default_session is deprecated. Please use tf.compat.v1.get_default_session instead.\n",
      "\n",
      "WARNING:tensorflow:From /usr/local/lib/python3.6/dist-packages/keras/backend/tensorflow_backend.py:197: The name tf.ConfigProto is deprecated. Please use tf.compat.v1.ConfigProto instead.\n",
      "\n",
      "WARNING:tensorflow:From /usr/local/lib/python3.6/dist-packages/keras/backend/tensorflow_backend.py:207: The name tf.global_variables is deprecated. Please use tf.compat.v1.global_variables instead.\n",
      "\n",
      "WARNING:tensorflow:From /usr/local/lib/python3.6/dist-packages/keras/backend/tensorflow_backend.py:216: The name tf.is_variable_initialized is deprecated. Please use tf.compat.v1.is_variable_initialized instead.\n",
      "\n",
      "WARNING:tensorflow:From /usr/local/lib/python3.6/dist-packages/keras/backend/tensorflow_backend.py:223: The name tf.variables_initializer is deprecated. Please use tf.compat.v1.variables_initializer instead.\n",
      "\n",
      "7982/7982 [==============================] - 2s 197us/step - loss: 2.6000 - acc: 0.5178 - val_loss: 1.7550 - val_acc: 0.6500\n",
      "Epoch 2/20\n",
      "7982/7982 [==============================] - 1s 88us/step - loss: 1.4525 - acc: 0.7020 - val_loss: 1.3301 - val_acc: 0.7110\n",
      "Epoch 3/20\n",
      "7982/7982 [==============================] - 1s 87us/step - loss: 1.0834 - acc: 0.7711 - val_loss: 1.1452 - val_acc: 0.7580\n",
      "Epoch 4/20\n",
      "7982/7982 [==============================] - 1s 86us/step - loss: 0.8438 - acc: 0.8246 - val_loss: 1.0410 - val_acc: 0.7800\n",
      "Epoch 5/20\n",
      "7982/7982 [==============================] - 1s 86us/step - loss: 0.6674 - acc: 0.8646 - val_loss: 0.9840 - val_acc: 0.8020\n",
      "Epoch 6/20\n",
      "7982/7982 [==============================] - 1s 91us/step - loss: 0.5357 - acc: 0.8887 - val_loss: 0.9267 - val_acc: 0.8130\n",
      "Epoch 7/20\n",
      "7982/7982 [==============================] - 1s 87us/step - loss: 0.4287 - acc: 0.9098 - val_loss: 0.9024 - val_acc: 0.8190\n",
      "Epoch 8/20\n",
      "7982/7982 [==============================] - 1s 89us/step - loss: 0.3496 - acc: 0.9232 - val_loss: 0.9243 - val_acc: 0.8130\n",
      "Epoch 9/20\n",
      "7982/7982 [==============================] - 1s 89us/step - loss: 0.2893 - acc: 0.9350 - val_loss: 0.9276 - val_acc: 0.8080\n",
      "Epoch 10/20\n",
      "7982/7982 [==============================] - 1s 89us/step - loss: 0.2421 - acc: 0.9446 - val_loss: 0.9003 - val_acc: 0.8210\n",
      "Epoch 11/20\n",
      "7982/7982 [==============================] - 1s 90us/step - loss: 0.2098 - acc: 0.9484 - val_loss: 0.9349 - val_acc: 0.8130\n",
      "Epoch 12/20\n",
      "7982/7982 [==============================] - 1s 89us/step - loss: 0.1843 - acc: 0.9504 - val_loss: 0.9472 - val_acc: 0.8270\n",
      "Epoch 13/20\n",
      "7982/7982 [==============================] - 1s 89us/step - loss: 0.1643 - acc: 0.9545 - val_loss: 0.9486 - val_acc: 0.8280\n",
      "Epoch 14/20\n",
      "7982/7982 [==============================] - 1s 89us/step - loss: 0.1520 - acc: 0.9538 - val_loss: 1.0131 - val_acc: 0.8040\n",
      "Epoch 15/20\n",
      "7982/7982 [==============================] - 1s 88us/step - loss: 0.1423 - acc: 0.9551 - val_loss: 1.0016 - val_acc: 0.8150\n",
      "Epoch 16/20\n",
      "7982/7982 [==============================] - 1s 88us/step - loss: 0.1298 - acc: 0.9563 - val_loss: 1.0292 - val_acc: 0.8100\n",
      "Epoch 17/20\n",
      "7982/7982 [==============================] - 1s 86us/step - loss: 0.1252 - acc: 0.9578 - val_loss: 1.0409 - val_acc: 0.8070\n",
      "Epoch 18/20\n",
      "7982/7982 [==============================] - 1s 87us/step - loss: 0.1222 - acc: 0.9568 - val_loss: 1.0950 - val_acc: 0.7910\n",
      "Epoch 19/20\n",
      "7982/7982 [==============================] - 1s 88us/step - loss: 0.1106 - acc: 0.9625 - val_loss: 1.0526 - val_acc: 0.8010\n",
      "Epoch 20/20\n",
      "7982/7982 [==============================] - 1s 89us/step - loss: 0.1139 - acc: 0.9572 - val_loss: 1.0410 - val_acc: 0.8120\n"
     ]
    }
   ],
   "source": [
    "history = model.fit(partial_x_train,\n",
    "                    partial_y_train,\n",
    "                    epochs=20,\n",
    "                    batch_size=512,\n",
    "                    validation_data=(x_val, y_val))\n"
   ]
  },
  {
   "cell_type": "code",
   "execution_count": 36,
   "metadata": {
    "colab": {
     "base_uri": "https://localhost:8080/",
     "height": 295
    },
    "colab_type": "code",
    "executionInfo": {
     "elapsed": 1115,
     "status": "ok",
     "timestamp": 1572887568070,
     "user": {
      "displayName": "Wiśniowa Broń",
      "photoUrl": "https://lh3.googleusercontent.com/a-/AAuE7mBi4q-e8bkML4qNfsnQStza4vsUvI718PMxayGypQ=s64",
      "userId": "10736110543973405951"
     },
     "user_tz": -60
    },
    "id": "BNzt85IdYkWg",
    "outputId": "b0013451-569c-46e4-8b37-4636bc7322be"
   },
   "outputs": [
    {
     "data": {
      "image/png": "[encoded data removed]",
      "text/plain": [
       "<Figure size 432x288 with 1 Axes>"
      ]
     },
     "metadata": {
      "tags": []
     },
     "output_type": "display_data"
    }
   ],
   "source": [
    "import matplotlib.pyplot as plt\n",
    "\n",
    "loss = history.history['loss']\n",
    "val_loss = history.history['val_loss']\n",
    "\n",
    "epochs = range(1, len(loss) + 1)\n",
    "\n",
    "plt.plot(epochs, loss, 'bo', label='Strata trenowania')\n",
    "plt.plot(epochs, val_loss, 'b', label='Strata walidacji')\n",
    "plt.title('Strata trenowania i walidacji')\n",
    "plt.xlabel('Epoki')\n",
    "plt.ylabel('Strata')\n",
    "plt.legend()\n",
    "\n",
    "plt.show()"
   ]
  },
  {
   "cell_type": "code",
   "execution_count": 37,
   "metadata": {
    "colab": {
     "base_uri": "https://localhost:8080/",
     "height": 295
    },
    "colab_type": "code",
    "executionInfo": {
     "elapsed": 1333,
     "status": "ok",
     "timestamp": 1572887573267,
     "user": {
      "displayName": "Wiśniowa Broń",
      "photoUrl": "https://lh3.googleusercontent.com/a-/AAuE7mBi4q-e8bkML4qNfsnQStza4vsUvI718PMxayGypQ=s64",
      "userId": "10736110543973405951"
     },
     "user_tz": -60
    },
    "id": "D4W5QNRYYmko",
    "outputId": "b99b3272-1e8a-4ee4-e2dc-1450234f9dee"
   },
   "outputs": [
    {
     "data": {
      "image/png": "[encoded data removed]",
      "text/plain": [
       "<Figure size 432x288 with 1 Axes>"
      ]
     },
     "metadata": {
      "tags": []
     },
     "output_type": "display_data"
    }
   ],
   "source": [
    "# plt.clf()   # Czyszczenie rysunku.\n",
    "\n",
    "acc = history.history['acc']\n",
    "val_acc = history.history['val_acc']\n",
    "\n",
    "plt.plot(epochs, acc, 'bo', label='Dokladnosc trenowania')\n",
    "plt.plot(epochs, val_acc, 'b', label='Dokladnosc walidacji')\n",
    "plt.title('Dokladnosc trenowania i walidacji')\n",
    "plt.xlabel('Epoki')\n",
    "plt.ylabel('Strata')\n",
    "plt.legend()\n",
    "\n",
    "plt.show()"
   ]
  },
  {
   "cell_type": "code",
   "execution_count": 39,
   "metadata": {
    "colab": {
     "base_uri": "https://localhost:8080/",
     "height": 323
    },
    "colab_type": "code",
    "executionInfo": {
     "elapsed": 7677,
     "status": "ok",
     "timestamp": 1572887889085,
     "user": {
      "displayName": "Wiśniowa Broń",
      "photoUrl": "https://lh3.googleusercontent.com/a-/AAuE7mBi4q-e8bkML4qNfsnQStza4vsUvI718PMxayGypQ=s64",
      "userId": "10736110543973405951"
     },
     "user_tz": -60
    },
    "id": "_Zn-gZm0Ys0P",
    "outputId": "54c392c4-f13a-49f6-d4a9-87799c2e84df"
   },
   "outputs": [
    {
     "name": "stdout",
     "output_type": "stream",
     "text": [
      "Train on 7982 samples, validate on 1000 samples\n",
      "Epoch 1/8\n",
      "7982/7982 [==============================] - 1s 145us/step - loss: 3.7895 - acc: 0.0529 - val_loss: 3.7517 - val_acc: 0.0520\n",
      "Epoch 2/8\n",
      "7982/7982 [==============================] - 1s 102us/step - loss: 3.7016 - acc: 0.0650 - val_loss: 3.6885 - val_acc: 0.0510\n",
      "Epoch 3/8\n",
      "7982/7982 [==============================] - 1s 102us/step - loss: 3.6173 - acc: 0.0663 - val_loss: 3.6152 - val_acc: 0.0590\n",
      "Epoch 4/8\n",
      "7982/7982 [==============================] - 1s 100us/step - loss: 3.5316 - acc: 0.0669 - val_loss: 3.5435 - val_acc: 0.0670\n",
      "Epoch 5/8\n",
      "7982/7982 [==============================] - 1s 102us/step - loss: 3.4427 - acc: 0.0901 - val_loss: 3.4701 - val_acc: 0.0630\n",
      "Epoch 6/8\n",
      "7982/7982 [==============================] - 1s 99us/step - loss: 3.3556 - acc: 0.0668 - val_loss: 3.3987 - val_acc: 0.0630\n",
      "Epoch 7/8\n",
      "7982/7982 [==============================] - 1s 100us/step - loss: 3.2627 - acc: 0.0665 - val_loss: 3.3145 - val_acc: 0.0620\n",
      "Epoch 8/8\n",
      "7982/7982 [==============================] - 1s 102us/step - loss: 3.1671 - acc: 0.0656 - val_loss: 3.2274 - val_acc: 0.0600\n",
      "2246/2246 [==============================] - 0s 70us/step\n"
     ]
    }
   ],
   "source": [
    "model = models.Sequential()\n",
    "model.add(layers.Dense(64, activation='relu', input_shape=(10000,)))\n",
    "model.add(layers.Dense(4, activation='relu'))\n",
    "model.add(layers.Dense(46, activation='softmax'))\n",
    "\n",
    "model.compile(optimizer='rmsprop',\n",
    "              loss='categorical_crossentropy',\n",
    "              metrics=['accuracy'])\n",
    "model.fit(partial_x_train,\n",
    "          partial_y_train,\n",
    "          epochs=8,\n",
    "          batch_size=512,\n",
    "          validation_data=(x_val, y_val))\n",
    "results = model.evaluate(x_test, one_hot_test_labels)"
   ]
  },
  {
   "cell_type": "code",
   "execution_count": 32,
   "metadata": {
    "colab": {
     "base_uri": "https://localhost:8080/",
     "height": 34
    },
    "colab_type": "code",
    "executionInfo": {
     "elapsed": 2286,
     "status": "ok",
     "timestamp": 1572887262524,
     "user": {
      "displayName": "Wiśniowa Broń",
      "photoUrl": "https://lh3.googleusercontent.com/a-/AAuE7mBi4q-e8bkML4qNfsnQStza4vsUvI718PMxayGypQ=s64",
      "userId": "10736110543973405951"
     },
     "user_tz": -60
    },
    "id": "l8oLb3xeYs3K",
    "outputId": "c1764578-a52c-4772-df95-a6b8604550c1"
   },
   "outputs": [
    {
     "data": {
      "text/plain": [
       "[0.9869184389989076, 0.7822796082188801]"
      ]
     },
     "execution_count": 32,
     "metadata": {
      "tags": []
     },
     "output_type": "execute_result"
    }
   ],
   "source": [
    "results"
   ]
  },
  {
   "cell_type": "code",
   "execution_count": 0,
   "metadata": {
    "colab": {},
    "colab_type": "code",
    "id": "m9wSwWHoYs54"
   },
   "outputs": [],
   "source": [
    "y_train = np.array(train_labels)\n",
    "y_test = np.array(test_labels)\n",
    "model.compile(optimizer='rmsprop', loss='sparse_categorical_crossentropy', metrics=['acc'])"
   ]
  },
  {
   "cell_type": "code",
   "execution_count": 41,
   "metadata": {
    "colab": {
     "base_uri": "https://localhost:8080/",
     "height": 323
    },
    "colab_type": "code",
    "executionInfo": {
     "elapsed": 9209,
     "status": "ok",
     "timestamp": 1572887940352,
     "user": {
      "displayName": "Wiśniowa Broń",
      "photoUrl": "https://lh3.googleusercontent.com/a-/AAuE7mBi4q-e8bkML4qNfsnQStza4vsUvI718PMxayGypQ=s64",
      "userId": "10736110543973405951"
     },
     "user_tz": -60
    },
    "id": "tFDNbL-4ZTMs",
    "outputId": "aca37730-8734-4d9a-9960-680b2c73c886"
   },
   "outputs": [
    {
     "name": "stdout",
     "output_type": "stream",
     "text": [
      "Train on 7982 samples, validate on 1000 samples\n",
      "Epoch 1/8\n",
      "7982/7982 [==============================] - 1s 170us/step - loss: 1.8181 - acc: 0.6288 - val_loss: 1.2101 - val_acc: 0.7180\n",
      "Epoch 2/8\n",
      "7982/7982 [==============================] - 1s 129us/step - loss: 0.9759 - acc: 0.7850 - val_loss: 1.0124 - val_acc: 0.7630\n",
      "Epoch 3/8\n",
      "7982/7982 [==============================] - 1s 129us/step - loss: 0.6631 - acc: 0.8525 - val_loss: 0.9254 - val_acc: 0.8060\n",
      "Epoch 4/8\n",
      "7982/7982 [==============================] - 1s 126us/step - loss: 0.4578 - acc: 0.9024 - val_loss: 0.8852 - val_acc: 0.8090\n",
      "Epoch 5/8\n",
      "7982/7982 [==============================] - 1s 124us/step - loss: 0.3356 - acc: 0.9251 - val_loss: 0.8675 - val_acc: 0.8220\n",
      "Epoch 6/8\n",
      "7982/7982 [==============================] - 1s 125us/step - loss: 0.2582 - acc: 0.9399 - val_loss: 0.9242 - val_acc: 0.8100\n",
      "Epoch 7/8\n",
      "7982/7982 [==============================] - 1s 127us/step - loss: 0.2135 - acc: 0.9466 - val_loss: 0.8892 - val_acc: 0.8290\n",
      "Epoch 8/8\n",
      "7982/7982 [==============================] - 1s 127us/step - loss: 0.1829 - acc: 0.9518 - val_loss: 0.9357 - val_acc: 0.8220\n"
     ]
    },
    {
     "data": {
      "text/plain": [
       "<keras.callbacks.History at 0x7f65f8d952b0>"
      ]
     },
     "execution_count": 41,
     "metadata": {
      "tags": []
     },
     "output_type": "execute_result"
    }
   ],
   "source": [
    "model = models.Sequential()\n",
    "model.add(layers.Dense(64, activation='relu', input_shape=(10000,)))\n",
    "model.add(layers.Dense(64, activation='relu'))\n",
    "model.add(layers.Dense(46, activation='softmax'))\n",
    "\n",
    "model.compile(optimizer='rmsprop',\n",
    "              loss='categorical_crossentropy',\n",
    "              metrics=['accuracy'])\n",
    "model.fit(partial_x_train,\n",
    "          partial_y_train,\n",
    "          epochs=8,\n",
    "          batch_size=128,\n",
    "          validation_data=(x_val, y_val))"
   ]
  },
  {
   "cell_type": "code",
   "execution_count": 0,
   "metadata": {
    "colab": {},
    "colab_type": "code",
    "id": "rWGhp_PZZTRL"
   },
   "outputs": [],
   "source": [
    "#Acc: 0.8898  epok 20, De#Acc: 0.8898  epok 20, Dense 64 relu, Dense 4 relu, Dense 46 softmax\n",
    "#Acc: 0.9386   epok 20, De#Acc: 0.8898  epok 20, Dense 64 relu, Dense 16 relu, Dense 46 softmax\n",
    "#Acc: 0.4092   epok 20, De#Acc: 0.8898  epok 20, Dense 64 relu, Dense 1 relu, Dense 46 softmax wąskie gardło na 2 warstwie"
   ]
  }
 ],
 "metadata": {
  "colab": {
   "collapsed_sections": [],
   "name": "Klasyfikacja wieloraka.ipynb",
   "provenance": []
  },
  "kernelspec": {
   "display_name": "Python 3",
   "language": "python",
   "name": "python3"
  },
  "language_info": {
   "codemirror_mode": {
    "name": "ipython",
    "version": 3
   },
   "file_extension": ".py",
   "mimetype": "text/x-python",
   "name": "python",
   "nbconvert_exporter": "python",
   "pygments_lexer": "ipython3",
   "version": "3.7.1"
  }
 },
 "nbformat": 4,
 "nbformat_minor": 1
}
