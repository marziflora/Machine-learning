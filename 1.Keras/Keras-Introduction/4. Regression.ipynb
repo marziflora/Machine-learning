{
 "cells": [
  {
   "cell_type": "code",
   "execution_count": 1,
   "metadata": {
    "colab": {
     "base_uri": "https://localhost:8080/",
     "height": 97
    },
    "colab_type": "code",
    "executionInfo": {
     "elapsed": 2260,
     "status": "ok",
     "timestamp": 1572888722824,
     "user": {
      "displayName": "Wiśniowa Broń",
      "photoUrl": "https://lh3.googleusercontent.com/a-/AAuE7mBi4q-e8bkML4qNfsnQStza4vsUvI718PMxayGypQ=s64",
      "userId": "10736110543973405951"
     },
     "user_tz": -60
    },
    "id": "5T-bNABKeJoF",
    "outputId": "70207308-ce81-4b3d-c9ba-434208c83641"
   },
   "outputs": [
    {
     "name": "stderr",
     "output_type": "stream",
     "text": [
      "Using TensorFlow backend.\n"
     ]
    },
    {
     "data": {
      "text/plain": [
       "'2.2.4'"
      ]
     },
     "execution_count": 1,
     "metadata": {},
     "output_type": "execute_result"
    }
   ],
   "source": [
    "import keras\n",
    "keras.__version__"
   ]
  },
  {
   "cell_type": "code",
   "execution_count": 2,
   "metadata": {
    "colab": {
     "base_uri": "https://localhost:8080/",
     "height": 51
    },
    "colab_type": "code",
    "executionInfo": {
     "elapsed": 663,
     "status": "ok",
     "timestamp": 1572888731033,
     "user": {
      "displayName": "Wiśniowa Broń",
      "photoUrl": "https://lh3.googleusercontent.com/a-/AAuE7mBi4q-e8bkML4qNfsnQStza4vsUvI718PMxayGypQ=s64",
      "userId": "10736110543973405951"
     },
     "user_tz": -60
    },
    "id": "4bd2D7UkeT7p",
    "outputId": "d5d42555-ac2a-4650-8b04-8a61c513827f"
   },
   "outputs": [],
   "source": [
    "from keras.datasets import boston_housing\n",
    "\n",
    "(train_data, train_targets), (test_data, test_targets) =  boston_housing.load_data()"
   ]
  },
  {
   "cell_type": "code",
   "execution_count": 3,
   "metadata": {
    "colab": {
     "base_uri": "https://localhost:8080/",
     "height": 34
    },
    "colab_type": "code",
    "executionInfo": {
     "elapsed": 592,
     "status": "ok",
     "timestamp": 1572888731482,
     "user": {
      "displayName": "Wiśniowa Broń",
      "photoUrl": "https://lh3.googleusercontent.com/a-/AAuE7mBi4q-e8bkML4qNfsnQStza4vsUvI718PMxayGypQ=s64",
      "userId": "10736110543973405951"
     },
     "user_tz": -60
    },
    "id": "i1u7-7vdeT-b",
    "outputId": "7a9591bb-f43b-40c3-ed13-491e535299ac"
   },
   "outputs": [
    {
     "data": {
      "text/plain": [
       "(404, 13)"
      ]
     },
     "execution_count": 3,
     "metadata": {},
     "output_type": "execute_result"
    }
   ],
   "source": [
    "train_data.shape"
   ]
  },
  {
   "cell_type": "code",
   "execution_count": 4,
   "metadata": {
    "colab": {
     "base_uri": "https://localhost:8080/",
     "height": 34
    },
    "colab_type": "code",
    "executionInfo": {
     "elapsed": 611,
     "status": "ok",
     "timestamp": 1572888736856,
     "user": {
      "displayName": "Wiśniowa Broń",
      "photoUrl": "https://lh3.googleusercontent.com/a-/AAuE7mBi4q-e8bkML4qNfsnQStza4vsUvI718PMxayGypQ=s64",
      "userId": "10736110543973405951"
     },
     "user_tz": -60
    },
    "id": "f_EbNXgceUB6",
    "outputId": "014cbc7c-5183-4349-d2db-61157fff6ee5"
   },
   "outputs": [
    {
     "data": {
      "text/plain": [
       "(102, 13)"
      ]
     },
     "execution_count": 4,
     "metadata": {},
     "output_type": "execute_result"
    }
   ],
   "source": [
    "# Współczynnik przestępczości\n",
    "# Część działek o powierzchni przekraczającej 2300 metrów kwadratowych.\n",
    "# Część powierzchni działek działalności gospodarczych nie zajmujących się sprzedażą.\n",
    "# Sztuczna zmienna rzeki Charles River (= 1 jeżeli działka znajduje się przy rzece; 0 w pozostałych przypadkach).\n",
    "# Stopień koncentracji tlenków azotu(cząstek na 10 milionów).\n",
    "# Średnia liczba pokoi w budynku.\n",
    "# Część mieszkań zajętych przez właścicieli, które zostały wybudowane przed rokiem 1940.\n",
    "# Średnia ważona odległości od pięciu stref, w których znajduje się najwięcej zakładów pracy.\n",
    "# Indeks dostępności dróg szybkiego ruchu\n",
    "# Pełny podatek od nieruchomości za 10000 $.\n",
    "# Stosunek liczby uczniów do liczby nauczycieli.\n",
    "# 1000 * (Bk - 0.63) ** 2, gdzie Bk ułamkiem czarnoskórej ludności miasta.\n",
    "# % niższego statusu populacji.\n",
    "test_data.shape"
   ]
  },
  {
   "cell_type": "code",
   "execution_count": 5,
   "metadata": {
    "colab": {
     "base_uri": "https://localhost:8080/",
     "height": 238
    },
    "colab_type": "code",
    "executionInfo": {
     "elapsed": 593,
     "status": "ok",
     "timestamp": 1572888962947,
     "user": {
      "displayName": "Wiśniowa Broń",
      "photoUrl": "https://lh3.googleusercontent.com/a-/AAuE7mBi4q-e8bkML4qNfsnQStza4vsUvI718PMxayGypQ=s64",
      "userId": "10736110543973405951"
     },
     "user_tz": -60
    },
    "id": "0PEgxIDifJRw",
    "outputId": "a1698140-5a34-4e9b-a394-346f1c764965"
   },
   "outputs": [
    {
     "data": {
      "text/plain": [
       "(404, 13)"
      ]
     },
     "execution_count": 5,
     "metadata": {},
     "output_type": "execute_result"
    }
   ],
   "source": [
    "train_data.shape"
   ]
  },
  {
   "cell_type": "code",
   "execution_count": 6,
   "metadata": {
    "colab": {},
    "colab_type": "code",
    "id": "9IMk7s2wfcK4"
   },
   "outputs": [],
   "source": [
    "mean = train_data.mean(axis=0)\n",
    "train_data -= mean\n",
    "std = train_data.std(axis=0)\n",
    "train_data /= std\n",
    "\n",
    "test_data -= mean\n",
    "test_data /= std"
   ]
  },
  {
   "cell_type": "code",
   "execution_count": 7,
   "metadata": {
    "colab": {},
    "colab_type": "code",
    "id": "mAK98u2bfibm"
   },
   "outputs": [],
   "source": [
    "from keras import models\n",
    "from keras import layers\n",
    "\n",
    "def build_model():\n",
    "    model = models.Sequential()\n",
    "    model.add(layers.Dense(64, activation='relu',\n",
    "                           input_shape=(train_data.shape[1],)))\n",
    "    model.add(layers.Dense(64, activation='relu'))\n",
    "    model.add(layers.Dense(1))\n",
    "    model.compile(optimizer='rmsprop', loss='mse', metrics=['mae'])\n",
    "    return model"
   ]
  },
  {
   "cell_type": "code",
   "execution_count": 8,
   "metadata": {
    "colab": {
     "base_uri": "https://localhost:8080/",
     "height": 493
    },
    "colab_type": "code",
    "executionInfo": {
     "elapsed": 102046,
     "status": "ok",
     "timestamp": 1572889171980,
     "user": {
      "displayName": "Wiśniowa Broń",
      "photoUrl": "https://lh3.googleusercontent.com/a-/AAuE7mBi4q-e8bkML4qNfsnQStza4vsUvI718PMxayGypQ=s64",
      "userId": "10736110543973405951"
     },
     "user_tz": -60
    },
    "id": "IAKnZHMifncv",
    "outputId": "6883274a-0f8a-4521-e46a-dfd7a2488b5a"
   },
   "outputs": [
    {
     "name": "stdout",
     "output_type": "stream",
     "text": [
      "processing fold # 0\n",
      "WARNING:tensorflow:From C:\\Anaconda\\lib\\site-packages\\tensorflow\\python\\framework\\op_def_library.py:263: colocate_with (from tensorflow.python.framework.ops) is deprecated and will be removed in a future version.\n",
      "Instructions for updating:\n",
      "Colocations handled automatically by placer.\n",
      "WARNING:tensorflow:From C:\\Anaconda\\lib\\site-packages\\tensorflow\\python\\ops\\math_ops.py:3066: to_int32 (from tensorflow.python.ops.math_ops) is deprecated and will be removed in a future version.\n",
      "Instructions for updating:\n",
      "Use tf.cast instead.\n",
      "processing fold # 1\n",
      "processing fold # 2\n",
      "processing fold # 3\n"
     ]
    }
   ],
   "source": [
    "import numpy as np\n",
    "\n",
    "k = 4\n",
    "num_val_samples = len(train_data) // k\n",
    "num_epochs = 100\n",
    "all_scores = []\n",
    "for i in range(k):\n",
    "    print('processing fold #', i)\n",
    "    val_data = train_data[i * num_val_samples: (i + 1) * num_val_samples]\n",
    "    val_targets = train_targets[i * num_val_samples: (i + 1) * num_val_samples]\n",
    "\n",
    "    partial_train_data = np.concatenate(\n",
    "        [train_data[:i * num_val_samples],\n",
    "         train_data[(i + 1) * num_val_samples:]],\n",
    "        axis=0)\n",
    "    partial_train_targets = np.concatenate(\n",
    "        [train_targets[:i * num_val_samples],\n",
    "         train_targets[(i + 1) * num_val_samples:]],\n",
    "        axis=0)\n",
    "\n",
    "    model = build_model()\n",
    "    model.fit(partial_train_data, partial_train_targets,\n",
    "              epochs=num_epochs, batch_size=1, verbose=0)\n",
    "    val_mse, val_mae = model.evaluate(val_data, val_targets, verbose=0)\n",
    "    all_scores.append(val_mae)"
   ]
  },
  {
   "cell_type": "code",
   "execution_count": 9,
   "metadata": {
    "colab": {
     "base_uri": "https://localhost:8080/",
     "height": 34
    },
    "colab_type": "code",
    "executionInfo": {
     "elapsed": 97991,
     "status": "ok",
     "timestamp": 1572889171982,
     "user": {
      "displayName": "Wiśniowa Broń",
      "photoUrl": "https://lh3.googleusercontent.com/a-/AAuE7mBi4q-e8bkML4qNfsnQStza4vsUvI718PMxayGypQ=s64",
      "userId": "10736110543973405951"
     },
     "user_tz": -60
    },
    "id": "Mwimju3Dfnfy",
    "outputId": "2ebd966e-0ee0-4869-f297-d25ba166fa0b"
   },
   "outputs": [
    {
     "data": {
      "text/plain": [
       "[2.0686525224459054,\n",
       " 2.2371535867747694,\n",
       " 2.8491345821040692,\n",
       " 2.2463712043101243]"
      ]
     },
     "execution_count": 9,
     "metadata": {},
     "output_type": "execute_result"
    }
   ],
   "source": [
    "all_scores"
   ]
  },
  {
   "cell_type": "code",
   "execution_count": 10,
   "metadata": {
    "colab": {
     "base_uri": "https://localhost:8080/",
     "height": 34
    },
    "colab_type": "code",
    "executionInfo": {
     "elapsed": 990,
     "status": "ok",
     "timestamp": 1572889173013,
     "user": {
      "displayName": "Wiśniowa Broń",
      "photoUrl": "https://lh3.googleusercontent.com/a-/AAuE7mBi4q-e8bkML4qNfsnQStza4vsUvI718PMxayGypQ=s64",
      "userId": "10736110543973405951"
     },
     "user_tz": -60
    },
    "id": "9Vq-_NjPfnhz",
    "outputId": "a148f78e-5e0a-47f7-8fe0-c7d79bb4ea84"
   },
   "outputs": [
    {
     "data": {
      "text/plain": [
       "2.3503279739087173"
      ]
     },
     "execution_count": 10,
     "metadata": {},
     "output_type": "execute_result"
    }
   ],
   "source": [
    "np.mean(all_scores)"
   ]
  },
  {
   "cell_type": "code",
   "execution_count": 11,
   "metadata": {
    "colab": {
     "base_uri": "https://localhost:8080/",
     "height": 153
    },
    "colab_type": "code",
    "executionInfo": {
     "elapsed": 630262,
     "status": "ok",
     "timestamp": 1572889816162,
     "user": {
      "displayName": "Wiśniowa Broń",
      "photoUrl": "https://lh3.googleusercontent.com/a-/AAuE7mBi4q-e8bkML4qNfsnQStza4vsUvI718PMxayGypQ=s64",
      "userId": "10736110543973405951"
     },
     "user_tz": -60
    },
    "id": "KRbqfdGzfnkP",
    "outputId": "f3192013-590b-4edd-89bb-d21d35860849"
   },
   "outputs": [
    {
     "name": "stdout",
     "output_type": "stream",
     "text": [
      "processing fold # 0\n",
      "processing fold # 1\n",
      "processing fold # 2\n",
      "processing fold # 3\n"
     ]
    }
   ],
   "source": [
    "from keras import backend as K\n",
    "\n",
    "K.clear_session()\n",
    "num_epochs = 500\n",
    "all_mae_histories = []\n",
    "for i in range(k):\n",
    "    print('processing fold #', i)\n",
    "    val_data = train_data[i * num_val_samples: (i + 1) * num_val_samples]\n",
    "    val_targets = train_targets[i * num_val_samples: (i + 1) * num_val_samples]\n",
    "\n",
    "    partial_train_data = np.concatenate(\n",
    "        [train_data[:i * num_val_samples],\n",
    "         train_data[(i + 1) * num_val_samples:]],\n",
    "        axis=0)\n",
    "    partial_train_targets = np.concatenate(\n",
    "        [train_targets[:i * num_val_samples],\n",
    "         train_targets[(i + 1) * num_val_samples:]],\n",
    "        axis=0)\n",
    "\n",
    "    model = build_model()\n",
    "    history = model.fit(partial_train_data, partial_train_targets,\n",
    "                        validation_data=(val_data, val_targets),\n",
    "                        epochs=num_epochs, batch_size=1, verbose=0)\n",
    "    mae_history = history.history['val_mean_absolute_error']\n",
    "    all_mae_histories.append(mae_history)"
   ]
  },
  {
   "cell_type": "code",
   "execution_count": 12,
   "metadata": {
    "colab": {},
    "colab_type": "code",
    "id": "1KdjwJwYgHkx"
   },
   "outputs": [],
   "source": [
    "average_mae_history = [np.mean([x[i] for x in all_mae_histories]) for i in range(num_epochs)]"
   ]
  },
  {
   "cell_type": "code",
   "execution_count": 13,
   "metadata": {
    "colab": {
     "base_uri": "https://localhost:8080/",
     "height": 281
    },
    "colab_type": "code",
    "executionInfo": {
     "elapsed": 1037,
     "status": "ok",
     "timestamp": 1572889817974,
     "user": {
      "displayName": "Wiśniowa Broń",
      "photoUrl": "https://lh3.googleusercontent.com/a-/AAuE7mBi4q-e8bkML4qNfsnQStza4vsUvI718PMxayGypQ=s64",
      "userId": "10736110543973405951"
     },
     "user_tz": -60
    },
    "id": "Af3CGukYgHmf",
    "outputId": "e96b1b86-2694-4571-c767-f8d4a3c32f0f"
   },
   "outputs": [
    {
     "data": {
      "text/plain": [
       "<Figure size 640x480 with 1 Axes>"
      ]
     },
     "metadata": {},
     "output_type": "display_data"
    }
   ],
   "source": [
    "import matplotlib.pyplot as plt\n",
    "\n",
    "plt.plot(range(1, len(average_mae_history) + 1), average_mae_history)\n",
    "plt.xlabel('Liczba epok')\n",
    "plt.ylabel('Sredni blad bezwzgledny')\n",
    "plt.show()"
   ]
  },
  {
   "cell_type": "code",
   "execution_count": 14,
   "metadata": {
    "colab": {
     "base_uri": "https://localhost:8080/",
     "height": 279
    },
    "colab_type": "code",
    "executionInfo": {
     "elapsed": 1356,
     "status": "ok",
     "timestamp": 1572889818336,
     "user": {
      "displayName": "Wiśniowa Broń",
      "photoUrl": "https://lh3.googleusercontent.com/a-/AAuE7mBi4q-e8bkML4qNfsnQStza4vsUvI718PMxayGypQ=s64",
      "userId": "10736110543973405951"
     },
     "user_tz": -60
    },
    "id": "r3Is52dTgHpH",
    "outputId": "4fed025e-d8a8-4f9a-c1d1-0a7c6701a732"
   },
   "outputs": [
    {
     "data": {
      "image/png": "[encoded data removed]",
      "text/plain": [
       "<Figure size 432x288 with 1 Axes>"
      ]
     },
     "metadata": {
      "needs_background": "light"
     },
     "output_type": "display_data"
    }
   ],
   "source": [
    "def smooth_curve(points, factor=0.9):\n",
    "  smoothed_points = []\n",
    "  for point in points:\n",
    "    if smoothed_points:\n",
    "      previous = smoothed_points[-1]\n",
    "      smoothed_points.append(previous * factor + point * (1 - factor))\n",
    "    else:\n",
    "      smoothed_points.append(point)\n",
    "  return smoothed_points\n",
    "\n",
    "smooth_mae_history = smooth_curve(average_mae_history[10:])\n",
    "\n",
    "plt.plot(range(1, len(smooth_mae_history) + 1), smooth_mae_history)\n",
    "plt.xlabel('Liczba epok')\n",
    "plt.ylabel('Sredni blad bezwzgledny')\n",
    "plt.show()"
   ]
  },
  {
   "cell_type": "code",
   "execution_count": 15,
   "metadata": {
    "colab": {
     "base_uri": "https://localhost:8080/",
     "height": 34
    },
    "colab_type": "code",
    "executionInfo": {
     "elapsed": 3098,
     "status": "ok",
     "timestamp": 1572889904846,
     "user": {
      "displayName": "Wiśniowa Broń",
      "photoUrl": "https://lh3.googleusercontent.com/a-/AAuE7mBi4q-e8bkML4qNfsnQStza4vsUvI718PMxayGypQ=s64",
      "userId": "10736110543973405951"
     },
     "user_tz": -60
    },
    "id": "Ig_b_mIugHj2",
    "outputId": "e46af578-96f4-480e-fb40-a840747bfa7a"
   },
   "outputs": [
    {
     "name": "stdout",
     "output_type": "stream",
     "text": [
      "102/102 [==============================] - 0s 1ms/step\n"
     ]
    }
   ],
   "source": [
    "model = build_model()\n",
    "\n",
    "model.fit(train_data, train_targets,\n",
    "          epochs=80, batch_size=16, verbose=0)\n",
    "test_mse_score, test_mae_score = model.evaluate(test_data, test_targets)"
   ]
  },
  {
   "cell_type": "code",
   "execution_count": 16,
   "metadata": {
    "colab": {
     "base_uri": "https://localhost:8080/",
     "height": 34
    },
    "colab_type": "code",
    "executionInfo": {
     "elapsed": 1162,
     "status": "ok",
     "timestamp": 1572889906011,
     "user": {
      "displayName": "Wiśniowa Broń",
      "photoUrl": "https://lh3.googleusercontent.com/a-/AAuE7mBi4q-e8bkML4qNfsnQStza4vsUvI718PMxayGypQ=s64",
      "userId": "10736110543973405951"
     },
     "user_tz": -60
    },
    "id": "fQZusDgtgHgH",
    "outputId": "7da60145-d75e-4a56-ff61-e86f39379d4c"
   },
   "outputs": [
    {
     "data": {
      "text/plain": [
       "2.679662601620543"
      ]
     },
     "execution_count": 16,
     "metadata": {},
     "output_type": "execute_result"
    }
   ],
   "source": [
    "test_mae_score"
   ]
  }
 ],
 "metadata": {
  "colab": {
   "name": "Regresja.ipynb",
   "provenance": []
  },
  "kernelspec": {
   "display_name": "Python 3",
   "language": "python",
   "name": "python3"
  },
  "language_info": {
   "codemirror_mode": {
    "name": "ipython",
    "version": 3
   },
   "file_extension": ".py",
   "mimetype": "text/x-python",
   "name": "python",
   "nbconvert_exporter": "python",
   "pygments_lexer": "ipython3",
   "version": "3.7.1"
  }
 },
 "nbformat": 4,
 "nbformat_minor": 1
}
