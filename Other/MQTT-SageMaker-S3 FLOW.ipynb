{
 "cells": [
  {
   "cell_type": "code",
   "execution_count": null,
   "metadata": {},
   "outputs": [],
   "source": [
    "import paho.mqtt.client as mqtt\n",
    "import os\n",
    "import socket\n",
    "import ssl\n",
    "import time\n",
    "import json\n",
    "import pandas as pd\n",
    "from keras.models import load_model, model_from_json\n",
    "import numpy as np \n",
    "import boto3\n",
    "from datetime import datetime\n",
    "\n",
    "s3 = boto3.resource('s3')"
   ]
  },
  {
   "cell_type": "code",
   "execution_count": null,
   "metadata": {},
   "outputs": [],
   "source": [
    "import time\n",
    "from datetime import datetime\n",
    "\n",
    "df = pd.read_csv(\"df_mqtt.csv\", header=0)\n",
    "\n",
    "def on_connect(client, userdata, flags, rc):\n",
    "    print(\"Connection returned result: \" + str(rc) )\n",
    "    client.subscribe(\"channel\" , 1 )\n",
    "    \n",
    "def on_subscribe(mosq, obj, mid, granted_qos):\n",
    "#     print(\"Subscribed: \" + str(mid) + \" \" + str(granted_qos))\n",
    "    pass\n",
    "    \n",
    "def on_message(client, userdata, msg):\n",
    "    global df\n",
    "    mess = msg.payload\n",
    "    mess = json.loads(mess.decode('utf8'))\n",
    "    file_name = len(df)+1\n",
    "    frame1 = [file_name, (mess[\"timestamp\"]), (mess[\"value_x\"]), (mess[\"value_y\"]), (mess[\"value_z\"]), False]\n",
    "    columns = ['measurement', 'timestamp', 'value_x', 'value_y', 'value_z', 'anomaly']\n",
    "    frame = pd.DataFrame( [frame1], columns=columns)\n",
    "    df = df.append(frame, sort=False)\n",
    "#     print(df)\n",
    "\n",
    "mqttc = mqtt.Client(\"P1\")\n",
    "mqttc.on_connect = on_connect\n",
    "mqttc.on_message = on_message\n",
    "mqttc.on_subscribe = on_subscribe\n",
    "\n",
    "awshost = \"a24k1vf8fdqaq9-ats.iot.eu-central-1.amazonaws.com\"\n",
    "awsport = 8883\n",
    "clientId = \"prodline_unity\"\n",
    "thingName = \"prodline_unity\"\n",
    "# Root Certificate Path\n",
    "caPath = \"AmazonRootCA1.crt\"\n",
    "# Certificate Path\n",
    "certPath = \"89920469b5-certificate.pem.crt\"\n",
    "# Private Key Certificate Path\n",
    "keyPath = \"89920469b5-private.pem.key\"\n",
    "mqttc.tls_set(caPath, certfile=certPath, keyfile=keyPath, cert_reqs=ssl.CERT_REQUIRED, tls_version=ssl.PROTOCOL_TLSv1_2, ciphers=None)\n",
    "mqttc.connect(awshost, awsport, keepalive=60)\n",
    "# mqttc.subscribe(\"prodline/test\")"
   ]
  },
  {
   "cell_type": "code",
   "execution_count": null,
   "metadata": {
    "scrolled": true
   },
   "outputs": [],
   "source": [
    "mqttc.loop_start()\n",
    "# time.sleep(10)\n",
    "\n",
    "with open('model_acc_sensor_popr.json', 'r') as f:\n",
    "    model = model_from_json(f.read())\n",
    "model.load_weights('model_acc_sensor_popr.h5')\n",
    "old_df = 0\n",
    "\n",
    "while True: \n",
    "    if len(df) != old_df:\n",
    "        \n",
    "        if len(df) >= 3: #7 CECH\n",
    "            x = df.tail(3).iloc[:,2].values\n",
    "            y = df.tail(3).iloc[:,3].values\n",
    "            z = df.tail(3).iloc[:,4].values\n",
    "            for i in range(0,3):\n",
    "                licz=0\n",
    "                if (220<np.abs(x)[i]<280):\n",
    "                    licz+=1\n",
    "                if (220<np.abs(y)[i]<280):\n",
    "                    licz+=1\n",
    "                if (220<np.abs(z)[i]<280):\n",
    "                    licz+=1\n",
    "            xyz = np.array([[np.mean(abs(x)), np.std(abs(x)), np.mean(abs(y)), np.std(abs(y)), np.mean(abs(z)), np.std(abs(z)), licz]])\n",
    "            pred = model.predict(xyz)\n",
    "            print(pred)\n",
    "            old_df = len(df)\n",
    "            if pred[0][0] <= 0.5 and pred[0][1] >= 0.5:\n",
    "                anomaly = True\n",
    "                df.iloc[-1:,5] = True\n",
    "                print(\"anomalia\")\n",
    "            elif pred[0][0] >= 0.5 and pred[0][1] < 0.5:\n",
    "                anomaly = False\n",
    "\n",
    "            if df.anomaly.tail(1).values != df.anomaly.tail(2).head(1).values:\n",
    "                data = str(anomaly)\n",
    "                path = 'output/' + str(len(df)) + \".json\"\n",
    "                s3.Bucket(\"intern\").put_object(Key=path, Body=data, ACL=\"public-read-write\") \n",
    "                print(\"Saved\")           \n",
    "    else:\n",
    "        pass\n",
    "\n",
    "\n",
    "mqttc.loop_stop()\n",
    "mqttc.disconnect()"
   ]
  },
  {
   "cell_type": "code",
   "execution_count": 5,
   "metadata": {},
   "outputs": [
    {
     "data": {
      "image/png": "[encoded data removed]",
      "text/plain": [
       "<Figure size 1440x216 with 1 Axes>"
      ]
     },
     "metadata": {},
     "output_type": "display_data"
    }
   ],
   "source": [
    "time = []\n",
    "\n",
    "for i in range(2,len(df)):\n",
    "    data = df[:i]\n",
    "    time1 = [(float(data.timestamp.tail(1))-float(data.timestamp.tail(2).head(1)))]\n",
    "    time.append(time1)\n",
    "    \n",
    "import matplotlib.pyplot as plt\n",
    "plt.figure(figsize=(20, 3))\n",
    "plt.plot(time)\n",
    "plt.show()"
   ]
  },
  {
   "cell_type": "code",
   "execution_count": 6,
   "metadata": {},
   "outputs": [
    {
     "data": {
      "text/html": [
       "<div>\n",
       "<style scoped>\n",
       "    .dataframe tbody tr th:only-of-type {\n",
       "        vertical-align: middle;\n",
       "    }\n",
       "\n",
       "    .dataframe tbody tr th {\n",
       "        vertical-align: top;\n",
       "    }\n",
       "\n",
       "    .dataframe thead th {\n",
       "        text-align: right;\n",
       "    }\n",
       "</style>\n",
       "<table border=\"1\" class=\"dataframe\">\n",
       "  <thead>\n",
       "    <tr style=\"text-align: right;\">\n",
       "      <th></th>\n",
       "      <th>measurement</th>\n",
       "      <th>timestamp</th>\n",
       "      <th>value_x</th>\n",
       "      <th>value_y</th>\n",
       "      <th>value_z</th>\n",
       "      <th>anomaly</th>\n",
       "    </tr>\n",
       "  </thead>\n",
       "  <tbody>\n",
       "    <tr>\n",
       "      <th>0</th>\n",
       "      <td>0</td>\n",
       "      <td>0.0</td>\n",
       "      <td>0</td>\n",
       "      <td>0</td>\n",
       "      <td>0</td>\n",
       "      <td>False</td>\n",
       "    </tr>\n",
       "  </tbody>\n",
       "</table>\n",
       "</div>"
      ],
      "text/plain": [
       "   measurement  timestamp  value_x  value_y  value_z  anomaly\n",
       "0            0        0.0        0        0        0    False"
      ]
     },
     "execution_count": 6,
     "metadata": {},
     "output_type": "execute_result"
    }
   ],
   "source": [
    "import pandas as pd\n",
    "df = pd.read_csv(\"df_mqtt.csv\", header=0)\n",
    "df"
   ]
  },
  {
   "cell_type": "code",
   "execution_count": null,
   "metadata": {},
   "outputs": [],
   "source": [
    "import boto3 \n",
    "import os\n",
    "\n",
    "def delete_files_s3(x):\n",
    "    s3 = boto3.resource('s3')\n",
    "    i=1\n",
    "    for i in range(0,x):\n",
    "        path = 'output/' + str(i) + '.json'\n",
    "        s3.Object('intern', path).delete()\n",
    "        i+=1\n",
    "delete_files_s3(1000)\n"
   ]
  }
 ],
 "metadata": {
  "kernelspec": {
   "display_name": "Python 3",
   "language": "python",
   "name": "python3"
  },
  "language_info": {
   "codemirror_mode": {
    "name": "ipython",
    "version": 3
   },
   "file_extension": ".py",
   "mimetype": "text/x-python",
   "name": "python",
   "nbconvert_exporter": "python",
   "pygments_lexer": "ipython3",
   "version": "3.7.1"
  }
 },
 "nbformat": 4,
 "nbformat_minor": 2
}
